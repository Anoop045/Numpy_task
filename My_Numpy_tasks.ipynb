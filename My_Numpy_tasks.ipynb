{
  "cells": [
    {
      "cell_type": "markdown",
      "metadata": {
        "id": "P1s5VX-Fx5NP"
      },
      "source": [
        "# Numpy\n",
        "\n"
      ]
    },
    {
      "cell_type": "markdown",
      "metadata": {
        "id": "Xa6yhxkCx5NW"
      },
      "source": [
        "#### 1. Import the numpy package under the name `np` (★☆☆) \n",
        "(**hint**: import … as …)"
      ]
    },
    {
      "cell_type": "code",
      "execution_count": 217,
      "metadata": {
        "collapsed": true,
        "id": "a7UT75cWx5NX"
      },
      "outputs": [],
      "source": [
        "import numpy as np\n"
      ]
    },
    {
      "cell_type": "markdown",
      "metadata": {
        "id": "NsfvojkAx5NZ"
      },
      "source": [
        "#### 2. Print the numpy version and the configuration (★☆☆) \n",
        "(**hint**: np.\\_\\_version\\_\\_, np.show\\_config)"
      ]
    },
    {
      "cell_type": "code",
      "execution_count": null,
      "metadata": {
        "id": "ytL6A7mcx5NZ",
        "colab": {
          "base_uri": "https://localhost:8080/"
        },
        "outputId": "214dd05c-4219-45b4-b752-0bf0a39b4ef5"
      },
      "outputs": [
        {
          "output_type": "stream",
          "name": "stdout",
          "text": [
            "1.21.6\n"
          ]
        },
        {
          "output_type": "execute_result",
          "data": {
            "text/plain": [
              "<function numpy.__config__.show()>"
            ]
          },
          "metadata": {},
          "execution_count": 127
        }
      ],
      "source": [
        "print(np.__version__)\n",
        "np.show_config"
      ]
    },
    {
      "cell_type": "markdown",
      "metadata": {
        "id": "lCEZ_KYHx5Na"
      },
      "source": [
        "#### 3. Create a null vector of size 10 (★☆☆) \n",
        "(**hint**: np.zeros)"
      ]
    },
    {
      "cell_type": "code",
      "execution_count": null,
      "metadata": {
        "id": "BlmoOPoMx5Na",
        "colab": {
          "base_uri": "https://localhost:8080/"
        },
        "outputId": "68cacfe8-2d84-4953-b392-90720a0cd87d"
      },
      "outputs": [
        {
          "output_type": "execute_result",
          "data": {
            "text/plain": [
              "array([0., 0., 0., 0., 0., 0., 0., 0., 0., 0.])"
            ]
          },
          "metadata": {},
          "execution_count": 128
        }
      ],
      "source": [
        "x=np.zeros(10)\n",
        "x"
      ]
    },
    {
      "cell_type": "markdown",
      "metadata": {
        "id": "yvlBDy-Yx5Nb"
      },
      "source": [
        "#### 4.  How to find the memory size of any array (★☆☆) \n",
        "(**hint**: size, itemsize)"
      ]
    },
    {
      "cell_type": "code",
      "execution_count": null,
      "metadata": {
        "id": "ltxNItogx5Nc",
        "colab": {
          "base_uri": "https://localhost:8080/"
        },
        "outputId": "bcc9c636-fc0d-4150-a105-af54a40d1f77"
      },
      "outputs": [
        {
          "output_type": "stream",
          "name": "stdout",
          "text": [
            "10\n",
            "8\n"
          ]
        }
      ],
      "source": [
        "print(x.size)\n",
        "print(x.itemsize)"
      ]
    },
    {
      "cell_type": "markdown",
      "metadata": {
        "id": "3dbh_vC6x5Nc"
      },
      "source": [
        "#### 5.  How to get the documentation of the numpy add function from the command line? (★☆☆) \n",
        "(**hint**: np.info)"
      ]
    },
    {
      "cell_type": "code",
      "execution_count": null,
      "metadata": {
        "collapsed": true,
        "id": "_p07Z983x5Nd",
        "colab": {
          "base_uri": "https://localhost:8080/"
        },
        "outputId": "57a76134-b8fb-43fc-bbf6-1f3607cacf98"
      },
      "outputs": [
        {
          "output_type": "stream",
          "name": "stdout",
          "text": [
            " info(object=None, maxwidth=76,\n",
            "      output=<ipykernel.iostream.OutStream object at 0x7f5bf6328410>,\n",
            "      toplevel='numpy')\n",
            "\n",
            "Get help information for a function, class, or module.\n",
            "\n",
            "Parameters\n",
            "----------\n",
            "object : object or str, optional\n",
            "    Input object or name to get information about. If `object` is a\n",
            "    numpy object, its docstring is given. If it is a string, available\n",
            "    modules are searched for matching objects.  If None, information\n",
            "    about `info` itself is returned.\n",
            "maxwidth : int, optional\n",
            "    Printing width.\n",
            "output : file like object, optional\n",
            "    File like object that the output is written to, default is\n",
            "    ``stdout``.  The object has to be opened in 'w' or 'a' mode.\n",
            "toplevel : str, optional\n",
            "    Start search at this level.\n",
            "\n",
            "See Also\n",
            "--------\n",
            "source, lookfor\n",
            "\n",
            "Notes\n",
            "-----\n",
            "When used interactively with an object, ``np.info(obj)`` is equivalent\n",
            "to ``help(obj)`` on the Python prompt or ``obj?`` on the IPython\n",
            "prompt.\n",
            "\n",
            "Examples\n",
            "--------\n",
            ">>> np.info(np.polyval) # doctest: +SKIP\n",
            "   polyval(p, x)\n",
            "     Evaluate the polynomial p at x.\n",
            "     ...\n",
            "\n",
            "When using a string for `object` it is possible to get multiple results.\n",
            "\n",
            ">>> np.info('fft') # doctest: +SKIP\n",
            "     *** Found in numpy ***\n",
            "Core FFT routines\n",
            "...\n",
            "     *** Found in numpy.fft ***\n",
            " fft(a, n=None, axis=-1)\n",
            "...\n",
            "     *** Repeat reference found in numpy.fft.fftpack ***\n",
            "     *** Total of 3 references found. ***\n"
          ]
        }
      ],
      "source": [
        "np.info()"
      ]
    },
    {
      "cell_type": "markdown",
      "metadata": {
        "id": "qeUZk5ifx5Nd"
      },
      "source": [
        "#### 6.  Create a null vector of size 10 but the fifth value which is 1 (★☆☆) \n",
        "(**hint**: array\\[4\\])"
      ]
    },
    {
      "cell_type": "code",
      "execution_count": null,
      "metadata": {
        "id": "dMz7RVpFx5Nd",
        "colab": {
          "base_uri": "https://localhost:8080/"
        },
        "outputId": "8bc2c7d0-213b-4a74-8596-559220f971cc"
      },
      "outputs": [
        {
          "output_type": "execute_result",
          "data": {
            "text/plain": [
              "array([0., 0., 0., 0., 1., 0., 0., 0., 0., 0.])"
            ]
          },
          "metadata": {},
          "execution_count": 131
        }
      ],
      "source": [
        "x=np.zeros(10)\n",
        "x[4]=1\n",
        "x"
      ]
    },
    {
      "cell_type": "markdown",
      "metadata": {
        "id": "ZBHsnlONx5Ne"
      },
      "source": [
        "#### 7.  Create a vector with values ranging from 10 to 49 (★☆☆) \n",
        "(**hint**: np.arange)"
      ]
    },
    {
      "cell_type": "code",
      "execution_count": null,
      "metadata": {
        "id": "zVyO249px5Ne",
        "colab": {
          "base_uri": "https://localhost:8080/"
        },
        "outputId": "a2740aa7-55ed-4a74-f4bc-0798520cd3a3"
      },
      "outputs": [
        {
          "output_type": "execute_result",
          "data": {
            "text/plain": [
              "array([10, 11, 12, 13, 14, 15, 16, 17, 18, 19, 20, 21, 22, 23, 24, 25, 26,\n",
              "       27, 28, 29, 30, 31, 32, 33, 34, 35, 36, 37, 38, 39, 40, 41, 42, 43,\n",
              "       44, 45, 46, 47, 48])"
            ]
          },
          "metadata": {},
          "execution_count": 132
        }
      ],
      "source": [
        "v=np.arange(10,49)\n",
        "v"
      ]
    },
    {
      "cell_type": "markdown",
      "metadata": {
        "id": "Qcza0zi8x5Nf"
      },
      "source": [
        "#### 8.  Reverse a vector (first element becomes last) (★☆☆) \n",
        "(**hint**: array\\[::-1\\])"
      ]
    },
    {
      "cell_type": "code",
      "execution_count": null,
      "metadata": {
        "id": "VVhOZsQ2x5Nf",
        "colab": {
          "base_uri": "https://localhost:8080/"
        },
        "outputId": "bd02175a-ef61-41f6-90c2-b2a3eb9854f3"
      },
      "outputs": [
        {
          "output_type": "execute_result",
          "data": {
            "text/plain": [
              "array([48, 47, 46, 45, 44, 43, 42, 41, 40, 39, 38, 37, 36, 35, 34, 33, 32,\n",
              "       31, 30, 29, 28, 27, 26, 25, 24, 23, 22, 21, 20, 19, 18, 17, 16, 15,\n",
              "       14, 13, 12, 11, 10])"
            ]
          },
          "metadata": {},
          "execution_count": 133
        }
      ],
      "source": [
        "v[::-1]"
      ]
    },
    {
      "cell_type": "markdown",
      "metadata": {
        "id": "KzL_5ue-x5Ng"
      },
      "source": [
        "#### 9.  Create a 3x3 matrix with values ranging from 0 to 8 (★☆☆) \n",
        "(**hint**: reshape)"
      ]
    },
    {
      "cell_type": "code",
      "execution_count": null,
      "metadata": {
        "id": "5SVUwEeNx5Ng",
        "colab": {
          "base_uri": "https://localhost:8080/"
        },
        "outputId": "b6e86bd2-d5fc-42ed-af5d-4cc031d75e74"
      },
      "outputs": [
        {
          "output_type": "execute_result",
          "data": {
            "text/plain": [
              "array([[0, 1, 2],\n",
              "       [3, 4, 5],\n",
              "       [6, 7, 8]])"
            ]
          },
          "metadata": {},
          "execution_count": 134
        }
      ],
      "source": [
        "m=np.arange(0,9)\n",
        "x=m.reshape((3,3))\n",
        "x"
      ]
    },
    {
      "cell_type": "markdown",
      "metadata": {
        "id": "Bzig5zOjx5Ng"
      },
      "source": [
        "#### 10. Find indices of non-zero elements from \\[1,2,0,0,4,0\\] (★☆☆) \n",
        "(**hint**: np.nonzero)"
      ]
    },
    {
      "cell_type": "code",
      "execution_count": null,
      "metadata": {
        "id": "YUQUOGXkx5Nh",
        "colab": {
          "base_uri": "https://localhost:8080/"
        },
        "outputId": "db3a5a6b-8dae-455a-e403-03567ee2082f"
      },
      "outputs": [
        {
          "output_type": "stream",
          "name": "stdout",
          "text": [
            "(array([0, 1, 4]),)\n"
          ]
        }
      ],
      "source": [
        "n = np.nonzero([1,2,0,0,4,0])\n",
        "print(n)"
      ]
    },
    {
      "cell_type": "markdown",
      "metadata": {
        "id": "KyzSZumnx5Nh"
      },
      "source": [
        "#### 11. Create a 3x3 identity matrix (★☆☆) \n",
        "(**hint**: np.eye)"
      ]
    },
    {
      "cell_type": "code",
      "execution_count": null,
      "metadata": {
        "id": "D7BesGMZx5Nh",
        "colab": {
          "base_uri": "https://localhost:8080/"
        },
        "outputId": "269ae988-749f-4024-b069-dc3bb8df887b"
      },
      "outputs": [
        {
          "output_type": "execute_result",
          "data": {
            "text/plain": [
              "array([[1., 0., 0.],\n",
              "       [0., 1., 0.],\n",
              "       [0., 0., 1.]])"
            ]
          },
          "metadata": {},
          "execution_count": 136
        }
      ],
      "source": [
        "i=np.eye(3)\n",
        "i"
      ]
    },
    {
      "cell_type": "markdown",
      "metadata": {
        "id": "8g5L32Dgx5Ni"
      },
      "source": [
        "#### 12. Create a 3x3x3 array with random values (★☆☆) \n",
        "(**hint**: np.random.random)"
      ]
    },
    {
      "cell_type": "code",
      "execution_count": null,
      "metadata": {
        "collapsed": true,
        "id": "r5MZOfqsx5Ni",
        "colab": {
          "base_uri": "https://localhost:8080/"
        },
        "outputId": "6239d57c-60ee-4d48-ddb5-8403da7d687e"
      },
      "outputs": [
        {
          "output_type": "execute_result",
          "data": {
            "text/plain": [
              "array([[[0.32, 0.48, 0.2 ],\n",
              "        [0.82, 0.3 , 0.91],\n",
              "        [0.55, 0.75, 0.87]],\n",
              "\n",
              "       [[0.87, 0.53, 0.87],\n",
              "        [0.2 , 0.71, 0.52],\n",
              "        [0.56, 0.2 , 0.26]],\n",
              "\n",
              "       [[0.64, 0.49, 0.11],\n",
              "        [0.7 , 0.46, 0.65],\n",
              "        [0.72, 0.22, 0.65]]])"
            ]
          },
          "metadata": {},
          "execution_count": 137
        }
      ],
      "source": [
        "x=np.random.random((3,3,3))\n",
        "x"
      ]
    },
    {
      "cell_type": "markdown",
      "metadata": {
        "id": "Ece-0_04x5Ni"
      },
      "source": [
        "#### 13. Create a 10x10 array with random values and find the minimum and maximum values (★☆☆) \n",
        "(**hint**: min, max)"
      ]
    },
    {
      "cell_type": "code",
      "execution_count": null,
      "metadata": {
        "id": "sJjSHRrVx5Nj",
        "colab": {
          "base_uri": "https://localhost:8080/"
        },
        "outputId": "919ccb75-58ba-4234-a933-9c3ce9175232"
      },
      "outputs": [
        {
          "output_type": "stream",
          "name": "stdout",
          "text": [
            "0.004844352196906487 0.9980287887432499\n"
          ]
        }
      ],
      "source": [
        "x=np.random.random((10,10))\n",
        "print(x.min() , x.max())"
      ]
    },
    {
      "cell_type": "markdown",
      "metadata": {
        "id": "ub5QE8m8x5Nj"
      },
      "source": [
        "#### 14. Create a random vector of size 30 and find the mean value (★☆☆) \n",
        "(**hint**: mean)"
      ]
    },
    {
      "cell_type": "code",
      "execution_count": null,
      "metadata": {
        "id": "viDeu3sjx5Nj",
        "colab": {
          "base_uri": "https://localhost:8080/"
        },
        "outputId": "0bf2a782-2b30-45f2-e38d-e984b65e927b"
      },
      "outputs": [
        {
          "output_type": "execute_result",
          "data": {
            "text/plain": [
              "0.4569136975336882"
            ]
          },
          "metadata": {},
          "execution_count": 139
        }
      ],
      "source": [
        "x=np.random.rand(30)\n",
        "np.mean(x,axis=0)"
      ]
    },
    {
      "cell_type": "markdown",
      "metadata": {
        "id": "pxPYJ5xCx5Nk"
      },
      "source": [
        "#### 15. Create a 2d array with 1 on the border and 0 inside (★☆☆) \n",
        "(**hint**: array\\[1:-1, 1:-1\\])"
      ]
    },
    {
      "cell_type": "code",
      "execution_count": null,
      "metadata": {
        "id": "_HNt6zTix5Nk",
        "colab": {
          "base_uri": "https://localhost:8080/"
        },
        "outputId": "542297c2-fd4d-423c-8344-7377a47340c7"
      },
      "outputs": [
        {
          "output_type": "execute_result",
          "data": {
            "text/plain": [
              "array([[1., 1., 1., 1.],\n",
              "       [1., 0., 0., 1.],\n",
              "       [1., 0., 0., 1.],\n",
              "       [1., 1., 1., 1.]])"
            ]
          },
          "metadata": {},
          "execution_count": 140
        }
      ],
      "source": [
        "x = np.ones((4,4))\n",
        "x[1:-1,1:-1] = 0\n",
        "x"
      ]
    },
    {
      "cell_type": "markdown",
      "metadata": {
        "id": "DiclFFYGx5Nk"
      },
      "source": [
        "#### 16. How to add a border (filled with 0's) around an existing array? (★☆☆) \n",
        "(**hint**: np.pad)"
      ]
    },
    {
      "cell_type": "code",
      "execution_count": null,
      "metadata": {
        "id": "xez1L0Y2x5Nk",
        "colab": {
          "base_uri": "https://localhost:8080/"
        },
        "outputId": "522fa284-d12b-4c65-ca6f-74b987a814dc"
      },
      "outputs": [
        {
          "output_type": "execute_result",
          "data": {
            "text/plain": [
              "array([[0., 0., 0., 0., 0., 0.],\n",
              "       [0., 1., 1., 1., 1., 0.],\n",
              "       [0., 1., 1., 1., 1., 0.],\n",
              "       [0., 1., 1., 1., 1., 0.],\n",
              "       [0., 1., 1., 1., 1., 0.],\n",
              "       [0., 0., 0., 0., 0., 0.]])"
            ]
          },
          "metadata": {},
          "execution_count": 141
        }
      ],
      "source": [
        "x=np.ones((4,4))\n",
        "x=np.pad(x, pad_width=1, mode='constant', constant_values=0)\n",
        "x"
      ]
    },
    {
      "cell_type": "markdown",
      "metadata": {
        "id": "0hcod-fxx5Nl"
      },
      "source": [
        "#### 17. What is the result of the following expression? (★☆☆) \n",
        "(**hint**: NaN = not a number, inf = infinity)"
      ]
    },
    {
      "cell_type": "markdown",
      "metadata": {
        "id": "0GHUp8XKx5Nl"
      },
      "source": [
        "```python\n",
        "0 * np.nan\n",
        "np.nan == np.nan\n",
        "np.inf > np.nan\n",
        "np.nan - np.nan\n",
        "0.3 == 3 * 0.1\n",
        "```"
      ]
    },
    {
      "cell_type": "code",
      "execution_count": null,
      "metadata": {
        "id": "FoNBjHdQx5Nl",
        "colab": {
          "base_uri": "https://localhost:8080/"
        },
        "outputId": "eb88f208-0312-443f-8401-831d4f4d1480"
      },
      "outputs": [
        {
          "output_type": "stream",
          "name": "stdout",
          "text": [
            "nan\n",
            "False\n",
            "False\n",
            "nan\n",
            "True\n",
            "False\n"
          ]
        }
      ],
      "source": [
        "print(0*np.nan)\n",
        "print(np.nan==np.nan)\n",
        "print(np.inf>np.nan)\n",
        "print(np.nan-np.nan)\n",
        "print(np.nan in set([np.nan]))\n",
        "print(0.3==3 * 0.1)"
      ]
    },
    {
      "cell_type": "markdown",
      "metadata": {
        "id": "vrtdm87Px5Nl"
      },
      "source": [
        "#### 18. Create a 5x5 matrix with values 1,2,3,4 just below the diagonal (★☆☆) \n",
        "(**hint**: np.diag)"
      ]
    },
    {
      "cell_type": "code",
      "execution_count": null,
      "metadata": {
        "id": "Uvxufqorx5Nm",
        "colab": {
          "base_uri": "https://localhost:8080/"
        },
        "outputId": "f21e884b-a4d9-4987-8a9d-d927e24f32b9"
      },
      "outputs": [
        {
          "output_type": "execute_result",
          "data": {
            "text/plain": [
              "array([[0, 0, 0, 0, 0],\n",
              "       [1, 0, 0, 0, 0],\n",
              "       [0, 2, 0, 0, 0],\n",
              "       [0, 0, 3, 0, 0],\n",
              "       [0, 0, 0, 4, 0]])"
            ]
          },
          "metadata": {},
          "execution_count": 143
        }
      ],
      "source": [
        "d=np.diag([1,2,3,4],k=-1)\n",
        "d"
      ]
    },
    {
      "cell_type": "markdown",
      "metadata": {
        "id": "UvaK9HEXx5Nm"
      },
      "source": [
        "#### 19. Create a 8x8 matrix and fill it with a checkerboard pattern (★☆☆) \n",
        "(**hint**: array\\[::2\\])"
      ]
    },
    {
      "cell_type": "code",
      "execution_count": null,
      "metadata": {
        "id": "8rh2Bezvx5Nm",
        "colab": {
          "base_uri": "https://localhost:8080/"
        },
        "outputId": "b1ef47af-e308-4eea-f8ac-4143fb635fd3"
      },
      "outputs": [
        {
          "output_type": "execute_result",
          "data": {
            "text/plain": [
              "array([[0., 1., 0., 1., 0., 1., 0., 1.],\n",
              "       [1., 0., 1., 0., 1., 0., 1., 0.],\n",
              "       [0., 1., 0., 1., 0., 1., 0., 1.],\n",
              "       [1., 0., 1., 0., 1., 0., 1., 0.],\n",
              "       [0., 1., 0., 1., 0., 1., 0., 1.],\n",
              "       [1., 0., 1., 0., 1., 0., 1., 0.],\n",
              "       [0., 1., 0., 1., 0., 1., 0., 1.],\n",
              "       [1., 0., 1., 0., 1., 0., 1., 0.]])"
            ]
          },
          "metadata": {},
          "execution_count": 144
        }
      ],
      "source": [
        "x=np.zeros((8,8))\n",
        "x[1::2,::2]=1\n",
        "x[::2,1::2]=1\n",
        "x"
      ]
    },
    {
      "cell_type": "markdown",
      "metadata": {
        "id": "7XD-jgBtx5Nn"
      },
      "source": [
        "#### 20. Consider a (6,7,8) shape array, what is the index (x,y,z) of the 100th element? \n",
        "(**hint**: np.unravel_index)"
      ]
    },
    {
      "cell_type": "code",
      "execution_count": null,
      "metadata": {
        "id": "hieZhjA7x5Nn",
        "colab": {
          "base_uri": "https://localhost:8080/"
        },
        "outputId": "b39bbdb7-d80a-4a7e-f51f-10861e4f5f7a"
      },
      "outputs": [
        {
          "output_type": "execute_result",
          "data": {
            "text/plain": [
              "(1, 5, 4)"
            ]
          },
          "metadata": {},
          "execution_count": 145
        }
      ],
      "source": [
        "np.unravel_index(100,(6,7,8))"
      ]
    },
    {
      "cell_type": "markdown",
      "metadata": {
        "id": "qh2QJ-8jx5Nn"
      },
      "source": [
        "#### 21. Create a checkerboard 8x8 matrix using the tile function (★☆☆) \n",
        "(**hint**: np.tile)"
      ]
    },
    {
      "cell_type": "code",
      "execution_count": null,
      "metadata": {
        "id": "Ia_yCAOBx5No",
        "colab": {
          "base_uri": "https://localhost:8080/"
        },
        "outputId": "38b05762-bc9c-4a7e-df20-d770fab1c445"
      },
      "outputs": [
        {
          "output_type": "execute_result",
          "data": {
            "text/plain": [
              "array([[0, 1, 0, 1, 0, 1, 0, 1],\n",
              "       [1, 0, 1, 0, 1, 0, 1, 0],\n",
              "       [0, 1, 0, 1, 0, 1, 0, 1],\n",
              "       [1, 0, 1, 0, 1, 0, 1, 0],\n",
              "       [0, 1, 0, 1, 0, 1, 0, 1],\n",
              "       [1, 0, 1, 0, 1, 0, 1, 0],\n",
              "       [0, 1, 0, 1, 0, 1, 0, 1],\n",
              "       [1, 0, 1, 0, 1, 0, 1, 0]])"
            ]
          },
          "metadata": {},
          "execution_count": 146
        }
      ],
      "source": [
        "x=np.tile([[0,1],[1,0]],(4,4))\n",
        "x"
      ]
    },
    {
      "cell_type": "markdown",
      "metadata": {
        "id": "cwPlw_bxx5No"
      },
      "source": [
        "#### 22. Normalize a 5x5 random matrix (★☆☆) \n",
        "(**hint**: (x - min) / (max - min))"
      ]
    },
    {
      "cell_type": "code",
      "execution_count": null,
      "metadata": {
        "id": "6uq14UY9x5No",
        "colab": {
          "base_uri": "https://localhost:8080/"
        },
        "outputId": "c0c8db74-8c03-4ac3-ecc9-5c9c5e72d17a"
      },
      "outputs": [
        {
          "output_type": "execute_result",
          "data": {
            "text/plain": [
              "array([[0.02, 0.83, 0.61, 0.04, 0.26],\n",
              "       [0.1 , 0.47, 0.69, 1.  , 0.81],\n",
              "       [0.85, 0.  , 0.17, 0.24, 0.42],\n",
              "       [0.85, 0.37, 0.63, 0.17, 0.45],\n",
              "       [0.82, 0.54, 0.12, 0.23, 1.  ]])"
            ]
          },
          "metadata": {},
          "execution_count": 147
        }
      ],
      "source": [
        "x=np.random.rand(5,5)\n",
        "mi=x.min()\n",
        "ma=x.max()\n",
        "new=(x-mi)/(ma-mi)\n",
        "new"
      ]
    },
    {
      "cell_type": "markdown",
      "metadata": {
        "id": "A4oUwBnUx5No"
      },
      "source": [
        "#### 23. Create a custom dtype that describes a color as four unsigned bytes (RGBA) (★☆☆) \n",
        "(**hint**: np.dtype)"
      ]
    },
    {
      "cell_type": "code",
      "execution_count": null,
      "metadata": {
        "collapsed": true,
        "id": "2GPDnjCax5No"
      },
      "outputs": [],
      "source": [
        "color=np.dtype([(\"r\",np.ubyte),(\"g\",np.ubyte),(\"b\",np.ubyte),(\"a\",np.ubyte)])"
      ]
    },
    {
      "cell_type": "markdown",
      "metadata": {
        "id": "Owy_cFmmx5Np"
      },
      "source": [
        "#### 24. Multiply a 5x3 matrix by a 3x2 matrix (real matrix product) (★☆☆) \n",
        "(**hint**: np.dot | @)"
      ]
    },
    {
      "cell_type": "code",
      "execution_count": null,
      "metadata": {
        "id": "pPrC4yO7x5Np",
        "colab": {
          "base_uri": "https://localhost:8080/"
        },
        "outputId": "e1ff3841-9e0b-4184-e6b9-a30f8524ace3"
      },
      "outputs": [
        {
          "output_type": "stream",
          "name": "stdout",
          "text": [
            "[[1.08 1.32]\n",
            " [1.04 1.36]\n",
            " [1.34 1.51]\n",
            " [1.2  1.72]\n",
            " [1.43 1.87]]\n"
          ]
        }
      ],
      "source": [
        "a=np.random.rand(5,3)\n",
        "b=np.random.rand(3,2)\n",
        "print(a@b)\n",
        "#print(np.dot(a,b))"
      ]
    },
    {
      "cell_type": "markdown",
      "metadata": {
        "id": "YAK5c-EXx5Np"
      },
      "source": [
        "#### 25. Given a 1D array, negate all elements which are between 3 and 8, in place. (★☆☆) \n",
        "(**hint**: >, <=)"
      ]
    },
    {
      "cell_type": "code",
      "source": [
        "x=np.arange(11)\n",
        "x[(x>3) & (x<=8)]*= -1\n",
        "print(x)"
      ],
      "metadata": {
        "colab": {
          "base_uri": "https://localhost:8080/"
        },
        "id": "SMiztEk_89P9",
        "outputId": "3f6a22c2-4020-49a6-f5f2-5b7207f6180a"
      },
      "execution_count": null,
      "outputs": [
        {
          "output_type": "stream",
          "name": "stdout",
          "text": [
            "[ 0  1  2  3 -4 -5 -6 -7 -8  9 10]\n"
          ]
        }
      ]
    },
    {
      "cell_type": "code",
      "execution_count": null,
      "metadata": {
        "id": "ydx2Xf_Dx5Np",
        "colab": {
          "base_uri": "https://localhost:8080/"
        },
        "outputId": "cf5c3552-8d3f-4622-c65c-d91057c52dc8"
      },
      "outputs": [
        {
          "output_type": "stream",
          "name": "stdout",
          "text": [
            "[ 0  1  2 -3 -4 -5 -6 -7 -8  9 10]\n"
          ]
        }
      ],
      "source": [
        "z= np.arange(11)\n",
        "for i in range(3,9):\n",
        "    z[i]=-z[i]\n",
        "print(z)"
      ]
    },
    {
      "cell_type": "markdown",
      "metadata": {
        "id": "GEUzmWgFx5Np"
      },
      "source": [
        "#### 26. What is the output of the following script? (★☆☆) \n",
        "(**hint**: np.sum)"
      ]
    },
    {
      "cell_type": "markdown",
      "metadata": {
        "id": "jeiGPc4rx5Nq"
      },
      "source": [
        "```python\n",
        "# Author: Jake VanderPlas\n",
        "\n",
        "print(sum(range(5),-1))\n",
        "from numpy import *\n",
        "print(sum(range(5),-1))\n",
        "```"
      ]
    },
    {
      "cell_type": "code",
      "execution_count": null,
      "metadata": {
        "id": "gEUF8A_Wx5Nq",
        "colab": {
          "base_uri": "https://localhost:8080/",
          "height": 200
        },
        "outputId": "bb255d84-adc1-43ca-bea7-4f1d896d0639"
      },
      "outputs": [
        {
          "output_type": "error",
          "ename": "TypeError",
          "evalue": "ignored",
          "traceback": [
            "\u001b[0;31m---------------------------------------------------------------------------\u001b[0m",
            "\u001b[0;31mTypeError\u001b[0m                                 Traceback (most recent call last)",
            "\u001b[0;32m<ipython-input-154-3cdde29df6a5>\u001b[0m in \u001b[0;36m<module>\u001b[0;34m\u001b[0m\n\u001b[0;32m----> 1\u001b[0;31m \u001b[0mprint\u001b[0m\u001b[0;34m(\u001b[0m\u001b[0msum\u001b[0m\u001b[0;34m(\u001b[0m\u001b[0mrange\u001b[0m\u001b[0;34m(\u001b[0m\u001b[0;36m5\u001b[0m\u001b[0;34m)\u001b[0m\u001b[0;34m,\u001b[0m\u001b[0;34m-\u001b[0m\u001b[0;36m1\u001b[0m\u001b[0;34m)\u001b[0m\u001b[0;34m)\u001b[0m\u001b[0;34m\u001b[0m\u001b[0;34m\u001b[0m\u001b[0m\n\u001b[0m\u001b[1;32m      2\u001b[0m \u001b[0;32mfrom\u001b[0m \u001b[0mnumpy\u001b[0m \u001b[0;32mimport\u001b[0m \u001b[0;34m*\u001b[0m\u001b[0;34m\u001b[0m\u001b[0;34m\u001b[0m\u001b[0m\n\u001b[1;32m      3\u001b[0m \u001b[0mprint\u001b[0m\u001b[0;34m(\u001b[0m\u001b[0msum\u001b[0m\u001b[0;34m(\u001b[0m\u001b[0mrange\u001b[0m\u001b[0;34m(\u001b[0m\u001b[0;36m5\u001b[0m\u001b[0;34m)\u001b[0m\u001b[0;34m,\u001b[0m\u001b[0;34m-\u001b[0m\u001b[0;36m1\u001b[0m\u001b[0;34m)\u001b[0m\u001b[0;34m)\u001b[0m\u001b[0;34m\u001b[0m\u001b[0;34m\u001b[0m\u001b[0m\n",
            "\u001b[0;31mTypeError\u001b[0m: 'numpy.ndarray' object is not callable"
          ]
        }
      ],
      "source": [
        "print(sum(range(5),-1))\n",
        "from numpy import *\n",
        "print(sum(range(5),-1))"
      ]
    },
    {
      "cell_type": "markdown",
      "metadata": {
        "id": "pc11WWKCx5Nq"
      },
      "source": [
        "#### 27. Consider an integer vector Z, which of these expressions are legal? (★☆☆)"
      ]
    },
    {
      "cell_type": "markdown",
      "metadata": {
        "id": "uZ3tuxbWx5Nq"
      },
      "source": [
        "```python\n",
        "Z**Z\n",
        "2 << Z >> 2\n",
        "Z <- Z\n",
        "1j*Z\n",
        "Z/1/1\n",
        "Z<Z>Z\n",
        "```"
      ]
    },
    {
      "cell_type": "code",
      "execution_count": null,
      "metadata": {
        "id": "Zu6vtEV9x5Nq"
      },
      "outputs": [],
      "source": [
        "#Legal expressions:\n",
        "# 2<< Z >>2\n",
        "# Z <- Z\n",
        "# 1j*Z\n",
        "# Z/1/1"
      ]
    },
    {
      "cell_type": "markdown",
      "metadata": {
        "id": "zvyiQnCix5Nr"
      },
      "source": [
        "#### 28. What are the result of the following expressions?"
      ]
    },
    {
      "cell_type": "markdown",
      "metadata": {
        "id": "Gh0g3Z8ex5Nr"
      },
      "source": [
        "```python\n",
        "np.array(0) / np.array(0)\n",
        "np.array(0) // np.array(0)\n",
        "np.array([np.nan]).astype(int).astype(float)\n",
        "```"
      ]
    },
    {
      "cell_type": "code",
      "execution_count": null,
      "metadata": {
        "id": "eiCVJPcIx5Nr",
        "colab": {
          "base_uri": "https://localhost:8080/"
        },
        "outputId": "ebc3f2b3-d804-494d-d728-adcce24670fc"
      },
      "outputs": [
        {
          "output_type": "stream",
          "name": "stdout",
          "text": [
            "nan\n",
            "0\n",
            "[-9.22e+18]\n"
          ]
        }
      ],
      "source": [
        "print(np.array(0) / np.array(0))\n",
        "print(np.array(0) // np.array(0))\n",
        "print(np.array([np.nan]).astype(int).astype(float))"
      ]
    },
    {
      "cell_type": "markdown",
      "metadata": {
        "id": "GUt3Y3KQx5Nr"
      },
      "source": [
        "#### 29. How to round away from zero a float array ? (★☆☆) \n",
        "(**hint**: np.uniform, np.copysign, np.ceil, np.abs)"
      ]
    },
    {
      "cell_type": "code",
      "execution_count": null,
      "metadata": {
        "id": "IROeghdsx5Nr",
        "colab": {
          "base_uri": "https://localhost:8080/"
        },
        "outputId": "51739254-ecc1-4851-ff32-a7b1916a6d34"
      },
      "outputs": [
        {
          "output_type": "execute_result",
          "data": {
            "text/plain": [
              "array([ 2.,  4.,  4.,  2.,  4.,  5.,  4.,  5.,  5.,  4., 10.,  7.])"
            ]
          },
          "metadata": {},
          "execution_count": 157
        }
      ],
      "source": [
        "a=np.random.uniform(1,10,12)\n",
        "a\n",
        "b=np.ceil(a)\n",
        "np.copysign(b,a)"
      ]
    },
    {
      "cell_type": "markdown",
      "metadata": {
        "id": "Bpe-sHeqx5Ns"
      },
      "source": [
        "#### 30. How to find common values between two arrays? (★☆☆) \n",
        "(**hint**: np.intersect1d)"
      ]
    },
    {
      "cell_type": "code",
      "execution_count": null,
      "metadata": {
        "id": "uOrBGBLCx5Ns",
        "colab": {
          "base_uri": "https://localhost:8080/"
        },
        "outputId": "3edf2987-767d-4f87-99c6-8f0e6e7fbe8f"
      },
      "outputs": [
        {
          "output_type": "execute_result",
          "data": {
            "text/plain": [
              "array([], dtype=int64)"
            ]
          },
          "metadata": {},
          "execution_count": 158
        }
      ],
      "source": [
        "x1 = np.random.randint(0,10,10)\n",
        "x2= np.random.randint(5,15,10)\n",
        "np.intersect1d(x1,x2)"
      ]
    },
    {
      "cell_type": "markdown",
      "metadata": {
        "id": "gMy8gawVx5Ns"
      },
      "source": [
        "#### 31. How to ignore all numpy warnings (not recommended)? (★☆☆) \n",
        "(**hint**: np.seterr, np.errstate)"
      ]
    },
    {
      "cell_type": "code",
      "execution_count": null,
      "metadata": {
        "id": "SOHUI8h2x5Ns",
        "colab": {
          "base_uri": "https://localhost:8080/"
        },
        "outputId": "f7ebd179-1d15-43b9-92ec-aff1b3200691"
      },
      "outputs": [
        {
          "output_type": "stream",
          "name": "stdout",
          "text": [
            "[nan inf inf]\n"
          ]
        }
      ],
      "source": [
        "ignore1=np.seterr(all='ignore')\n",
        "np.arange(3)/0.\n",
        "\n",
        "\n",
        "with np.errstate(divide='ignore'):\n",
        "  print(np.arange(3)/0.)"
      ]
    },
    {
      "cell_type": "markdown",
      "metadata": {
        "id": "NMe2qlwBx5Ns"
      },
      "source": [
        "#### 32. Is the following expressions true? (★☆☆) \n",
        "(**hint**: imaginary number)"
      ]
    },
    {
      "cell_type": "markdown",
      "metadata": {
        "id": "_DydztFTx5Nt"
      },
      "source": [
        "```python\n",
        "np.sqrt(-1) == np.emath.sqrt(-1)\n",
        "```"
      ]
    },
    {
      "cell_type": "code",
      "execution_count": null,
      "metadata": {
        "id": "M99T06yUx5Nt",
        "colab": {
          "base_uri": "https://localhost:8080/"
        },
        "outputId": "11b57ed5-4b34-4d5e-da0a-16c85a893220"
      },
      "outputs": [
        {
          "output_type": "execute_result",
          "data": {
            "text/plain": [
              "False"
            ]
          },
          "metadata": {},
          "execution_count": 160
        }
      ],
      "source": [
        "np.sqrt(-1) == np.emath.sqrt(-1)"
      ]
    },
    {
      "cell_type": "markdown",
      "metadata": {
        "id": "0VgWYgzOx5Nt"
      },
      "source": [
        "#### 33. How to get the dates of yesterday, today and tomorrow? (★☆☆) \n",
        "(**hint**: np.datetime64, np.timedelta64)"
      ]
    },
    {
      "cell_type": "code",
      "execution_count": null,
      "metadata": {
        "collapsed": true,
        "id": "Rdiwg4FRx5Nt",
        "colab": {
          "base_uri": "https://localhost:8080/"
        },
        "outputId": "65dd23a5-6675-47ab-f5f8-b259573b16b8"
      },
      "outputs": [
        {
          "output_type": "stream",
          "name": "stdout",
          "text": [
            "today:  2022-11-05\n",
            "yesterday:  2022-11-04\n",
            "tomorrow:  2022-11-06\n"
          ]
        }
      ],
      "source": [
        "today = np.datetime64('today','D')\n",
        "yesterday = np.datetime64('today','D')-np.timedelta64(1, 'D')\n",
        "tomorrow = np.datetime64('today','D')+np.timedelta64(1, 'D')\n",
        "print('today: ',today)\n",
        "print('yesterday: ',yesterday)\n",
        "print('tomorrow: ',tomorrow)"
      ]
    },
    {
      "cell_type": "markdown",
      "metadata": {
        "id": "UmebheMpx5Nt"
      },
      "source": [
        "#### 34. How to get all the dates corresponding to the month of July 2016? (★★☆) \n",
        "(**hint**: np.arange(dtype=datetime64\\['D'\\]))"
      ]
    },
    {
      "cell_type": "code",
      "execution_count": null,
      "metadata": {
        "id": "w8RclseLx5Nt",
        "colab": {
          "base_uri": "https://localhost:8080/"
        },
        "outputId": "2412acb6-c30c-4c05-c05e-f321377a695c"
      },
      "outputs": [
        {
          "output_type": "execute_result",
          "data": {
            "text/plain": [
              "array(['2016-07-01', '2016-07-02', '2016-07-03', '2016-07-04',\n",
              "       '2016-07-05', '2016-07-06', '2016-07-07', '2016-07-08',\n",
              "       '2016-07-09', '2016-07-10', '2016-07-11', '2016-07-12',\n",
              "       '2016-07-13', '2016-07-14', '2016-07-15', '2016-07-16',\n",
              "       '2016-07-17', '2016-07-18', '2016-07-19', '2016-07-20',\n",
              "       '2016-07-21', '2016-07-22', '2016-07-23', '2016-07-24',\n",
              "       '2016-07-25', '2016-07-26', '2016-07-27', '2016-07-28',\n",
              "       '2016-07-29', '2016-07-30', '2016-07-31'], dtype='datetime64[D]')"
            ]
          },
          "metadata": {},
          "execution_count": 162
        }
      ],
      "source": [
        "x=np.arange('2016-07-01','2016-08-01',dtype = 'datetime64[D]')\n",
        "x"
      ]
    },
    {
      "cell_type": "markdown",
      "metadata": {
        "id": "JeAzn2M9x5Nu"
      },
      "source": [
        "#### 35. How to compute ((A+B)\\*(-A/2)) in place (without copy)? (★★☆) \n",
        "(**hint**: np.add(out=), np.negative(out=), np.multiply(out=), np.divide(out=))"
      ]
    },
    {
      "cell_type": "code",
      "execution_count": null,
      "metadata": {
        "id": "jdXC6JDyx5Nu",
        "colab": {
          "base_uri": "https://localhost:8080/"
        },
        "outputId": "c551135c-9232-465a-e568-ffbf4c7c5b44"
      },
      "outputs": [
        {
          "output_type": "execute_result",
          "data": {
            "text/plain": [
              "array([[-0.75, -0.02, -0.28],\n",
              "       [-0.11, -0.13, -0.15],\n",
              "       [-0.03, -0.66, -0.64]])"
            ]
          },
          "metadata": {},
          "execution_count": 163
        }
      ],
      "source": [
        "x= np.random.rand(3,3)\n",
        "y= np.random.rand(3,3)\n",
        "np.add(x,y,out=y)\n",
        "np.divide(x,2,out=x)\n",
        "np.negative(x,out=x)\n",
        "np.multiply(x,y,out=x)"
      ]
    },
    {
      "cell_type": "markdown",
      "metadata": {
        "id": "GPLAH1vGx5Nu"
      },
      "source": [
        "#### 36. Extract the integer part of a random array using 5 different methods (★★☆) \n",
        "(**hint**: %, np.floor, np.ceil, astype, np.trunc)"
      ]
    },
    {
      "cell_type": "code",
      "execution_count": null,
      "metadata": {
        "id": "or4MF311x5Nu",
        "colab": {
          "base_uri": "https://localhost:8080/"
        },
        "outputId": "43688acf-9fa9-4335-ad57-9e46faf62c3a"
      },
      "outputs": [
        {
          "output_type": "stream",
          "name": "stdout",
          "text": [
            "[3. 4. 2. 9. 9.]\n",
            "[3. 4. 2. 9. 9.]\n",
            "[ 4.  5.  3. 10. 10.]\n",
            "[3 4 2 9 9]\n",
            "[3. 4. 2. 9. 9.]\n"
          ]
        }
      ],
      "source": [
        "x=np.random.uniform(1,10,5)\n",
        "print(x-(x%1))\n",
        "print(np.floor(x))\n",
        "print(np.ceil(x))\n",
        "print(x.astype(int))\n",
        "print(np.trunc(x))"
      ]
    },
    {
      "cell_type": "markdown",
      "metadata": {
        "id": "TkgUQ1gix5Nv"
      },
      "source": [
        "#### 37. Create a 5x5 matrix with row values ranging from 0 to 4 (★★☆) \n",
        "(**hint**: np.arange)"
      ]
    },
    {
      "cell_type": "code",
      "execution_count": null,
      "metadata": {
        "id": "0k_u7Gs-x5Nv",
        "colab": {
          "base_uri": "https://localhost:8080/"
        },
        "outputId": "a60a7ede-c550-4a3d-c3bb-2f8bdf166aa4"
      },
      "outputs": [
        {
          "output_type": "execute_result",
          "data": {
            "text/plain": [
              "array([[0., 1., 2., 3., 4.],\n",
              "       [0., 1., 2., 3., 4.],\n",
              "       [0., 1., 2., 3., 4.],\n",
              "       [0., 1., 2., 3., 4.],\n",
              "       [0., 1., 2., 3., 4.]])"
            ]
          },
          "metadata": {},
          "execution_count": 165
        }
      ],
      "source": [
        "x=np.zeros((5,5))\n",
        "x+np.arange(5)"
      ]
    },
    {
      "cell_type": "markdown",
      "metadata": {
        "id": "8IaVB6cAx5Nv"
      },
      "source": [
        "#### 38. Consider a generator function that generates 10 integers and use it to build an array (★☆☆) \n",
        "(**hint**: np.fromiter)"
      ]
    },
    {
      "cell_type": "code",
      "execution_count": null,
      "metadata": {
        "id": "WDZyei_Ax5Nv",
        "colab": {
          "base_uri": "https://localhost:8080/"
        },
        "outputId": "405be96c-67a2-4ead-e69b-6771ba1d65d4"
      },
      "outputs": [
        {
          "output_type": "execute_result",
          "data": {
            "text/plain": [
              "array([0, 1, 2, 3, 4, 5, 6, 7, 8, 9])"
            ]
          },
          "metadata": {},
          "execution_count": 166
        }
      ],
      "source": [
        "def generator():\n",
        "  for i in range(10):\n",
        "    yield i\n",
        "x=np.fromiter(generator(),int)\n",
        "x"
      ]
    },
    {
      "cell_type": "markdown",
      "metadata": {
        "id": "PTJOL3tDx5Nv"
      },
      "source": [
        "#### 39. Create a vector of size 10 with values ranging from 0 to 1, both excluded (★★☆) \n",
        "(**hint**: np.linspace)"
      ]
    },
    {
      "cell_type": "code",
      "execution_count": null,
      "metadata": {
        "id": "uYDLa1XMx5Nv",
        "colab": {
          "base_uri": "https://localhost:8080/"
        },
        "outputId": "dc018c32-817f-4bb2-dea5-7ef84e61f6a4"
      },
      "outputs": [
        {
          "output_type": "execute_result",
          "data": {
            "text/plain": [
              "array([0.09, 0.18, 0.27, 0.36, 0.45, 0.55, 0.64, 0.73, 0.82, 0.91])"
            ]
          },
          "metadata": {},
          "execution_count": 167
        }
      ],
      "source": [
        "x=np.linspace(0,1,11,endpoint=False)\n",
        "x[1:]"
      ]
    },
    {
      "cell_type": "markdown",
      "metadata": {
        "id": "hzhUg2SYx5Nw"
      },
      "source": [
        "#### 40. Create a random vector of size 10 and sort it (★★☆) \n",
        "(**hint**: sort)"
      ]
    },
    {
      "cell_type": "code",
      "execution_count": null,
      "metadata": {
        "id": "6xufsMENx5Nw",
        "colab": {
          "base_uri": "https://localhost:8080/"
        },
        "outputId": "34a4d231-7a53-4957-f02c-bb58688a438b"
      },
      "outputs": [
        {
          "output_type": "execute_result",
          "data": {
            "text/plain": [
              "array([0.14, 0.2 , 0.29, 0.4 , 0.41, 0.54, 0.68, 0.8 , 0.89, 1.  ])"
            ]
          },
          "metadata": {},
          "execution_count": 168
        }
      ],
      "source": [
        "x=np.random.rand(10)\n",
        "x.sort()\n",
        "x"
      ]
    },
    {
      "cell_type": "markdown",
      "metadata": {
        "id": "p23zl2nzx5Nw"
      },
      "source": [
        "#### 41. How to sum a small array faster than np.sum? (★★☆) \n",
        "(**hint**: np.add.reduce)"
      ]
    },
    {
      "cell_type": "code",
      "execution_count": null,
      "metadata": {
        "id": "g6Nc0UHKx5Nw",
        "colab": {
          "base_uri": "https://localhost:8080/"
        },
        "outputId": "b4250a68-b256-45fe-f72e-e05500133ffd"
      },
      "outputs": [
        {
          "output_type": "execute_result",
          "data": {
            "text/plain": [
              "1.6335354994024247"
            ]
          },
          "metadata": {},
          "execution_count": 169
        }
      ],
      "source": [
        "x=np.random.rand(5)\n",
        "np.add.reduce(x)"
      ]
    },
    {
      "cell_type": "markdown",
      "metadata": {
        "id": "iP1CmNxIx5Nx"
      },
      "source": [
        "#### 42. Consider two random array A and B, check if they are equal (★★☆) \n",
        "(**hint**: np.allclose, np.array\\_equal)"
      ]
    },
    {
      "cell_type": "code",
      "execution_count": null,
      "metadata": {
        "id": "2B9mMHnYx5Nx",
        "colab": {
          "base_uri": "https://localhost:8080/"
        },
        "outputId": "5165c7d9-9573-41ec-ad26-9f1722a5d12d"
      },
      "outputs": [
        {
          "output_type": "stream",
          "name": "stdout",
          "text": [
            "False\n",
            "False\n"
          ]
        }
      ],
      "source": [
        "A=np.random.random(3)\n",
        "B=np.random.random(3)\n",
        "print(np.allclose(A,B))\n",
        "print(np.array_equal(A,B))"
      ]
    },
    {
      "cell_type": "markdown",
      "metadata": {
        "id": "ESrwxcvxx5Nx"
      },
      "source": [
        "#### 43. Make an array immutable (read-only) (★★☆) \n",
        "(**hint**: flags.writeable)"
      ]
    },
    {
      "cell_type": "code",
      "execution_count": null,
      "metadata": {
        "id": "lJhkMTbWx5Nx",
        "colab": {
          "base_uri": "https://localhost:8080/"
        },
        "outputId": "58bdde69-36e4-4ed7-e162-0b799d649fa0"
      },
      "outputs": [
        {
          "output_type": "execute_result",
          "data": {
            "text/plain": [
              "array([1., 1., 1., 1., 1.])"
            ]
          },
          "metadata": {},
          "execution_count": 171
        }
      ],
      "source": [
        "x=np.ones(5)\n",
        "x.flags.writeable=False\n",
        "x"
      ]
    },
    {
      "cell_type": "markdown",
      "metadata": {
        "id": "ILuVBZOvx5Nx"
      },
      "source": [
        "#### 44. Consider a random 10x2 matrix representing cartesian coordinates, convert them to polar coordinates (★★☆) \n",
        "(**hint**: np.sqrt, np.arctan2)"
      ]
    },
    {
      "cell_type": "code",
      "execution_count": null,
      "metadata": {
        "id": "DbqTD1Lex5Ny",
        "colab": {
          "base_uri": "https://localhost:8080/"
        },
        "outputId": "ceeedc26-94db-47d3-e26f-9020566fb0c4"
      },
      "outputs": [
        {
          "output_type": "stream",
          "name": "stdout",
          "text": [
            "[1.08 0.79 0.32 0.67 0.85 0.98 1.14 1.15 0.59 1.03]\n",
            "[0.53 0.78 0.9  1.3  0.06 1.24 0.57 0.65 0.6  0.62]\n"
          ]
        }
      ],
      "source": [
        "x= np.random.random((10,2))\n",
        "x1,y1 = x[:,0],x[:,1]\n",
        "r=np.sqrt(x1**2+y1**2)\n",
        "tita=np.arctan2(y1,x1)\n",
        "print(r)\n",
        "print(tita)"
      ]
    },
    {
      "cell_type": "markdown",
      "metadata": {
        "id": "lbFQMw7Mx5Ny"
      },
      "source": [
        "#### 45. Create random vector of size 10 and replace the maximum value by 0 (★★☆) \n",
        "(**hint**: argmax)"
      ]
    },
    {
      "cell_type": "code",
      "execution_count": null,
      "metadata": {
        "id": "FqtLM2Vjx5Ny",
        "colab": {
          "base_uri": "https://localhost:8080/"
        },
        "outputId": "a0f5576b-4450-4393-85b8-dd5c5eb1cf7a"
      },
      "outputs": [
        {
          "output_type": "execute_result",
          "data": {
            "text/plain": [
              "array([0.66, 0.69, 0.  , 0.62, 0.33, 0.38, 0.78, 0.77, 0.38, 0.02])"
            ]
          },
          "metadata": {},
          "execution_count": 173
        }
      ],
      "source": [
        "x=np.random.random(10)\n",
        "x[x.argmax()] = 0\n",
        "x"
      ]
    },
    {
      "cell_type": "markdown",
      "metadata": {
        "id": "RB3qcWAkx5Ny"
      },
      "source": [
        "#### 46. Create a structured array with `x` and `y` coordinates covering the \\[0,1\\]x\\[0,1\\] area (★★☆) \n",
        "(**hint**: np.meshgrid)"
      ]
    },
    {
      "cell_type": "code",
      "execution_count": null,
      "metadata": {
        "id": "wCsyFskpx5Ny"
      },
      "outputs": [],
      "source": []
    },
    {
      "cell_type": "markdown",
      "metadata": {
        "id": "XDAtcbcTx5Ny"
      },
      "source": [
        "####  47. Given two arrays, X and Y, construct the Cauchy matrix C (Cij =1/(xi - yj)) \n",
        "(**hint**: np.subtract.outer)"
      ]
    },
    {
      "cell_type": "code",
      "execution_count": null,
      "metadata": {
        "id": "yHtRmm1Dx5Ny",
        "colab": {
          "base_uri": "https://localhost:8080/"
        },
        "outputId": "0789af4b-c591-4fec-851c-5a91b41b083b"
      },
      "outputs": [
        {
          "output_type": "execute_result",
          "data": {
            "text/plain": [
              "array([[0.14, 0.14, 0.14, 0.14, 0.14],\n",
              "       [0.14, 0.14, 0.14, 0.14, 0.14],\n",
              "       [0.14, 0.14, 0.14, 0.14, 0.14],\n",
              "       [0.14, 0.14, 0.14, 0.14, 0.14],\n",
              "       [0.14, 0.14, 0.14, 0.14, 0.14]])"
            ]
          },
          "metadata": {},
          "execution_count": 174
        }
      ],
      "source": [
        "x=9*(np.ones(5))\n",
        "y=2*(np.ones(5))\n",
        "v=np.subtract.outer(x,y)\n",
        "c=1/v\n",
        "c"
      ]
    },
    {
      "cell_type": "markdown",
      "metadata": {
        "id": "8bgHZlTGx5Nz"
      },
      "source": [
        "#### 48. Print the minimum and maximum representable value for each numpy scalar type (★★☆) \n",
        "(**hint**: np.iinfo, np.finfo, eps)"
      ]
    },
    {
      "cell_type": "code",
      "execution_count": null,
      "metadata": {
        "id": "t8bobXAOx5Nz",
        "colab": {
          "base_uri": "https://localhost:8080/"
        },
        "outputId": "004d1d14-f7ca-46ec-dc9b-cbc18125e974"
      },
      "outputs": [
        {
          "output_type": "stream",
          "name": "stdout",
          "text": [
            "-32768\n",
            "32767\n",
            "-2147483648\n",
            "2147483647\n",
            "-------------------------\n",
            "-3.4028235e+38\n",
            "3.4028235e+38\n",
            "1.1920929e-07\n",
            "-1.7976931348623157e+308\n",
            "1.7976931348623157e+308\n",
            "2.220446049250313e-16\n"
          ]
        }
      ],
      "source": [
        "print(np.iinfo(np.int16).min)\n",
        "print(np.iinfo(np.int16).max)\n",
        "print(np.iinfo(np.int32).min)\n",
        "print(np.iinfo(np.int32).max)\n",
        "print('-------------------------')\n",
        "print(np.finfo(np.float32).min)\n",
        "print(np.finfo(np.float32).max)\n",
        "print(np.finfo(np.float32).eps)\n",
        "print(np.finfo(np.float64).min)\n",
        "print(np.finfo(np.float64).max)\n",
        "print(np.finfo(np.float64).eps)"
      ]
    },
    {
      "cell_type": "markdown",
      "metadata": {
        "id": "lBA5iR8tx5Nz"
      },
      "source": [
        "#### 49. How to print all the values of an array? (★★☆) \n",
        "(**hint**: np.set\\_printoptions)"
      ]
    },
    {
      "cell_type": "code",
      "execution_count": null,
      "metadata": {
        "id": "Cg-Oq24hx5Nz",
        "colab": {
          "base_uri": "https://localhost:8080/"
        },
        "outputId": "0976a4e3-43df-43f0-cdad-f6007d992947"
      },
      "outputs": [
        {
          "output_type": "execute_result",
          "data": {
            "text/plain": [
              "array([[0.57, 0.59, 0.96, 0.59, 0.03],\n",
              "       [0.38, 0.75, 0.54, 0.79, 0.59],\n",
              "       [0.71, 0.19, 0.69, 0.69, 0.29],\n",
              "       [0.17, 0.29, 0.17, 0.46, 0.23],\n",
              "       [0.06, 0.66, 0.05, 0.89, 0.43]])"
            ]
          },
          "metadata": {},
          "execution_count": 176
        }
      ],
      "source": [
        "import sys\n",
        "np.set_printoptions(threshold=sys.maxsize,precision=2)\n",
        "x=np.random.random((5,5))\n",
        "x"
      ]
    },
    {
      "cell_type": "markdown",
      "metadata": {
        "id": "2sPW33tnx5N0"
      },
      "source": [
        "#### 50. How to find the closest value (to a given scalar) in a vector? (★★☆) \n",
        "(**hint**: argmin)"
      ]
    },
    {
      "cell_type": "code",
      "execution_count": null,
      "metadata": {
        "id": "xPJXszMyx5N0",
        "colab": {
          "base_uri": "https://localhost:8080/"
        },
        "outputId": "bc69a8de-1ee9-4780-d004-09be3fa8aef0"
      },
      "outputs": [
        {
          "output_type": "execute_result",
          "data": {
            "text/plain": [
              "50"
            ]
          },
          "metadata": {},
          "execution_count": 177
        }
      ],
      "source": [
        "x=np.arange(100)\n",
        "v=np.random.uniform(0,100)\n",
        "sub=np.abs(x-v)\n",
        "x[sub.argmin()]"
      ]
    },
    {
      "cell_type": "markdown",
      "metadata": {
        "id": "oza2-bnXx5N0"
      },
      "source": [
        "#### 51. Create a structured array representing a position (x,y) and a color (r,g,b) (★★☆) \n",
        "(**hint**: dtype)"
      ]
    },
    {
      "cell_type": "code",
      "execution_count": null,
      "metadata": {
        "id": "22FenD2px5N1",
        "colab": {
          "base_uri": "https://localhost:8080/"
        },
        "outputId": "2b69aa9f-3ca9-4ff1-9d59-b55e3de7592c"
      },
      "outputs": [
        {
          "output_type": "stream",
          "name": "stderr",
          "text": [
            "/usr/local/lib/python3.7/dist-packages/ipykernel_launcher.py:1: FutureWarning: Passing (type, 1) or '1type' as a synonym of type is deprecated; in a future version of numpy, it will be understood as (type, (1,)) / '(1,)type'.\n",
            "  \"\"\"Entry point for launching an IPython kernel.\n"
          ]
        },
        {
          "output_type": "execute_result",
          "data": {
            "text/plain": [
              "array([((0., 0.), (0., 0., 0.)), ((0., 0.), (0., 0., 0.)),\n",
              "       ((0., 0.), (0., 0., 0.)), ((0., 0.), (0., 0., 0.)),\n",
              "       ((0., 0.), (0., 0., 0.)), ((0., 0.), (0., 0., 0.)),\n",
              "       ((0., 0.), (0., 0., 0.)), ((0., 0.), (0., 0., 0.)),\n",
              "       ((0., 0.), (0., 0., 0.)), ((0., 0.), (0., 0., 0.))],\n",
              "      dtype=[('position', [('x', '<f8'), ('y', '<f8')]), ('color', [('r', '<f8'), ('g', '<f8'), ('b', '<f8')])])"
            ]
          },
          "metadata": {},
          "execution_count": 178
        }
      ],
      "source": [
        "x=np.zeros(10,[('position',[ ('x', float, 1),('y', float, 1)]),('color',[ ('r', float, 1),('g', float, 1),('b', float, 1)])])\n",
        "x"
      ]
    },
    {
      "cell_type": "markdown",
      "metadata": {
        "id": "RZQN5nP6x5N1"
      },
      "source": [
        "#### 52. Consider a random vector with shape (100,2) representing coordinates, find point by point distances (★★☆) \n",
        "(**hint**: np.atleast\\_2d, T, np.sqrt)"
      ]
    },
    {
      "cell_type": "code",
      "execution_count": null,
      "metadata": {
        "id": "YenqfEHnx5N1",
        "colab": {
          "base_uri": "https://localhost:8080/"
        },
        "outputId": "374d8e4e-20dc-49bc-eb2e-0d77aea0f82d"
      },
      "outputs": [
        {
          "output_type": "execute_result",
          "data": {
            "text/plain": [
              "array([[0.  , 0.63, 0.54, 0.5 , 0.89, 0.26, 0.36, 0.41, 0.66, 0.37, 0.85,\n",
              "        0.4 , 0.4 , 0.96, 0.73, 0.43, 0.68, 0.52, 0.68, 0.6 , 0.53, 0.81,\n",
              "        0.49, 0.66, 0.56, 0.61, 0.28, 0.76, 0.44, 0.33, 0.63, 0.79, 0.43,\n",
              "        0.8 , 0.47, 0.63, 0.82, 0.89, 0.55, 0.52, 0.86, 0.72, 0.55, 0.62,\n",
              "        0.53, 0.26, 0.78, 0.57, 0.75, 0.44, 0.82, 0.88, 0.22, 0.66, 0.91,\n",
              "        0.98, 0.83, 0.5 , 0.53, 0.19, 0.38, 0.37, 0.47, 0.28, 0.24, 1.12,\n",
              "        0.89, 0.35, 0.62, 0.31, 0.58, 0.62, 0.15, 1.03, 0.67, 0.74, 0.53,\n",
              "        0.43, 0.97, 0.74, 0.25, 0.26, 0.89, 0.33, 0.74, 0.43, 0.54, 0.73,\n",
              "        0.84, 0.69, 0.74, 0.47, 0.94, 0.41, 0.88, 0.54, 0.89, 0.75, 1.02,\n",
              "        0.94],\n",
              "       [0.63, 0.  , 0.55, 0.58, 0.33, 0.4 , 0.28, 0.7 , 0.12, 0.28, 0.23,\n",
              "        0.45, 0.58, 0.37, 0.44, 0.27, 0.52, 0.66, 0.42, 0.48, 0.47, 0.55,\n",
              "        0.68, 0.29, 0.52, 0.34, 0.81, 0.35, 0.56, 0.57, 0.35, 0.56, 0.4 ,\n",
              "        0.2 , 0.54, 0.65, 0.27, 0.4 , 0.63, 0.39, 0.33, 0.33, 0.49, 0.1 ,\n",
              "        0.13, 0.68, 0.19, 0.5 , 0.21, 0.34, 0.52, 0.3 , 0.48, 0.54, 0.34,\n",
              "        0.4 , 0.3 , 0.28, 0.19, 0.51, 0.26, 0.41, 0.17, 0.64, 0.4 , 0.49,\n",
              "        0.34, 0.37, 0.61, 0.65, 0.34, 0.27, 0.65, 0.39, 0.21, 0.15, 0.37,\n",
              "        0.57, 0.34, 0.17, 0.44, 0.72, 0.45, 0.76, 0.39, 0.46, 0.49, 0.36,\n",
              "        0.27, 0.13, 0.59, 0.25, 0.35, 0.5 , 0.31, 0.35, 0.58, 0.27, 0.4 ,\n",
              "        0.59],\n",
              "       [0.54, 0.55, 0.  , 0.88, 0.88, 0.35, 0.49, 0.25, 0.47, 0.37, 0.73,\n",
              "        0.16, 0.16, 0.68, 0.28, 0.32, 0.95, 0.13, 0.88, 0.88, 0.83, 0.31,\n",
              "        0.16, 0.78, 0.04, 0.79, 0.49, 0.87, 0.11, 0.75, 0.81, 0.28, 0.17,\n",
              "        0.57, 0.07, 0.11, 0.54, 0.51, 0.08, 0.16, 0.53, 0.35, 0.06, 0.62,\n",
              "        0.42, 0.36, 0.55, 0.07, 0.75, 0.23, 0.34, 0.6 , 0.33, 0.95, 0.62,\n",
              "        0.66, 0.51, 0.67, 0.36, 0.36, 0.41, 0.67, 0.51, 0.3 , 0.46, 0.93,\n",
              "        0.57, 0.61, 0.09, 0.28, 0.77, 0.75, 0.42, 0.85, 0.73, 0.7 , 0.18,\n",
              "        0.12, 0.84, 0.72, 0.58, 0.39, 0.48, 0.39, 0.32, 0.75, 0.85, 0.87,\n",
              "        0.55, 0.49, 0.21, 0.31, 0.89, 0.13, 0.86, 0.75, 0.4 , 0.44, 0.77,\n",
              "        0.45],\n",
              "       [0.5 , 0.58, 0.88, 0.  , 0.63, 0.53, 0.4 , 0.86, 0.68, 0.52, 0.71,\n",
              "        0.72, 0.8 , 0.94, 0.93, 0.59, 0.22, 0.92, 0.29, 0.17, 0.12, 1.04,\n",
              "        0.91, 0.38, 0.87, 0.29, 0.79, 0.43, 0.81, 0.18, 0.3 , 1.04, 0.71,\n",
              "        0.78, 0.82, 0.99, 0.84, 0.97, 0.93, 0.78, 0.9 , 0.85, 0.85, 0.49,\n",
              "        0.58, 0.73, 0.77, 0.87, 0.54, 0.67, 1.03, 0.87, 0.58, 0.19, 0.91,\n",
              "        0.98, 0.88, 0.3 , 0.62, 0.58, 0.48, 0.21, 0.44, 0.73, 0.42, 0.97,\n",
              "        0.91, 0.27, 0.96, 0.76, 0.26, 0.36, 0.63, 0.88, 0.44, 0.57, 0.77,\n",
              "        0.81, 0.8 , 0.55, 0.3 , 0.75, 1.01, 0.82, 0.9 , 0.13, 0.11, 0.39,\n",
              "        0.85, 0.7 , 1.03, 0.62, 0.71, 0.76, 0.64, 0.24, 1.1 , 0.83, 0.94,\n",
              "        1.13],\n",
              "       [0.89, 0.33, 0.88, 0.63, 0.  , 0.7 , 0.53, 1.02, 0.41, 0.59, 0.2 ,\n",
              "        0.79, 0.91, 0.46, 0.74, 0.6 , 0.47, 0.99, 0.35, 0.47, 0.51, 0.84,\n",
              "        1.01, 0.26, 0.85, 0.35, 1.11, 0.2 , 0.89, 0.72, 0.34, 0.86, 0.73,\n",
              "        0.38, 0.87, 0.98, 0.46, 0.6 , 0.96, 0.72, 0.52, 0.61, 0.82, 0.29,\n",
              "        0.46, 0.99, 0.39, 0.82, 0.14, 0.67, 0.8 , 0.45, 0.78, 0.49, 0.46,\n",
              "        0.52, 0.51, 0.4 , 0.52, 0.81, 0.56, 0.56, 0.44, 0.95, 0.66, 0.36,\n",
              "        0.51, 0.55, 0.93, 0.97, 0.38, 0.29, 0.94, 0.29, 0.23, 0.18, 0.7 ,\n",
              "        0.9 , 0.21, 0.17, 0.65, 1.03, 0.67, 1.08, 0.67, 0.56, 0.52, 0.25,\n",
              "        0.46, 0.41, 0.9 , 0.58, 0.08, 0.83, 0.03, 0.41, 0.84, 0.53, 0.41,\n",
              "        0.84],\n",
              "       [0.26, 0.4 , 0.35, 0.53, 0.7 , 0.  , 0.18, 0.36, 0.41, 0.12, 0.62,\n",
              "        0.2 , 0.27, 0.7 , 0.48, 0.16, 0.63, 0.39, 0.58, 0.56, 0.5 , 0.58,\n",
              "        0.39, 0.52, 0.35, 0.5 , 0.42, 0.62, 0.28, 0.4 , 0.52, 0.56, 0.2 ,\n",
              "        0.54, 0.3 , 0.46, 0.56, 0.62, 0.4 , 0.28, 0.6 , 0.45, 0.34, 0.41,\n",
              "        0.28, 0.29, 0.53, 0.36, 0.56, 0.18, 0.58, 0.62, 0.08, 0.62, 0.65,\n",
              "        0.71, 0.57, 0.37, 0.27, 0.12, 0.14, 0.33, 0.26, 0.26, 0.11, 0.88,\n",
              "        0.62, 0.27, 0.44, 0.28, 0.47, 0.48, 0.25, 0.79, 0.49, 0.52, 0.29,\n",
              "        0.28, 0.74, 0.53, 0.23, 0.33, 0.63, 0.38, 0.48, 0.41, 0.51, 0.6 ,\n",
              "        0.58, 0.43, 0.53, 0.21, 0.73, 0.23, 0.69, 0.44, 0.65, 0.49, 0.76,\n",
              "        0.69],\n",
              "       [0.36, 0.28, 0.49, 0.4 , 0.53, 0.18, 0.  , 0.54, 0.33, 0.13, 0.49,\n",
              "        0.34, 0.45, 0.63, 0.53, 0.19, 0.46, 0.56, 0.4 , 0.39, 0.34, 0.64,\n",
              "        0.56, 0.34, 0.48, 0.32, 0.58, 0.44, 0.45, 0.33, 0.34, 0.64, 0.32,\n",
              "        0.46, 0.45, 0.6 , 0.51, 0.6 , 0.55, 0.38, 0.56, 0.46, 0.46, 0.26,\n",
              "        0.21, 0.47, 0.45, 0.47, 0.39, 0.27, 0.63, 0.55, 0.26, 0.46, 0.59,\n",
              "        0.66, 0.53, 0.19, 0.24, 0.29, 0.08, 0.19, 0.11, 0.44, 0.13, 0.77,\n",
              "        0.58, 0.14, 0.57, 0.46, 0.29, 0.3 , 0.41, 0.67, 0.32, 0.37, 0.37,\n",
              "        0.45, 0.61, 0.38, 0.17, 0.5 , 0.63, 0.56, 0.51, 0.27, 0.36, 0.42,\n",
              "        0.52, 0.36, 0.62, 0.22, 0.58, 0.39, 0.53, 0.27, 0.7 , 0.46, 0.67,\n",
              "        0.73],\n",
              "       [0.41, 0.7 , 0.25, 0.86, 1.02, 0.36, 0.54, 0.  , 0.66, 0.44, 0.91,\n",
              "        0.25, 0.12, 0.9 , 0.53, 0.43, 0.98, 0.15, 0.94, 0.91, 0.85, 0.56,\n",
              "        0.11, 0.87, 0.29, 0.86, 0.25, 0.97, 0.16, 0.7 , 0.87, 0.53, 0.3 ,\n",
              "        0.77, 0.2 , 0.28, 0.76, 0.75, 0.2 , 0.36, 0.76, 0.58, 0.3 , 0.74,\n",
              "        0.56, 0.16, 0.76, 0.32, 0.89, 0.36, 0.59, 0.82, 0.29, 0.97, 0.85,\n",
              "        0.89, 0.74, 0.72, 0.52, 0.28, 0.48, 0.67, 0.61, 0.13, 0.45, 1.14,\n",
              "        0.8 , 0.62, 0.3 , 0.1 , 0.83, 0.83, 0.26, 1.05, 0.84, 0.84, 0.38,\n",
              "        0.14, 1.02, 0.86, 0.56, 0.18, 0.73, 0.15, 0.56, 0.75, 0.86, 0.95,\n",
              "        0.77, 0.68, 0.45, 0.45, 1.05, 0.21, 1.01, 0.8 , 0.65, 0.66, 0.98,\n",
              "        0.7 ],\n",
              "       [0.66, 0.12, 0.47, 0.68, 0.41, 0.41, 0.33, 0.66, 0.  , 0.29, 0.26,\n",
              "        0.41, 0.54, 0.3 , 0.33, 0.25, 0.64, 0.6 , 0.53, 0.6 , 0.58, 0.44,\n",
              "        0.62, 0.4 , 0.44, 0.46, 0.8 , 0.46, 0.51, 0.66, 0.47, 0.46, 0.35,\n",
              "        0.14, 0.48, 0.56, 0.17, 0.29, 0.56, 0.32, 0.23, 0.21, 0.41, 0.21,\n",
              "        0.13, 0.66, 0.12, 0.41, 0.31, 0.3 , 0.41, 0.22, 0.48, 0.65, 0.26,\n",
              "        0.32, 0.2 , 0.38, 0.15, 0.52, 0.29, 0.5 , 0.24, 0.61, 0.43, 0.49,\n",
              "        0.24, 0.45, 0.52, 0.62, 0.46, 0.38, 0.65, 0.39, 0.33, 0.24, 0.3 ,\n",
              "        0.52, 0.37, 0.27, 0.5 , 0.71, 0.34, 0.74, 0.27, 0.56, 0.59, 0.48,\n",
              "        0.18, 0.03, 0.48, 0.21, 0.41, 0.45, 0.39, 0.46, 0.46, 0.15, 0.36,\n",
              "        0.48],\n",
              "       [0.37, 0.28, 0.37, 0.52, 0.59, 0.12, 0.13, 0.44, 0.29, 0.  , 0.51,\n",
              "        0.22, 0.34, 0.59, 0.42, 0.07, 0.58, 0.44, 0.52, 0.52, 0.47, 0.53,\n",
              "        0.45, 0.43, 0.35, 0.43, 0.53, 0.53, 0.33, 0.43, 0.45, 0.52, 0.19,\n",
              "        0.43, 0.33, 0.48, 0.45, 0.53, 0.43, 0.25, 0.49, 0.37, 0.33, 0.3 ,\n",
              "        0.16, 0.4 , 0.41, 0.35, 0.45, 0.14, 0.52, 0.51, 0.2 , 0.58, 0.54,\n",
              "        0.61, 0.46, 0.3 , 0.16, 0.23, 0.05, 0.32, 0.16, 0.36, 0.15, 0.77,\n",
              "        0.52, 0.26, 0.45, 0.38, 0.41, 0.4 , 0.37, 0.67, 0.4 , 0.41, 0.24,\n",
              "        0.34, 0.62, 0.42, 0.26, 0.44, 0.55, 0.49, 0.41, 0.4 , 0.48, 0.52,\n",
              "        0.47, 0.32, 0.5 , 0.12, 0.62, 0.27, 0.58, 0.39, 0.59, 0.39, 0.65,\n",
              "        0.63],\n",
              "       [0.85, 0.23, 0.73, 0.71, 0.2 , 0.62, 0.49, 0.91, 0.26, 0.51, 0.  ,\n",
              "        0.66, 0.79, 0.27, 0.56, 0.49, 0.59, 0.85, 0.47, 0.58, 0.59, 0.65,\n",
              "        0.88, 0.34, 0.69, 0.43, 1.04, 0.34, 0.76, 0.75, 0.43, 0.68, 0.61,\n",
              "        0.19, 0.74, 0.82, 0.27, 0.41, 0.82, 0.58, 0.32, 0.43, 0.67, 0.24,\n",
              "        0.35, 0.9 , 0.2 , 0.67, 0.18, 0.55, 0.61, 0.25, 0.7 , 0.61, 0.27,\n",
              "        0.33, 0.32, 0.43, 0.39, 0.74, 0.48, 0.58, 0.38, 0.86, 0.62, 0.28,\n",
              "        0.31, 0.56, 0.78, 0.87, 0.45, 0.35, 0.87, 0.18, 0.28, 0.14, 0.56,\n",
              "        0.78, 0.12, 0.16, 0.64, 0.94, 0.48, 0.98, 0.49, 0.61, 0.6 , 0.38,\n",
              "        0.26, 0.24, 0.72, 0.46, 0.16, 0.7 , 0.16, 0.47, 0.65, 0.34, 0.24,\n",
              "        0.64],\n",
              "       [0.4 , 0.45, 0.16, 0.72, 0.79, 0.2 , 0.34, 0.25, 0.41, 0.22, 0.66,\n",
              "        0.  , 0.13, 0.67, 0.34, 0.19, 0.8 , 0.22, 0.74, 0.74, 0.68, 0.41,\n",
              "        0.23, 0.65, 0.16, 0.66, 0.42, 0.75, 0.11, 0.6 , 0.67, 0.39, 0.06,\n",
              "        0.53, 0.1 , 0.27, 0.52, 0.53, 0.21, 0.14, 0.54, 0.36, 0.15, 0.51,\n",
              "        0.32, 0.28, 0.51, 0.17, 0.65, 0.12, 0.43, 0.58, 0.18, 0.8 , 0.61,\n",
              "        0.66, 0.51, 0.53, 0.27, 0.21, 0.27, 0.52, 0.38, 0.22, 0.3 , 0.89,\n",
              "        0.57, 0.46, 0.25, 0.22, 0.63, 0.62, 0.31, 0.8 , 0.61, 0.6 , 0.15,\n",
              "        0.12, 0.78, 0.62, 0.43, 0.32, 0.53, 0.34, 0.36, 0.6 , 0.7 , 0.74,\n",
              "        0.54, 0.43, 0.34, 0.21, 0.8 , 0.04, 0.76, 0.61, 0.5 , 0.43, 0.75,\n",
              "        0.54],\n",
              "       [0.4 , 0.58, 0.16, 0.8 , 0.91, 0.27, 0.45, 0.12, 0.54, 0.34, 0.79,\n",
              "        0.13, 0.  , 0.78, 0.42, 0.32, 0.9 , 0.12, 0.85, 0.83, 0.77, 0.46,\n",
              "        0.12, 0.77, 0.19, 0.76, 0.33, 0.87, 0.05, 0.65, 0.78, 0.44, 0.19,\n",
              "        0.65, 0.09, 0.23, 0.64, 0.64, 0.15, 0.24, 0.65, 0.47, 0.2 , 0.63,\n",
              "        0.45, 0.2 , 0.64, 0.21, 0.78, 0.25, 0.49, 0.7 , 0.22, 0.9 , 0.73,\n",
              "        0.77, 0.62, 0.63, 0.4 , 0.23, 0.38, 0.6 , 0.5 , 0.14, 0.37, 1.02,\n",
              "        0.68, 0.55, 0.23, 0.13, 0.74, 0.73, 0.27, 0.93, 0.73, 0.73, 0.26,\n",
              "        0.03, 0.9 , 0.74, 0.5 , 0.24, 0.62, 0.24, 0.45, 0.68, 0.79, 0.86,\n",
              "        0.65, 0.56, 0.37, 0.34, 0.93, 0.09, 0.89, 0.71, 0.55, 0.54, 0.87,\n",
              "        0.6 ],\n",
              "       [0.96, 0.37, 0.68, 0.94, 0.46, 0.7 , 0.63, 0.9 , 0.3 , 0.59, 0.27,\n",
              "        0.67, 0.78, 0.  , 0.42, 0.54, 0.85, 0.81, 0.73, 0.82, 0.83, 0.49,\n",
              "        0.84, 0.6 , 0.63, 0.68, 1.08, 0.61, 0.74, 0.94, 0.68, 0.52, 0.61,\n",
              "        0.17, 0.7 , 0.73, 0.15, 0.2 , 0.76, 0.54, 0.14, 0.33, 0.61, 0.45,\n",
              "        0.43, 0.94, 0.18, 0.6 , 0.44, 0.56, 0.44, 0.09, 0.77, 0.87, 0.05,\n",
              "        0.06, 0.16, 0.64, 0.44, 0.81, 0.59, 0.78, 0.53, 0.88, 0.74, 0.28,\n",
              "        0.11, 0.74, 0.69, 0.89, 0.69, 0.59, 0.94, 0.23, 0.52, 0.38, 0.52,\n",
              "        0.76, 0.28, 0.41, 0.8 , 0.98, 0.26, 1.01, 0.36, 0.83, 0.84, 0.64,\n",
              "        0.13, 0.28, 0.59, 0.5 , 0.41, 0.7 , 0.43, 0.7 , 0.45, 0.24, 0.1 ,\n",
              "        0.43],\n",
              "       [0.73, 0.44, 0.28, 0.93, 0.74, 0.48, 0.53, 0.53, 0.33, 0.42, 0.56,\n",
              "        0.34, 0.42, 0.42, 0.  , 0.35, 0.94, 0.41, 0.85, 0.89, 0.86, 0.11,\n",
              "        0.44, 0.72, 0.23, 0.76, 0.75, 0.79, 0.37, 0.86, 0.78, 0.12, 0.3 ,\n",
              "        0.37, 0.33, 0.31, 0.31, 0.24, 0.35, 0.21, 0.28, 0.12, 0.22, 0.54,\n",
              "        0.37, 0.61, 0.35, 0.21, 0.64, 0.3 , 0.1 , 0.36, 0.51, 0.95, 0.37,\n",
              "        0.39, 0.27, 0.66, 0.31, 0.55, 0.46, 0.73, 0.5 , 0.55, 0.57, 0.7 ,\n",
              "        0.32, 0.67, 0.27, 0.54, 0.75, 0.7 , 0.65, 0.63, 0.65, 0.57, 0.2 ,\n",
              "        0.39, 0.64, 0.6 , 0.68, 0.65, 0.2 , 0.66, 0.06, 0.8 , 0.87, 0.8 ,\n",
              "        0.32, 0.33, 0.17, 0.31, 0.72, 0.35, 0.71, 0.75, 0.17, 0.22, 0.52,\n",
              "        0.21],\n",
              "       [0.43, 0.27, 0.32, 0.59, 0.6 , 0.16, 0.19, 0.43, 0.25, 0.07, 0.49,\n",
              "        0.19, 0.32, 0.54, 0.35, 0.  , 0.64, 0.41, 0.57, 0.57, 0.53, 0.46,\n",
              "        0.42, 0.47, 0.3 , 0.48, 0.55, 0.56, 0.3 , 0.51, 0.49, 0.45, 0.15,\n",
              "        0.38, 0.29, 0.43, 0.4 , 0.46, 0.39, 0.19, 0.43, 0.3 , 0.27, 0.32,\n",
              "        0.14, 0.41, 0.37, 0.29, 0.46, 0.09, 0.45, 0.45, 0.23, 0.64, 0.49,\n",
              "        0.55, 0.4 , 0.35, 0.11, 0.27, 0.11, 0.39, 0.2 , 0.37, 0.22, 0.74,\n",
              "        0.46, 0.33, 0.39, 0.38, 0.46, 0.43, 0.4 , 0.64, 0.42, 0.41, 0.17,\n",
              "        0.31, 0.6 , 0.43, 0.33, 0.46, 0.48, 0.5 , 0.33, 0.46, 0.54, 0.55,\n",
              "        0.41, 0.28, 0.43, 0.05, 0.62, 0.24, 0.58, 0.44, 0.52, 0.33, 0.61,\n",
              "        0.55],\n",
              "       [0.68, 0.52, 0.95, 0.22, 0.47, 0.63, 0.46, 0.98, 0.64, 0.58, 0.59,\n",
              "        0.8 , 0.9 , 0.85, 0.94, 0.64, 0.  , 1.01, 0.12, 0.07, 0.14, 1.05,\n",
              "        1.01, 0.25, 0.93, 0.18, 0.95, 0.26, 0.9 , 0.38, 0.17, 1.06, 0.78,\n",
              "        0.7 , 0.91, 1.06, 0.78, 0.92, 1.01, 0.82, 0.84, 0.84, 0.91, 0.42,\n",
              "        0.58, 0.88, 0.7 , 0.92, 0.41, 0.72, 1.03, 0.8 , 0.69, 0.03, 0.83,\n",
              "        0.9 , 0.82, 0.28, 0.63, 0.7 , 0.53, 0.31, 0.45, 0.87, 0.53, 0.82,\n",
              "        0.85, 0.36, 1.03, 0.89, 0.19, 0.26, 0.79, 0.75, 0.33, 0.46, 0.81,\n",
              "        0.91, 0.66, 0.44, 0.44, 0.9 , 0.97, 0.97, 0.9 , 0.25, 0.13, 0.22,\n",
              "        0.78, 0.65, 1.06, 0.65, 0.54, 0.84, 0.49, 0.2 , 1.09, 0.79, 0.83,\n",
              "        1.11],\n",
              "       [0.52, 0.66, 0.13, 0.92, 0.99, 0.39, 0.56, 0.15, 0.6 , 0.44, 0.85,\n",
              "        0.22, 0.12, 0.81, 0.41, 0.41, 1.01, 0.  , 0.96, 0.95, 0.89, 0.42,\n",
              "        0.04, 0.87, 0.18, 0.87, 0.4 , 0.96, 0.11, 0.78, 0.89, 0.39, 0.26,\n",
              "        0.7 , 0.12, 0.14, 0.67, 0.64, 0.06, 0.28, 0.67, 0.48, 0.19, 0.72,\n",
              "        0.53, 0.29, 0.68, 0.2 , 0.86, 0.32, 0.46, 0.73, 0.34, 1.01, 0.75,\n",
              "        0.79, 0.65, 0.74, 0.47, 0.36, 0.49, 0.72, 0.6 , 0.24, 0.49, 1.06,\n",
              "        0.7 , 0.67, 0.16, 0.22, 0.85, 0.83, 0.38, 0.97, 0.83, 0.81, 0.3 ,\n",
              "        0.11, 0.96, 0.83, 0.62, 0.32, 0.61, 0.29, 0.45, 0.8 , 0.9 , 0.96,\n",
              "        0.68, 0.61, 0.31, 0.42, 1.  , 0.17, 0.97, 0.82, 0.51, 0.57, 0.9 ,\n",
              "        0.56],\n",
              "       [0.68, 0.42, 0.88, 0.29, 0.35, 0.58, 0.4 , 0.94, 0.53, 0.52, 0.47,\n",
              "        0.74, 0.85, 0.73, 0.85, 0.57, 0.12, 0.96, 0.  , 0.12, 0.18, 0.96,\n",
              "        0.96, 0.14, 0.86, 0.09, 0.95, 0.15, 0.85, 0.42, 0.07, 0.97, 0.71,\n",
              "        0.59, 0.85, 0.99, 0.67, 0.81, 0.95, 0.75, 0.73, 0.74, 0.84, 0.32,\n",
              "        0.49, 0.85, 0.59, 0.85, 0.29, 0.65, 0.93, 0.68, 0.66, 0.14, 0.71,\n",
              "        0.78, 0.71, 0.22, 0.55, 0.67, 0.47, 0.3 , 0.37, 0.84, 0.5 , 0.71,\n",
              "        0.73, 0.33, 0.96, 0.86, 0.11, 0.15, 0.78, 0.63, 0.21, 0.35, 0.73,\n",
              "        0.85, 0.54, 0.32, 0.43, 0.88, 0.87, 0.94, 0.8 , 0.26, 0.18, 0.11,\n",
              "        0.67, 0.54, 0.98, 0.58, 0.43, 0.79, 0.37, 0.14, 1.  , 0.69, 0.71,\n",
              "        1.01],\n",
              "       [0.6 , 0.48, 0.88, 0.17, 0.47, 0.56, 0.39, 0.91, 0.6 , 0.52, 0.58,\n",
              "        0.74, 0.83, 0.82, 0.89, 0.57, 0.07, 0.95, 0.12, 0.  , 0.07, 1.  ,\n",
              "        0.95, 0.23, 0.87, 0.15, 0.88, 0.27, 0.84, 0.31, 0.15, 1.  , 0.71,\n",
              "        0.67, 0.84, 1.  , 0.75, 0.88, 0.94, 0.76, 0.81, 0.79, 0.85, 0.39,\n",
              "        0.52, 0.81, 0.67, 0.86, 0.4 , 0.66, 0.98, 0.77, 0.62, 0.07, 0.8 ,\n",
              "        0.87, 0.79, 0.23, 0.58, 0.63, 0.47, 0.24, 0.39, 0.8 , 0.46, 0.82,\n",
              "        0.81, 0.28, 0.97, 0.82, 0.14, 0.23, 0.72, 0.74, 0.3 , 0.44, 0.75,\n",
              "        0.84, 0.66, 0.42, 0.36, 0.83, 0.93, 0.89, 0.85, 0.17, 0.06, 0.23,\n",
              "        0.75, 0.61, 1.  , 0.59, 0.55, 0.78, 0.49, 0.14, 1.04, 0.75, 0.82,\n",
              "        1.07],\n",
              "       [0.53, 0.47, 0.83, 0.12, 0.51, 0.5 , 0.34, 0.85, 0.58, 0.47, 0.59,\n",
              "        0.68, 0.77, 0.83, 0.86, 0.53, 0.14, 0.89, 0.18, 0.07, 0.  , 0.97,\n",
              "        0.89, 0.26, 0.82, 0.17, 0.81, 0.32, 0.78, 0.24, 0.18, 0.97, 0.66,\n",
              "        0.67, 0.79, 0.95, 0.74, 0.87, 0.89, 0.72, 0.8 , 0.77, 0.8 , 0.38,\n",
              "        0.49, 0.74, 0.66, 0.81, 0.42, 0.61, 0.95, 0.77, 0.56, 0.13, 0.8 ,\n",
              "        0.87, 0.77, 0.2 , 0.55, 0.57, 0.42, 0.17, 0.36, 0.73, 0.4 , 0.85,\n",
              "        0.81, 0.22, 0.92, 0.76, 0.14, 0.24, 0.65, 0.76, 0.32, 0.46, 0.7 ,\n",
              "        0.78, 0.68, 0.44, 0.3 , 0.76, 0.91, 0.83, 0.82, 0.1 , 0.01, 0.27,\n",
              "        0.75, 0.6 , 0.96, 0.55, 0.59, 0.72, 0.52, 0.13, 1.02, 0.73, 0.83,\n",
              "        1.04],\n",
              "       [0.81, 0.55, 0.31, 1.04, 0.84, 0.58, 0.64, 0.56, 0.44, 0.53, 0.65,\n",
              "        0.41, 0.46, 0.49, 0.11, 0.46, 1.05, 0.42, 0.96, 1.  , 0.97, 0.  ,\n",
              "        0.46, 0.84, 0.27, 0.88, 0.8 , 0.9 , 0.41, 0.96, 0.89, 0.04, 0.38,\n",
              "        0.46, 0.37, 0.3 , 0.4 , 0.29, 0.36, 0.29, 0.36, 0.23, 0.27, 0.65,\n",
              "        0.48, 0.66, 0.45, 0.25, 0.75, 0.4 , 0.05, 0.43, 0.59, 1.06, 0.44,\n",
              "        0.45, 0.35, 0.77, 0.42, 0.63, 0.56, 0.84, 0.61, 0.6 , 0.67, 0.77,\n",
              "        0.39, 0.78, 0.27, 0.59, 0.87, 0.81, 0.72, 0.71, 0.77, 0.68, 0.29,\n",
              "        0.43, 0.73, 0.71, 0.79, 0.7 , 0.23, 0.7 , 0.17, 0.91, 0.98, 0.91,\n",
              "        0.4 , 0.44, 0.12, 0.42, 0.82, 0.41, 0.81, 0.86, 0.09, 0.31, 0.59,\n",
              "        0.14],\n",
              "       [0.49, 0.68, 0.16, 0.91, 1.01, 0.39, 0.56, 0.11, 0.62, 0.45, 0.88,\n",
              "        0.23, 0.12, 0.84, 0.44, 0.42, 1.01, 0.04, 0.96, 0.95, 0.89, 0.46,\n",
              "        0.  , 0.88, 0.21, 0.88, 0.36, 0.97, 0.12, 0.76, 0.89, 0.43, 0.28,\n",
              "        0.73, 0.14, 0.18, 0.7 , 0.67, 0.1 , 0.3 , 0.7 , 0.51, 0.23, 0.73,\n",
              "        0.55, 0.26, 0.71, 0.24, 0.88, 0.34, 0.49, 0.76, 0.33, 1.01, 0.78,\n",
              "        0.82, 0.68, 0.75, 0.49, 0.34, 0.49, 0.72, 0.61, 0.22, 0.49, 1.09,\n",
              "        0.73, 0.66, 0.19, 0.19, 0.85, 0.84, 0.35, 1.  , 0.84, 0.83, 0.33,\n",
              "        0.11, 0.98, 0.84, 0.61, 0.28, 0.65, 0.26, 0.49, 0.8 , 0.9 , 0.97,\n",
              "        0.71, 0.64, 0.35, 0.43, 1.02, 0.18, 0.99, 0.83, 0.55, 0.6 , 0.93,\n",
              "        0.6 ],\n",
              "       [0.66, 0.29, 0.78, 0.38, 0.26, 0.52, 0.34, 0.87, 0.4 , 0.43, 0.34,\n",
              "        0.65, 0.77, 0.6 , 0.72, 0.47, 0.25, 0.87, 0.14, 0.23, 0.26, 0.84,\n",
              "        0.88, 0.  , 0.76, 0.09, 0.91, 0.1 , 0.76, 0.46, 0.08, 0.84, 0.61,\n",
              "        0.45, 0.75, 0.89, 0.53, 0.67, 0.85, 0.64, 0.6 , 0.61, 0.73, 0.19,\n",
              "        0.37, 0.8 , 0.45, 0.74, 0.16, 0.55, 0.8 , 0.55, 0.6 , 0.27, 0.58,\n",
              "        0.64, 0.57, 0.16, 0.43, 0.62, 0.39, 0.31, 0.27, 0.78, 0.45, 0.59,\n",
              "        0.6 , 0.31, 0.85, 0.8 , 0.12, 0.04, 0.74, 0.51, 0.08, 0.21, 0.62,\n",
              "        0.77, 0.42, 0.19, 0.41, 0.84, 0.73, 0.89, 0.67, 0.3 , 0.26, 0.09,\n",
              "        0.54, 0.41, 0.86, 0.47, 0.33, 0.7 , 0.27, 0.15, 0.86, 0.55, 0.58,\n",
              "        0.88],\n",
              "       [0.56, 0.52, 0.04, 0.87, 0.85, 0.35, 0.48, 0.29, 0.44, 0.35, 0.69,\n",
              "        0.16, 0.19, 0.63, 0.23, 0.3 , 0.93, 0.18, 0.86, 0.87, 0.82, 0.27,\n",
              "        0.21, 0.76, 0.  , 0.77, 0.53, 0.84, 0.14, 0.76, 0.79, 0.25, 0.16,\n",
              "        0.53, 0.1 , 0.13, 0.5 , 0.47, 0.13, 0.12, 0.49, 0.31, 0.02, 0.59,\n",
              "        0.39, 0.39, 0.51, 0.03, 0.72, 0.21, 0.3 , 0.55, 0.34, 0.94, 0.58,\n",
              "        0.61, 0.47, 0.65, 0.33, 0.37, 0.4 , 0.66, 0.49, 0.33, 0.46, 0.89,\n",
              "        0.53, 0.61, 0.1 , 0.32, 0.75, 0.72, 0.45, 0.8 , 0.7 , 0.66, 0.14,\n",
              "        0.16, 0.8 , 0.68, 0.58, 0.43, 0.44, 0.43, 0.28, 0.75, 0.84, 0.84,\n",
              "        0.51, 0.45, 0.19, 0.29, 0.85, 0.14, 0.82, 0.74, 0.36, 0.39, 0.72,\n",
              "        0.41],\n",
              "       [0.61, 0.34, 0.79, 0.29, 0.35, 0.5 , 0.32, 0.86, 0.46, 0.43, 0.43,\n",
              "        0.66, 0.76, 0.68, 0.76, 0.48, 0.18, 0.87, 0.09, 0.15, 0.17, 0.88,\n",
              "        0.88, 0.09, 0.77, 0.  , 0.87, 0.16, 0.76, 0.38, 0.02, 0.89, 0.62,\n",
              "        0.53, 0.76, 0.91, 0.6 , 0.74, 0.86, 0.66, 0.67, 0.66, 0.75, 0.25,\n",
              "        0.4 , 0.77, 0.53, 0.76, 0.25, 0.56, 0.85, 0.62, 0.58, 0.19, 0.66,\n",
              "        0.72, 0.64, 0.13, 0.46, 0.59, 0.39, 0.24, 0.28, 0.75, 0.42, 0.68,\n",
              "        0.67, 0.26, 0.87, 0.78, 0.04, 0.08, 0.7 , 0.6 , 0.16, 0.3 , 0.64,\n",
              "        0.77, 0.52, 0.27, 0.36, 0.8 , 0.79, 0.86, 0.72, 0.22, 0.17, 0.12,\n",
              "        0.61, 0.47, 0.89, 0.49, 0.42, 0.7 , 0.36, 0.07, 0.92, 0.61, 0.67,\n",
              "        0.93],\n",
              "       [0.28, 0.81, 0.49, 0.79, 1.11, 0.42, 0.58, 0.25, 0.8 , 0.53, 1.04,\n",
              "        0.42, 0.33, 1.08, 0.75, 0.55, 0.95, 0.4 , 0.95, 0.88, 0.81, 0.8 ,\n",
              "        0.36, 0.91, 0.53, 0.87, 0.  , 1.01, 0.39, 0.61, 0.89, 0.77, 0.48,\n",
              "        0.94, 0.43, 0.54, 0.94, 0.96, 0.45, 0.56, 0.96, 0.78, 0.53, 0.83,\n",
              "        0.69, 0.15, 0.92, 0.55, 0.97, 0.52, 0.83, 1.  , 0.33, 0.94, 1.03,\n",
              "        1.08, 0.93, 0.75, 0.66, 0.3 , 0.56, 0.65, 0.68, 0.2 , 0.46, 1.29,\n",
              "        0.99, 0.61, 0.55, 0.21, 0.84, 0.87, 0.17, 1.19, 0.9 , 0.94, 0.58,\n",
              "        0.37, 1.15, 0.95, 0.52, 0.1 , 0.95, 0.11, 0.78, 0.71, 0.82, 0.99,\n",
              "        0.95, 0.83, 0.7 , 0.59, 1.15, 0.4 , 1.1 , 0.8 , 0.89, 0.85, 1.16,\n",
              "        0.94],\n",
              "       [0.76, 0.35, 0.87, 0.43, 0.2 , 0.62, 0.44, 0.97, 0.46, 0.53, 0.34,\n",
              "        0.75, 0.87, 0.61, 0.79, 0.56, 0.26, 0.96, 0.15, 0.27, 0.32, 0.9 ,\n",
              "        0.97, 0.1 , 0.84, 0.16, 1.01, 0.  , 0.86, 0.54, 0.15, 0.91, 0.71,\n",
              "        0.49, 0.85, 0.98, 0.57, 0.71, 0.95, 0.72, 0.63, 0.67, 0.82, 0.26,\n",
              "        0.45, 0.9 , 0.49, 0.83, 0.17, 0.64, 0.87, 0.57, 0.7 , 0.29, 0.6 ,\n",
              "        0.66, 0.61, 0.26, 0.51, 0.72, 0.49, 0.4 , 0.36, 0.88, 0.55, 0.56,\n",
              "        0.63, 0.41, 0.94, 0.9 , 0.2 , 0.14, 0.84, 0.48, 0.14, 0.24, 0.7 ,\n",
              "        0.86, 0.4 , 0.21, 0.51, 0.94, 0.77, 0.99, 0.74, 0.38, 0.32, 0.05,\n",
              "        0.57, 0.46, 0.93, 0.56, 0.28, 0.79, 0.22, 0.23, 0.92, 0.6 , 0.58,\n",
              "        0.93],\n",
              "       [0.44, 0.56, 0.11, 0.81, 0.89, 0.28, 0.45, 0.16, 0.51, 0.33, 0.76,\n",
              "        0.11, 0.05, 0.74, 0.37, 0.3 , 0.9 , 0.11, 0.85, 0.84, 0.78, 0.41,\n",
              "        0.12, 0.76, 0.14, 0.76, 0.39, 0.86, 0.  , 0.68, 0.78, 0.39, 0.16,\n",
              "        0.62, 0.04, 0.19, 0.6 , 0.59, 0.12, 0.2 , 0.6 , 0.42, 0.15, 0.61,\n",
              "        0.43, 0.25, 0.6 , 0.16, 0.76, 0.22, 0.44, 0.66, 0.25, 0.9 , 0.69,\n",
              "        0.73, 0.58, 0.63, 0.37, 0.26, 0.38, 0.61, 0.49, 0.19, 0.39, 0.98,\n",
              "        0.64, 0.56, 0.19, 0.18, 0.74, 0.73, 0.32, 0.89, 0.72, 0.71, 0.22,\n",
              "        0.02, 0.87, 0.72, 0.51, 0.29, 0.57, 0.29, 0.4 , 0.69, 0.8 , 0.85,\n",
              "        0.61, 0.53, 0.32, 0.31, 0.91, 0.06, 0.87, 0.71, 0.5 , 0.5 , 0.83,\n",
              "        0.55],\n",
              "       [0.33, 0.57, 0.75, 0.18, 0.72, 0.4 , 0.33, 0.7 , 0.66, 0.43, 0.75,\n",
              "        0.6 , 0.65, 0.94, 0.86, 0.51, 0.38, 0.78, 0.42, 0.31, 0.24, 0.96,\n",
              "        0.76, 0.46, 0.76, 0.38, 0.61, 0.54, 0.68, 0.  , 0.4 , 0.95, 0.6 ,\n",
              "        0.77, 0.7 , 0.86, 0.83, 0.93, 0.79, 0.68, 0.88, 0.8 , 0.74, 0.51,\n",
              "        0.54, 0.57, 0.76, 0.76, 0.6 , 0.57, 0.96, 0.87, 0.43, 0.36, 0.91,\n",
              "        0.98, 0.85, 0.33, 0.57, 0.42, 0.4 , 0.17, 0.41, 0.57, 0.3 , 1.03,\n",
              "        0.9 , 0.21, 0.84, 0.6 , 0.35, 0.43, 0.46, 0.93, 0.5 , 0.62, 0.67,\n",
              "        0.67, 0.86, 0.6 , 0.18, 0.58, 0.97, 0.65, 0.84, 0.16, 0.25, 0.5 ,\n",
              "        0.84, 0.68, 0.93, 0.55, 0.79, 0.63, 0.72, 0.31, 1.03, 0.79, 0.97,\n",
              "        1.06],\n",
              "       [0.63, 0.35, 0.81, 0.3 , 0.34, 0.52, 0.34, 0.87, 0.47, 0.45, 0.43,\n",
              "        0.67, 0.78, 0.68, 0.78, 0.49, 0.17, 0.89, 0.07, 0.15, 0.18, 0.89,\n",
              "        0.89, 0.08, 0.79, 0.02, 0.89, 0.15, 0.78, 0.4 , 0.  , 0.9 , 0.64,\n",
              "        0.53, 0.78, 0.92, 0.61, 0.75, 0.88, 0.67, 0.67, 0.67, 0.77, 0.25,\n",
              "        0.41, 0.79, 0.53, 0.78, 0.25, 0.58, 0.86, 0.63, 0.59, 0.19, 0.66,\n",
              "        0.72, 0.65, 0.15, 0.47, 0.61, 0.4 , 0.26, 0.3 , 0.77, 0.44, 0.68,\n",
              "        0.67, 0.28, 0.89, 0.8 , 0.05, 0.08, 0.72, 0.59, 0.16, 0.3 , 0.66,\n",
              "        0.78, 0.51, 0.27, 0.38, 0.82, 0.8 , 0.88, 0.73, 0.24, 0.18, 0.11,\n",
              "        0.61, 0.48, 0.9 , 0.5 , 0.41, 0.72, 0.35, 0.09, 0.92, 0.62, 0.67,\n",
              "        0.94],\n",
              "       [0.79, 0.56, 0.28, 1.04, 0.86, 0.56, 0.64, 0.53, 0.46, 0.52, 0.68,\n",
              "        0.39, 0.44, 0.52, 0.12, 0.45, 1.06, 0.39, 0.97, 1.  , 0.97, 0.04,\n",
              "        0.43, 0.84, 0.25, 0.89, 0.77, 0.91, 0.39, 0.95, 0.9 , 0.  , 0.37,\n",
              "        0.49, 0.34, 0.26, 0.42, 0.32, 0.33, 0.28, 0.38, 0.25, 0.25, 0.66,\n",
              "        0.48, 0.64, 0.47, 0.23, 0.76, 0.39, 0.09, 0.46, 0.57, 1.07, 0.47,\n",
              "        0.48, 0.38, 0.78, 0.43, 0.61, 0.56, 0.83, 0.62, 0.58, 0.66, 0.8 ,\n",
              "        0.42, 0.78, 0.23, 0.56, 0.87, 0.82, 0.7 , 0.73, 0.78, 0.69, 0.28,\n",
              "        0.4 , 0.75, 0.72, 0.78, 0.67, 0.27, 0.67, 0.18, 0.91, 0.98, 0.92,\n",
              "        0.43, 0.46, 0.08, 0.42, 0.84, 0.39, 0.83, 0.87, 0.12, 0.33, 0.62,\n",
              "        0.17],\n",
              "       [0.43, 0.4 , 0.17, 0.71, 0.73, 0.2 , 0.32, 0.3 , 0.35, 0.19, 0.61,\n",
              "        0.06, 0.19, 0.61, 0.3 , 0.15, 0.78, 0.26, 0.71, 0.71, 0.66, 0.38,\n",
              "        0.28, 0.61, 0.16, 0.62, 0.48, 0.71, 0.16, 0.6 , 0.64, 0.37, 0.  ,\n",
              "        0.47, 0.14, 0.29, 0.46, 0.48, 0.24, 0.09, 0.48, 0.3 , 0.14, 0.46,\n",
              "        0.27, 0.33, 0.45, 0.16, 0.6 , 0.06, 0.39, 0.52, 0.21, 0.78, 0.55,\n",
              "        0.6 , 0.45, 0.5 , 0.22, 0.25, 0.24, 0.5 , 0.35, 0.28, 0.3 , 0.84,\n",
              "        0.51, 0.45, 0.26, 0.28, 0.6 , 0.58, 0.36, 0.74, 0.57, 0.55, 0.1 ,\n",
              "        0.17, 0.72, 0.57, 0.43, 0.38, 0.48, 0.4 , 0.31, 0.58, 0.68, 0.7 ,\n",
              "        0.48, 0.37, 0.33, 0.16, 0.75, 0.1 , 0.71, 0.58, 0.46, 0.37, 0.69,\n",
              "        0.5 ],\n",
              "       [0.8 , 0.2 , 0.57, 0.78, 0.38, 0.54, 0.46, 0.77, 0.14, 0.43, 0.19,\n",
              "        0.53, 0.65, 0.17, 0.37, 0.38, 0.7 , 0.7 , 0.59, 0.67, 0.67, 0.46,\n",
              "        0.73, 0.45, 0.53, 0.53, 0.94, 0.49, 0.62, 0.77, 0.53, 0.49, 0.47,\n",
              "        0.  , 0.59, 0.65, 0.08, 0.23, 0.66, 0.42, 0.14, 0.25, 0.51, 0.29,\n",
              "        0.27, 0.79, 0.02, 0.5 , 0.32, 0.42, 0.42, 0.1 , 0.61, 0.72, 0.13,\n",
              "        0.2 , 0.13, 0.48, 0.28, 0.65, 0.42, 0.61, 0.36, 0.74, 0.57, 0.37,\n",
              "        0.14, 0.57, 0.6 , 0.75, 0.53, 0.45, 0.79, 0.28, 0.38, 0.25, 0.4 ,\n",
              "        0.63, 0.27, 0.28, 0.63, 0.84, 0.29, 0.87, 0.3 , 0.66, 0.68, 0.51,\n",
              "        0.08, 0.11, 0.53, 0.34, 0.36, 0.57, 0.35, 0.54, 0.46, 0.15, 0.22,\n",
              "        0.46],\n",
              "       [0.47, 0.54, 0.07, 0.82, 0.87, 0.3 , 0.45, 0.2 , 0.48, 0.33, 0.74,\n",
              "        0.1 , 0.09, 0.7 , 0.33, 0.29, 0.91, 0.12, 0.85, 0.84, 0.79, 0.37,\n",
              "        0.14, 0.75, 0.1 , 0.76, 0.43, 0.85, 0.04, 0.7 , 0.78, 0.34, 0.14,\n",
              "        0.59, 0.  , 0.17, 0.56, 0.55, 0.1 , 0.16, 0.57, 0.38, 0.1 , 0.6 ,\n",
              "        0.41, 0.29, 0.57, 0.12, 0.74, 0.2 , 0.4 , 0.62, 0.27, 0.91, 0.65,\n",
              "        0.69, 0.54, 0.63, 0.35, 0.29, 0.37, 0.62, 0.48, 0.23, 0.4 , 0.95,\n",
              "        0.6 , 0.57, 0.15, 0.22, 0.73, 0.72, 0.36, 0.86, 0.71, 0.69, 0.19,\n",
              "        0.06, 0.84, 0.71, 0.53, 0.33, 0.53, 0.33, 0.36, 0.7 , 0.8 , 0.84,\n",
              "        0.58, 0.5 , 0.28, 0.29, 0.88, 0.07, 0.85, 0.71, 0.46, 0.46, 0.79,\n",
              "        0.51],\n",
              "       [0.63, 0.65, 0.11, 0.99, 0.98, 0.46, 0.6 , 0.28, 0.56, 0.48, 0.82,\n",
              "        0.27, 0.23, 0.73, 0.31, 0.43, 1.06, 0.14, 0.99, 1.  , 0.95, 0.3 ,\n",
              "        0.18, 0.89, 0.13, 0.91, 0.54, 0.98, 0.19, 0.86, 0.92, 0.26, 0.29,\n",
              "        0.65, 0.17, 0.  , 0.6 , 0.55, 0.09, 0.26, 0.59, 0.41, 0.16, 0.72,\n",
              "        0.53, 0.42, 0.63, 0.15, 0.85, 0.34, 0.34, 0.66, 0.44, 1.06, 0.68,\n",
              "        0.7 , 0.57, 0.78, 0.47, 0.46, 0.53, 0.79, 0.63, 0.37, 0.57, 1.  ,\n",
              "        0.62, 0.73, 0.04, 0.35, 0.88, 0.86, 0.51, 0.92, 0.84, 0.79, 0.28,\n",
              "        0.2 , 0.92, 0.82, 0.7 , 0.45, 0.51, 0.43, 0.37, 0.87, 0.96, 0.98,\n",
              "        0.62, 0.58, 0.18, 0.42, 0.98, 0.23, 0.95, 0.87, 0.38, 0.5 , 0.83,\n",
              "        0.44],\n",
              "       [0.82, 0.27, 0.54, 0.84, 0.46, 0.56, 0.51, 0.76, 0.17, 0.45, 0.27,\n",
              "        0.52, 0.64, 0.15, 0.31, 0.4 , 0.78, 0.67, 0.67, 0.75, 0.74, 0.4 ,\n",
              "        0.7 , 0.53, 0.5 , 0.6 , 0.94, 0.57, 0.6 , 0.83, 0.61, 0.42, 0.46,\n",
              "        0.08, 0.56, 0.6 , 0.  , 0.15, 0.62, 0.4 , 0.06, 0.2 , 0.48, 0.36,\n",
              "        0.3 , 0.79, 0.08, 0.47, 0.4 , 0.42, 0.35, 0.06, 0.63, 0.8 , 0.09,\n",
              "        0.15, 0.05, 0.54, 0.3 , 0.67, 0.46, 0.67, 0.42, 0.74, 0.6 , 0.4 ,\n",
              "        0.07, 0.62, 0.56, 0.74, 0.61, 0.52, 0.8 , 0.32, 0.45, 0.33, 0.38,\n",
              "        0.61, 0.33, 0.36, 0.68, 0.84, 0.21, 0.86, 0.25, 0.72, 0.75, 0.59,\n",
              "        0.01, 0.15, 0.48, 0.35, 0.43, 0.55, 0.43, 0.61, 0.38, 0.1 , 0.23,\n",
              "        0.38],\n",
              "       [0.89, 0.4 , 0.51, 0.97, 0.6 , 0.62, 0.6 , 0.75, 0.29, 0.53, 0.41,\n",
              "        0.53, 0.64, 0.2 , 0.24, 0.46, 0.92, 0.64, 0.81, 0.88, 0.87, 0.29,\n",
              "        0.67, 0.67, 0.47, 0.74, 0.96, 0.71, 0.59, 0.93, 0.75, 0.32, 0.48,\n",
              "        0.23, 0.55, 0.55, 0.15, 0.  , 0.59, 0.4 , 0.08, 0.17, 0.45, 0.49,\n",
              "        0.4 , 0.81, 0.22, 0.44, 0.55, 0.45, 0.24, 0.16, 0.67, 0.93, 0.16,\n",
              "        0.16, 0.1 , 0.67, 0.37, 0.71, 0.54, 0.78, 0.53, 0.76, 0.68, 0.48,\n",
              "        0.1 , 0.73, 0.51, 0.75, 0.74, 0.66, 0.84, 0.42, 0.6 , 0.48, 0.38,\n",
              "        0.61, 0.46, 0.51, 0.77, 0.85, 0.07, 0.87, 0.19, 0.84, 0.88, 0.74,\n",
              "        0.15, 0.27, 0.39, 0.41, 0.57, 0.56, 0.57, 0.75, 0.26, 0.14, 0.3 ,\n",
              "        0.24],\n",
              "       [0.55, 0.63, 0.08, 0.93, 0.96, 0.4 , 0.55, 0.2 , 0.56, 0.43, 0.82,\n",
              "        0.21, 0.15, 0.76, 0.35, 0.39, 1.01, 0.06, 0.95, 0.94, 0.89, 0.36,\n",
              "        0.1 , 0.85, 0.13, 0.86, 0.45, 0.95, 0.12, 0.79, 0.88, 0.33, 0.24,\n",
              "        0.66, 0.1 , 0.09, 0.62, 0.59, 0.  , 0.24, 0.61, 0.43, 0.15, 0.7 ,\n",
              "        0.5 , 0.33, 0.64, 0.15, 0.83, 0.3 , 0.4 , 0.68, 0.36, 1.01, 0.7 ,\n",
              "        0.73, 0.59, 0.73, 0.44, 0.38, 0.48, 0.72, 0.59, 0.28, 0.5 , 1.02,\n",
              "        0.65, 0.67, 0.1 , 0.26, 0.84, 0.82, 0.42, 0.93, 0.81, 0.78, 0.26,\n",
              "        0.12, 0.92, 0.8 , 0.63, 0.37, 0.55, 0.35, 0.4 , 0.81, 0.9 , 0.94,\n",
              "        0.64, 0.58, 0.25, 0.39, 0.97, 0.17, 0.94, 0.82, 0.45, 0.52, 0.85,\n",
              "        0.5 ],\n",
              "       [0.52, 0.39, 0.16, 0.78, 0.72, 0.28, 0.38, 0.36, 0.32, 0.25, 0.58,\n",
              "        0.14, 0.24, 0.54, 0.21, 0.19, 0.82, 0.28, 0.75, 0.76, 0.72, 0.29,\n",
              "        0.3 , 0.64, 0.12, 0.66, 0.56, 0.72, 0.2 , 0.68, 0.67, 0.28, 0.09,\n",
              "        0.42, 0.16, 0.26, 0.4 , 0.4 , 0.24, 0.  , 0.41, 0.23, 0.1 , 0.47,\n",
              "        0.27, 0.41, 0.41, 0.11, 0.6 , 0.11, 0.3 , 0.46, 0.3 , 0.82, 0.49,\n",
              "        0.53, 0.38, 0.54, 0.21, 0.34, 0.29, 0.57, 0.38, 0.36, 0.38, 0.79,\n",
              "        0.44, 0.51, 0.22, 0.35, 0.64, 0.61, 0.45, 0.7 , 0.58, 0.54, 0.02,\n",
              "        0.21, 0.68, 0.56, 0.5 , 0.46, 0.39, 0.47, 0.22, 0.65, 0.73, 0.72,\n",
              "        0.42, 0.34, 0.25, 0.17, 0.73, 0.16, 0.7 , 0.62, 0.37, 0.3 , 0.63,\n",
              "        0.41],\n",
              "       [0.86, 0.33, 0.53, 0.9 , 0.52, 0.6 , 0.56, 0.76, 0.23, 0.49, 0.32,\n",
              "        0.54, 0.65, 0.14, 0.28, 0.43, 0.84, 0.67, 0.73, 0.81, 0.8 , 0.36,\n",
              "        0.7 , 0.6 , 0.49, 0.67, 0.96, 0.63, 0.6 , 0.88, 0.67, 0.38, 0.48,\n",
              "        0.14, 0.57, 0.59, 0.06, 0.08, 0.61, 0.41, 0.  , 0.18, 0.47, 0.42,\n",
              "        0.35, 0.81, 0.14, 0.46, 0.46, 0.44, 0.31, 0.08, 0.66, 0.86, 0.09,\n",
              "        0.12, 0.03, 0.6 , 0.34, 0.7 , 0.5 , 0.72, 0.47, 0.76, 0.64, 0.42,\n",
              "        0.04, 0.67, 0.55, 0.76, 0.67, 0.59, 0.82, 0.35, 0.52, 0.4 , 0.39,\n",
              "        0.62, 0.38, 0.42, 0.73, 0.85, 0.15, 0.88, 0.22, 0.78, 0.81, 0.66,\n",
              "        0.06, 0.21, 0.45, 0.39, 0.48, 0.56, 0.49, 0.68, 0.33, 0.11, 0.24,\n",
              "        0.32],\n",
              "       [0.72, 0.33, 0.35, 0.85, 0.61, 0.45, 0.46, 0.58, 0.21, 0.37, 0.43,\n",
              "        0.36, 0.47, 0.33, 0.12, 0.3 , 0.84, 0.48, 0.74, 0.79, 0.77, 0.23,\n",
              "        0.51, 0.61, 0.31, 0.66, 0.78, 0.67, 0.42, 0.8 , 0.67, 0.25, 0.3 ,\n",
              "        0.25, 0.38, 0.41, 0.2 , 0.17, 0.43, 0.23, 0.18, 0.  , 0.29, 0.42,\n",
              "        0.27, 0.64, 0.23, 0.28, 0.52, 0.28, 0.19, 0.25, 0.5 , 0.85, 0.27,\n",
              "        0.31, 0.16, 0.57, 0.23, 0.54, 0.39, 0.65, 0.41, 0.58, 0.52, 0.59,\n",
              "        0.22, 0.6 , 0.37, 0.58, 0.65, 0.59, 0.66, 0.51, 0.54, 0.45, 0.21,\n",
              "        0.44, 0.52, 0.48, 0.63, 0.68, 0.18, 0.7 , 0.06, 0.72, 0.78, 0.69,\n",
              "        0.21, 0.21, 0.29, 0.25, 0.6 , 0.38, 0.58, 0.65, 0.26, 0.1 , 0.42,\n",
              "        0.28],\n",
              "       [0.55, 0.49, 0.06, 0.85, 0.82, 0.34, 0.46, 0.3 , 0.41, 0.33, 0.67,\n",
              "        0.15, 0.2 , 0.61, 0.22, 0.27, 0.91, 0.19, 0.84, 0.85, 0.8 , 0.27,\n",
              "        0.23, 0.73, 0.02, 0.75, 0.53, 0.82, 0.15, 0.74, 0.77, 0.25, 0.14,\n",
              "        0.51, 0.1 , 0.16, 0.48, 0.45, 0.15, 0.1 , 0.47, 0.29, 0.  , 0.56,\n",
              "        0.37, 0.39, 0.49, 0.02, 0.7 , 0.19, 0.29, 0.53, 0.33, 0.91, 0.56,\n",
              "        0.59, 0.45, 0.63, 0.31, 0.36, 0.38, 0.65, 0.47, 0.34, 0.44, 0.87,\n",
              "        0.51, 0.59, 0.12, 0.32, 0.73, 0.7 , 0.45, 0.78, 0.68, 0.64, 0.12,\n",
              "        0.16, 0.77, 0.66, 0.57, 0.43, 0.42, 0.44, 0.26, 0.73, 0.81, 0.82,\n",
              "        0.49, 0.43, 0.19, 0.26, 0.83, 0.14, 0.8 , 0.71, 0.36, 0.37, 0.7 ,\n",
              "        0.41],\n",
              "       [0.62, 0.1 , 0.62, 0.49, 0.29, 0.41, 0.26, 0.74, 0.21, 0.3 , 0.24,\n",
              "        0.51, 0.63, 0.45, 0.54, 0.32, 0.42, 0.72, 0.32, 0.39, 0.38, 0.65,\n",
              "        0.73, 0.19, 0.59, 0.25, 0.83, 0.26, 0.61, 0.51, 0.25, 0.66, 0.46,\n",
              "        0.29, 0.6 , 0.72, 0.36, 0.49, 0.7 , 0.47, 0.42, 0.42, 0.56, 0.  ,\n",
              "        0.19, 0.7 , 0.28, 0.57, 0.15, 0.4 , 0.62, 0.38, 0.5 , 0.44, 0.42,\n",
              "        0.49, 0.4 , 0.19, 0.26, 0.53, 0.27, 0.34, 0.15, 0.67, 0.38, 0.52,\n",
              "        0.43, 0.31, 0.68, 0.68, 0.25, 0.17, 0.66, 0.42, 0.12, 0.12, 0.45,\n",
              "        0.62, 0.36, 0.12, 0.4 , 0.74, 0.55, 0.79, 0.48, 0.38, 0.4 , 0.27,\n",
              "        0.36, 0.22, 0.68, 0.31, 0.32, 0.55, 0.27, 0.26, 0.68, 0.37, 0.46,\n",
              "        0.69],\n",
              "       [0.53, 0.13, 0.42, 0.58, 0.46, 0.28, 0.21, 0.56, 0.13, 0.16, 0.35,\n",
              "        0.32, 0.45, 0.43, 0.37, 0.14, 0.58, 0.53, 0.49, 0.52, 0.49, 0.48,\n",
              "        0.55, 0.37, 0.39, 0.4 , 0.69, 0.45, 0.43, 0.54, 0.41, 0.48, 0.27,\n",
              "        0.27, 0.41, 0.53, 0.3 , 0.4 , 0.5 , 0.27, 0.35, 0.27, 0.37, 0.19,\n",
              "        0.  , 0.55, 0.25, 0.38, 0.33, 0.21, 0.46, 0.35, 0.36, 0.58, 0.39,\n",
              "        0.45, 0.32, 0.3 , 0.06, 0.39, 0.16, 0.38, 0.14, 0.51, 0.3 , 0.61,\n",
              "        0.37, 0.33, 0.49, 0.52, 0.39, 0.34, 0.53, 0.51, 0.31, 0.28, 0.25,\n",
              "        0.44, 0.47, 0.3 , 0.38, 0.59, 0.43, 0.63, 0.33, 0.45, 0.51, 0.45,\n",
              "        0.31, 0.16, 0.49, 0.11, 0.48, 0.37, 0.44, 0.38, 0.52, 0.25, 0.49,\n",
              "        0.55],\n",
              "       [0.26, 0.68, 0.36, 0.73, 0.99, 0.29, 0.47, 0.16, 0.66, 0.4 , 0.9 ,\n",
              "        0.28, 0.2 , 0.94, 0.61, 0.41, 0.88, 0.29, 0.85, 0.81, 0.74, 0.66,\n",
              "        0.26, 0.8 , 0.39, 0.77, 0.15, 0.9 , 0.25, 0.57, 0.79, 0.64, 0.33,\n",
              "        0.79, 0.29, 0.42, 0.79, 0.81, 0.33, 0.41, 0.81, 0.64, 0.39, 0.7 ,\n",
              "        0.55, 0.  , 0.78, 0.41, 0.85, 0.37, 0.69, 0.85, 0.21, 0.87, 0.88,\n",
              "        0.93, 0.78, 0.65, 0.52, 0.18, 0.43, 0.57, 0.55, 0.06, 0.35, 1.15,\n",
              "        0.84, 0.52, 0.43, 0.07, 0.74, 0.76, 0.11, 1.05, 0.78, 0.81, 0.43,\n",
              "        0.23, 1.02, 0.82, 0.44, 0.04, 0.8 , 0.09, 0.63, 0.64, 0.75, 0.88,\n",
              "        0.81, 0.69, 0.57, 0.45, 1.02, 0.26, 0.97, 0.71, 0.75, 0.7 , 1.01,\n",
              "        0.8 ],\n",
              "       [0.78, 0.19, 0.55, 0.77, 0.39, 0.53, 0.45, 0.76, 0.12, 0.41, 0.2 ,\n",
              "        0.51, 0.64, 0.18, 0.35, 0.37, 0.7 , 0.68, 0.59, 0.67, 0.66, 0.45,\n",
              "        0.71, 0.45, 0.51, 0.53, 0.92, 0.49, 0.6 , 0.76, 0.53, 0.47, 0.45,\n",
              "        0.02, 0.57, 0.63, 0.08, 0.22, 0.64, 0.41, 0.14, 0.23, 0.49, 0.28,\n",
              "        0.25, 0.78, 0.  , 0.49, 0.32, 0.4 , 0.41, 0.1 , 0.6 , 0.72, 0.14,\n",
              "        0.21, 0.12, 0.47, 0.26, 0.64, 0.41, 0.6 , 0.35, 0.73, 0.55, 0.38,\n",
              "        0.14, 0.56, 0.59, 0.73, 0.53, 0.44, 0.77, 0.29, 0.38, 0.25, 0.38,\n",
              "        0.62, 0.29, 0.28, 0.62, 0.82, 0.29, 0.85, 0.29, 0.65, 0.68, 0.52,\n",
              "        0.08, 0.1 , 0.52, 0.33, 0.37, 0.55, 0.36, 0.54, 0.45, 0.14, 0.24,\n",
              "        0.45],\n",
              "       [0.57, 0.5 , 0.07, 0.87, 0.82, 0.36, 0.47, 0.32, 0.41, 0.35, 0.67,\n",
              "        0.17, 0.21, 0.6 , 0.21, 0.29, 0.92, 0.2 , 0.85, 0.86, 0.81, 0.25,\n",
              "        0.24, 0.74, 0.03, 0.76, 0.55, 0.83, 0.16, 0.76, 0.78, 0.23, 0.16,\n",
              "        0.5 , 0.12, 0.15, 0.47, 0.44, 0.15, 0.11, 0.46, 0.28, 0.02, 0.57,\n",
              "        0.38, 0.41, 0.49, 0.  , 0.7 , 0.2 , 0.28, 0.53, 0.35, 0.93, 0.55,\n",
              "        0.58, 0.44, 0.64, 0.32, 0.38, 0.39, 0.66, 0.48, 0.35, 0.46, 0.86,\n",
              "        0.5 , 0.6 , 0.11, 0.34, 0.74, 0.71, 0.47, 0.78, 0.69, 0.64, 0.12,\n",
              "        0.18, 0.77, 0.66, 0.58, 0.45, 0.41, 0.45, 0.25, 0.74, 0.83, 0.83,\n",
              "        0.48, 0.43, 0.17, 0.27, 0.83, 0.16, 0.8 , 0.73, 0.34, 0.37, 0.7 ,\n",
              "        0.39],\n",
              "       [0.75, 0.21, 0.75, 0.54, 0.14, 0.56, 0.39, 0.89, 0.31, 0.45, 0.18,\n",
              "        0.65, 0.78, 0.44, 0.64, 0.46, 0.41, 0.86, 0.29, 0.4 , 0.42, 0.75,\n",
              "        0.88, 0.16, 0.72, 0.25, 0.97, 0.17, 0.76, 0.6 , 0.25, 0.76, 0.6 ,\n",
              "        0.32, 0.74, 0.85, 0.4 , 0.55, 0.83, 0.6 , 0.46, 0.52, 0.7 , 0.15,\n",
              "        0.33, 0.85, 0.32, 0.7 , 0.  , 0.54, 0.71, 0.4 , 0.64, 0.43, 0.43,\n",
              "        0.49, 0.45, 0.28, 0.39, 0.67, 0.41, 0.43, 0.29, 0.81, 0.52, 0.43,\n",
              "        0.46, 0.42, 0.81, 0.83, 0.27, 0.18, 0.8 , 0.35, 0.1 , 0.07, 0.58,\n",
              "        0.77, 0.26, 0.04, 0.52, 0.88, 0.61, 0.94, 0.58, 0.45, 0.43, 0.2 ,\n",
              "        0.4 , 0.31, 0.79, 0.45, 0.19, 0.69, 0.13, 0.3 , 0.76, 0.44, 0.42,\n",
              "        0.77],\n",
              "       [0.44, 0.34, 0.23, 0.67, 0.67, 0.18, 0.27, 0.36, 0.3 , 0.14, 0.55,\n",
              "        0.12, 0.25, 0.56, 0.3 , 0.09, 0.72, 0.32, 0.65, 0.66, 0.61, 0.4 ,\n",
              "        0.34, 0.55, 0.21, 0.56, 0.52, 0.64, 0.22, 0.57, 0.58, 0.39, 0.06,\n",
              "        0.42, 0.2 , 0.34, 0.42, 0.45, 0.3 , 0.11, 0.44, 0.28, 0.19, 0.4 ,\n",
              "        0.21, 0.37, 0.4 , 0.2 , 0.54, 0.  , 0.4 , 0.48, 0.22, 0.72, 0.51,\n",
              "        0.56, 0.41, 0.44, 0.16, 0.26, 0.19, 0.46, 0.28, 0.32, 0.27, 0.78,\n",
              "        0.47, 0.4 , 0.31, 0.33, 0.54, 0.52, 0.38, 0.69, 0.5 , 0.49, 0.11,\n",
              "        0.23, 0.66, 0.5 , 0.39, 0.42, 0.46, 0.45, 0.3 , 0.54, 0.63, 0.64,\n",
              "        0.43, 0.32, 0.36, 0.09, 0.69, 0.16, 0.65, 0.52, 0.47, 0.33, 0.64,\n",
              "        0.51],\n",
              "       [0.82, 0.52, 0.34, 1.03, 0.8 , 0.58, 0.63, 0.59, 0.41, 0.52, 0.61,\n",
              "        0.43, 0.49, 0.44, 0.1 , 0.45, 1.03, 0.46, 0.93, 0.98, 0.95, 0.05,\n",
              "        0.49, 0.8 , 0.3 , 0.85, 0.83, 0.87, 0.44, 0.96, 0.86, 0.09, 0.39,\n",
              "        0.42, 0.4 , 0.34, 0.35, 0.24, 0.4 , 0.3 , 0.31, 0.19, 0.29, 0.62,\n",
              "        0.46, 0.69, 0.41, 0.28, 0.71, 0.4 , 0.  , 0.38, 0.6 , 1.04, 0.39,\n",
              "        0.4 , 0.3 , 0.75, 0.4 , 0.64, 0.55, 0.83, 0.59, 0.63, 0.66, 0.72,\n",
              "        0.34, 0.77, 0.31, 0.62, 0.84, 0.78, 0.74, 0.65, 0.73, 0.64, 0.29,\n",
              "        0.46, 0.68, 0.67, 0.78, 0.73, 0.18, 0.73, 0.13, 0.9 , 0.96, 0.88,\n",
              "        0.36, 0.4 , 0.16, 0.41, 0.77, 0.43, 0.77, 0.84, 0.07, 0.27, 0.54,\n",
              "        0.12],\n",
              "       [0.88, 0.3 , 0.6 , 0.87, 0.45, 0.62, 0.55, 0.82, 0.22, 0.51, 0.25,\n",
              "        0.58, 0.7 , 0.09, 0.36, 0.45, 0.8 , 0.73, 0.68, 0.77, 0.77, 0.43,\n",
              "        0.76, 0.55, 0.55, 0.62, 1.  , 0.57, 0.66, 0.87, 0.63, 0.46, 0.52,\n",
              "        0.1 , 0.62, 0.66, 0.06, 0.16, 0.68, 0.46, 0.08, 0.25, 0.53, 0.38,\n",
              "        0.35, 0.85, 0.1 , 0.53, 0.4 , 0.48, 0.38, 0.  , 0.68, 0.82, 0.04,\n",
              "        0.11, 0.09, 0.57, 0.35, 0.72, 0.51, 0.71, 0.46, 0.8 , 0.65, 0.34,\n",
              "        0.06, 0.66, 0.61, 0.8 , 0.63, 0.54, 0.85, 0.27, 0.47, 0.34, 0.44,\n",
              "        0.67, 0.3 , 0.37, 0.72, 0.89, 0.23, 0.92, 0.29, 0.76, 0.78, 0.6 ,\n",
              "        0.04, 0.19, 0.52, 0.41, 0.41, 0.61, 0.41, 0.64, 0.41, 0.16, 0.17,\n",
              "        0.4 ],\n",
              "       [0.22, 0.48, 0.33, 0.58, 0.78, 0.08, 0.26, 0.29, 0.48, 0.2 , 0.7 ,\n",
              "        0.18, 0.22, 0.77, 0.51, 0.23, 0.69, 0.34, 0.66, 0.62, 0.56, 0.59,\n",
              "        0.33, 0.6 , 0.34, 0.58, 0.33, 0.7 , 0.25, 0.43, 0.59, 0.57, 0.21,\n",
              "        0.61, 0.27, 0.44, 0.63, 0.67, 0.36, 0.3 , 0.66, 0.5 , 0.33, 0.5 ,\n",
              "        0.36, 0.21, 0.6 , 0.35, 0.64, 0.22, 0.6 , 0.68, 0.  , 0.69, 0.72,\n",
              "        0.78, 0.63, 0.45, 0.33, 0.04, 0.23, 0.39, 0.35, 0.18, 0.16, 0.96,\n",
              "        0.69, 0.34, 0.42, 0.2 , 0.55, 0.56, 0.17, 0.87, 0.58, 0.61, 0.31,\n",
              "        0.24, 0.82, 0.62, 0.28, 0.24, 0.68, 0.3 , 0.52, 0.47, 0.57, 0.68,\n",
              "        0.64, 0.5 , 0.53, 0.27, 0.82, 0.2 , 0.77, 0.52, 0.67, 0.55, 0.84,\n",
              "        0.72],\n",
              "       [0.66, 0.54, 0.95, 0.19, 0.49, 0.62, 0.46, 0.97, 0.65, 0.58, 0.61,\n",
              "        0.8 , 0.9 , 0.87, 0.95, 0.64, 0.03, 1.01, 0.14, 0.07, 0.13, 1.06,\n",
              "        1.01, 0.27, 0.94, 0.19, 0.94, 0.29, 0.9 , 0.36, 0.19, 1.07, 0.78,\n",
              "        0.72, 0.91, 1.06, 0.8 , 0.93, 1.01, 0.82, 0.86, 0.85, 0.91, 0.44,\n",
              "        0.58, 0.87, 0.72, 0.93, 0.43, 0.72, 1.04, 0.82, 0.69, 0.  , 0.85,\n",
              "        0.91, 0.84, 0.29, 0.64, 0.7 , 0.54, 0.3 , 0.45, 0.86, 0.53, 0.85,\n",
              "        0.86, 0.35, 1.03, 0.89, 0.2 , 0.27, 0.78, 0.77, 0.35, 0.48, 0.81,\n",
              "        0.91, 0.68, 0.46, 0.43, 0.89, 0.99, 0.96, 0.91, 0.23, 0.12, 0.24,\n",
              "        0.8 , 0.66, 1.07, 0.66, 0.57, 0.84, 0.51, 0.2 , 1.1 , 0.8 , 0.85,\n",
              "        1.12],\n",
              "       [0.91, 0.34, 0.62, 0.91, 0.46, 0.65, 0.59, 0.85, 0.26, 0.54, 0.27,\n",
              "        0.61, 0.73, 0.05, 0.37, 0.49, 0.83, 0.75, 0.71, 0.8 , 0.8 , 0.44,\n",
              "        0.78, 0.58, 0.58, 0.66, 1.03, 0.6 , 0.69, 0.91, 0.66, 0.47, 0.55,\n",
              "        0.13, 0.65, 0.68, 0.09, 0.16, 0.7 , 0.49, 0.09, 0.27, 0.56, 0.42,\n",
              "        0.39, 0.88, 0.14, 0.55, 0.43, 0.51, 0.39, 0.04, 0.72, 0.85, 0.  ,\n",
              "        0.07, 0.11, 0.61, 0.39, 0.76, 0.55, 0.74, 0.5 , 0.83, 0.69, 0.33,\n",
              "        0.06, 0.7 , 0.64, 0.83, 0.66, 0.57, 0.89, 0.26, 0.5 , 0.37, 0.47,\n",
              "        0.7 , 0.3 , 0.4 , 0.76, 0.93, 0.23, 0.96, 0.31, 0.79, 0.81, 0.63,\n",
              "        0.08, 0.23, 0.54, 0.45, 0.42, 0.64, 0.43, 0.68, 0.42, 0.19, 0.15,\n",
              "        0.4 ],\n",
              "       [0.98, 0.4 , 0.66, 0.98, 0.52, 0.71, 0.66, 0.89, 0.32, 0.61, 0.33,\n",
              "        0.66, 0.77, 0.06, 0.39, 0.55, 0.9 , 0.79, 0.78, 0.87, 0.87, 0.45,\n",
              "        0.82, 0.64, 0.61, 0.72, 1.08, 0.66, 0.73, 0.98, 0.72, 0.48, 0.6 ,\n",
              "        0.2 , 0.69, 0.7 , 0.15, 0.16, 0.73, 0.53, 0.12, 0.31, 0.59, 0.49,\n",
              "        0.45, 0.93, 0.21, 0.58, 0.49, 0.56, 0.4 , 0.11, 0.78, 0.91, 0.07,\n",
              "        0.  , 0.15, 0.68, 0.45, 0.82, 0.61, 0.81, 0.56, 0.88, 0.75, 0.33,\n",
              "        0.09, 0.77, 0.66, 0.88, 0.73, 0.64, 0.95, 0.28, 0.57, 0.43, 0.51,\n",
              "        0.74, 0.34, 0.46, 0.83, 0.98, 0.22, 1.  , 0.34, 0.86, 0.88, 0.69,\n",
              "        0.14, 0.3 , 0.55, 0.5 , 0.46, 0.69, 0.48, 0.74, 0.41, 0.23, 0.15,\n",
              "        0.38],\n",
              "       [0.83, 0.3 , 0.51, 0.88, 0.51, 0.57, 0.53, 0.74, 0.2 , 0.46, 0.32,\n",
              "        0.51, 0.62, 0.16, 0.27, 0.4 , 0.82, 0.65, 0.71, 0.79, 0.77, 0.35,\n",
              "        0.68, 0.57, 0.47, 0.64, 0.93, 0.61, 0.58, 0.85, 0.65, 0.38, 0.45,\n",
              "        0.13, 0.54, 0.57, 0.05, 0.1 , 0.59, 0.38, 0.03, 0.16, 0.45, 0.4 ,\n",
              "        0.32, 0.78, 0.12, 0.44, 0.45, 0.41, 0.3 , 0.09, 0.63, 0.84, 0.11,\n",
              "        0.15, 0.  , 0.58, 0.31, 0.67, 0.47, 0.69, 0.44, 0.73, 0.61, 0.43,\n",
              "        0.06, 0.65, 0.53, 0.73, 0.64, 0.56, 0.8 , 0.36, 0.5 , 0.38, 0.36,\n",
              "        0.6 , 0.38, 0.41, 0.7 , 0.83, 0.16, 0.85, 0.21, 0.75, 0.79, 0.64,\n",
              "        0.05, 0.18, 0.44, 0.36, 0.48, 0.54, 0.48, 0.65, 0.34, 0.08, 0.25,\n",
              "        0.33],\n",
              "       [0.5 , 0.28, 0.67, 0.3 , 0.4 , 0.37, 0.19, 0.72, 0.38, 0.3 , 0.43,\n",
              "        0.53, 0.63, 0.64, 0.66, 0.35, 0.28, 0.74, 0.22, 0.23, 0.2 , 0.77,\n",
              "        0.75, 0.16, 0.65, 0.13, 0.75, 0.26, 0.63, 0.33, 0.15, 0.78, 0.5 ,\n",
              "        0.48, 0.63, 0.78, 0.54, 0.67, 0.73, 0.54, 0.6 , 0.57, 0.63, 0.19,\n",
              "        0.3 , 0.65, 0.47, 0.64, 0.28, 0.44, 0.75, 0.57, 0.45, 0.29, 0.61,\n",
              "        0.68, 0.58, 0.  , 0.35, 0.47, 0.26, 0.16, 0.16, 0.62, 0.29, 0.7 ,\n",
              "        0.61, 0.15, 0.75, 0.65, 0.1 , 0.12, 0.58, 0.61, 0.18, 0.29, 0.52,\n",
              "        0.64, 0.53, 0.28, 0.25, 0.68, 0.71, 0.74, 0.62, 0.19, 0.21, 0.24,\n",
              "        0.55, 0.4 , 0.78, 0.37, 0.47, 0.57, 0.41, 0.09, 0.82, 0.53, 0.65,\n",
              "        0.84],\n",
              "       [0.53, 0.19, 0.36, 0.62, 0.52, 0.27, 0.24, 0.52, 0.15, 0.16, 0.39,\n",
              "        0.27, 0.4 , 0.44, 0.31, 0.11, 0.63, 0.47, 0.55, 0.58, 0.55, 0.42,\n",
              "        0.49, 0.43, 0.33, 0.46, 0.66, 0.51, 0.37, 0.57, 0.47, 0.43, 0.22,\n",
              "        0.28, 0.35, 0.47, 0.3 , 0.37, 0.44, 0.21, 0.34, 0.23, 0.31, 0.26,\n",
              "        0.06, 0.52, 0.26, 0.32, 0.39, 0.16, 0.4 , 0.35, 0.33, 0.64, 0.39,\n",
              "        0.45, 0.31, 0.35, 0.  , 0.37, 0.17, 0.42, 0.19, 0.47, 0.31, 0.63,\n",
              "        0.36, 0.37, 0.43, 0.48, 0.45, 0.4 , 0.51, 0.54, 0.37, 0.33, 0.19,\n",
              "        0.39, 0.5 , 0.35, 0.4 , 0.56, 0.4 , 0.6 , 0.28, 0.5 , 0.56, 0.51,\n",
              "        0.31, 0.17, 0.43, 0.07, 0.53, 0.31, 0.5 , 0.44, 0.47, 0.23, 0.5 ,\n",
              "        0.5 ],\n",
              "       [0.19, 0.51, 0.36, 0.58, 0.81, 0.12, 0.29, 0.28, 0.52, 0.23, 0.74,\n",
              "        0.21, 0.23, 0.81, 0.55, 0.27, 0.7 , 0.36, 0.67, 0.63, 0.57, 0.63,\n",
              "        0.34, 0.62, 0.37, 0.59, 0.3 , 0.72, 0.26, 0.42, 0.61, 0.61, 0.25,\n",
              "        0.65, 0.29, 0.46, 0.67, 0.71, 0.38, 0.34, 0.7 , 0.54, 0.36, 0.53,\n",
              "        0.39, 0.18, 0.64, 0.38, 0.67, 0.26, 0.64, 0.72, 0.04, 0.7 , 0.76,\n",
              "        0.82, 0.67, 0.47, 0.37, 0.  , 0.26, 0.39, 0.38, 0.16, 0.17, 1.  ,\n",
              "        0.73, 0.35, 0.44, 0.19, 0.56, 0.58, 0.13, 0.9 , 0.6 , 0.64, 0.35,\n",
              "        0.26, 0.86, 0.65, 0.28, 0.21, 0.72, 0.27, 0.55, 0.47, 0.58, 0.7 ,\n",
              "        0.68, 0.54, 0.56, 0.31, 0.85, 0.23, 0.8 , 0.53, 0.71, 0.59, 0.87,\n",
              "        0.75],\n",
              "       [0.38, 0.26, 0.41, 0.48, 0.56, 0.14, 0.08, 0.48, 0.29, 0.05, 0.48,\n",
              "        0.27, 0.38, 0.59, 0.46, 0.11, 0.53, 0.49, 0.47, 0.47, 0.42, 0.56,\n",
              "        0.49, 0.39, 0.4 , 0.39, 0.56, 0.49, 0.38, 0.4 , 0.4 , 0.56, 0.24,\n",
              "        0.42, 0.37, 0.53, 0.46, 0.54, 0.48, 0.29, 0.5 , 0.39, 0.38, 0.27,\n",
              "        0.16, 0.43, 0.41, 0.39, 0.41, 0.19, 0.55, 0.51, 0.23, 0.54, 0.55,\n",
              "        0.61, 0.47, 0.26, 0.17, 0.26, 0.  , 0.28, 0.12, 0.4 , 0.14, 0.75,\n",
              "        0.52, 0.22, 0.5 , 0.42, 0.36, 0.35, 0.39, 0.65, 0.36, 0.38, 0.28,\n",
              "        0.38, 0.6 , 0.39, 0.23, 0.47, 0.57, 0.52, 0.43, 0.35, 0.44, 0.47,\n",
              "        0.47, 0.31, 0.54, 0.14, 0.59, 0.31, 0.54, 0.34, 0.62, 0.4 , 0.64,\n",
              "        0.66],\n",
              "       [0.37, 0.41, 0.67, 0.21, 0.56, 0.33, 0.19, 0.67, 0.5 , 0.32, 0.58,\n",
              "        0.52, 0.6 , 0.78, 0.73, 0.39, 0.31, 0.72, 0.3 , 0.24, 0.17, 0.84,\n",
              "        0.72, 0.31, 0.66, 0.24, 0.65, 0.4 , 0.61, 0.17, 0.26, 0.83, 0.5 ,\n",
              "        0.61, 0.62, 0.79, 0.67, 0.78, 0.72, 0.57, 0.72, 0.65, 0.65, 0.34,\n",
              "        0.38, 0.57, 0.6 , 0.66, 0.43, 0.46, 0.83, 0.71, 0.39, 0.3 , 0.74,\n",
              "        0.81, 0.69, 0.16, 0.42, 0.39, 0.28, 0.  , 0.25, 0.56, 0.23, 0.86,\n",
              "        0.74, 0.06, 0.76, 0.58, 0.21, 0.27, 0.48, 0.76, 0.34, 0.45, 0.56,\n",
              "        0.61, 0.69, 0.44, 0.13, 0.59, 0.82, 0.66, 0.7 , 0.08, 0.19, 0.37,\n",
              "        0.68, 0.52, 0.82, 0.42, 0.62, 0.56, 0.56, 0.17, 0.9 , 0.64, 0.8 ,\n",
              "        0.93],\n",
              "       [0.47, 0.17, 0.51, 0.44, 0.44, 0.26, 0.11, 0.61, 0.24, 0.16, 0.38,\n",
              "        0.38, 0.5 , 0.53, 0.5 , 0.2 , 0.45, 0.6 , 0.37, 0.39, 0.36, 0.61,\n",
              "        0.61, 0.27, 0.49, 0.28, 0.68, 0.36, 0.49, 0.41, 0.3 , 0.62, 0.35,\n",
              "        0.36, 0.48, 0.63, 0.42, 0.53, 0.59, 0.38, 0.47, 0.41, 0.47, 0.15,\n",
              "        0.14, 0.55, 0.35, 0.48, 0.29, 0.28, 0.59, 0.46, 0.35, 0.45, 0.5 ,\n",
              "        0.56, 0.44, 0.16, 0.19, 0.38, 0.12, 0.25, 0.  , 0.52, 0.23, 0.66,\n",
              "        0.49, 0.2 , 0.59, 0.54, 0.26, 0.23, 0.51, 0.56, 0.23, 0.27, 0.36,\n",
              "        0.5 , 0.5 , 0.27, 0.27, 0.59, 0.57, 0.64, 0.46, 0.32, 0.37, 0.36,\n",
              "        0.43, 0.27, 0.61, 0.21, 0.48, 0.43, 0.42, 0.25, 0.66, 0.39, 0.57,\n",
              "        0.69],\n",
              "       [0.28, 0.64, 0.3 , 0.73, 0.95, 0.26, 0.44, 0.13, 0.61, 0.36, 0.86,\n",
              "        0.22, 0.14, 0.88, 0.55, 0.37, 0.87, 0.24, 0.84, 0.8 , 0.73, 0.6 ,\n",
              "        0.22, 0.78, 0.33, 0.75, 0.2 , 0.88, 0.19, 0.57, 0.77, 0.58, 0.28,\n",
              "        0.74, 0.23, 0.37, 0.74, 0.76, 0.28, 0.36, 0.76, 0.58, 0.34, 0.67,\n",
              "        0.51, 0.06, 0.73, 0.35, 0.81, 0.32, 0.63, 0.8 , 0.18, 0.86, 0.83,\n",
              "        0.88, 0.73, 0.62, 0.47, 0.16, 0.4 , 0.56, 0.52, 0.  , 0.34, 1.1 ,\n",
              "        0.79, 0.51, 0.37, 0.03, 0.72, 0.74, 0.14, 1.01, 0.75, 0.77, 0.37,\n",
              "        0.18, 0.97, 0.78, 0.44, 0.1 , 0.74, 0.13, 0.58, 0.63, 0.74, 0.86,\n",
              "        0.75, 0.64, 0.51, 0.4 , 0.98, 0.2 , 0.94, 0.69, 0.69, 0.65, 0.96,\n",
              "        0.74],\n",
              "       [0.24, 0.4 , 0.46, 0.42, 0.66, 0.11, 0.13, 0.45, 0.43, 0.15, 0.62,\n",
              "        0.3 , 0.37, 0.74, 0.57, 0.22, 0.53, 0.49, 0.5 , 0.46, 0.4 , 0.67,\n",
              "        0.49, 0.45, 0.46, 0.42, 0.46, 0.55, 0.39, 0.3 , 0.44, 0.66, 0.3 ,\n",
              "        0.57, 0.4 , 0.57, 0.6 , 0.68, 0.5 , 0.38, 0.64, 0.52, 0.44, 0.38,\n",
              "        0.3 , 0.35, 0.55, 0.46, 0.52, 0.27, 0.66, 0.65, 0.16, 0.53, 0.69,\n",
              "        0.75, 0.61, 0.29, 0.31, 0.17, 0.14, 0.23, 0.23, 0.34, 0.  , 0.89,\n",
              "        0.67, 0.18, 0.55, 0.36, 0.39, 0.41, 0.28, 0.79, 0.44, 0.5 , 0.38,\n",
              "        0.39, 0.73, 0.5 , 0.13, 0.38, 0.7 , 0.44, 0.56, 0.31, 0.41, 0.53,\n",
              "        0.61, 0.46, 0.63, 0.27, 0.71, 0.33, 0.65, 0.36, 0.74, 0.54, 0.78,\n",
              "        0.77],\n",
              "       [1.12, 0.49, 0.93, 0.97, 0.36, 0.88, 0.77, 1.14, 0.49, 0.77, 0.28,\n",
              "        0.89, 1.02, 0.28, 0.7 , 0.74, 0.82, 1.06, 0.71, 0.82, 0.85, 0.77,\n",
              "        1.09, 0.59, 0.89, 0.68, 1.29, 0.56, 0.98, 1.03, 0.68, 0.8 , 0.84,\n",
              "        0.37, 0.95, 1.  , 0.4 , 0.48, 1.02, 0.79, 0.42, 0.59, 0.87, 0.52,\n",
              "        0.61, 1.15, 0.38, 0.86, 0.43, 0.78, 0.72, 0.34, 0.96, 0.85, 0.33,\n",
              "        0.33, 0.43, 0.7 , 0.63, 1.  , 0.75, 0.86, 0.66, 1.1 , 0.89, 0.  ,\n",
              "        0.38, 0.83, 0.96, 1.11, 0.71, 0.61, 1.13, 0.1 , 0.53, 0.41, 0.76,\n",
              "        1.  , 0.17, 0.42, 0.92, 1.19, 0.55, 1.23, 0.64, 0.88, 0.86, 0.6 ,\n",
              "        0.38, 0.46, 0.86, 0.7 , 0.28, 0.93, 0.34, 0.73, 0.73, 0.5 , 0.18,\n",
              "        0.71],\n",
              "       [0.89, 0.34, 0.57, 0.91, 0.51, 0.62, 0.58, 0.8 , 0.24, 0.52, 0.31,\n",
              "        0.57, 0.68, 0.11, 0.32, 0.46, 0.85, 0.7 , 0.73, 0.81, 0.81, 0.39,\n",
              "        0.73, 0.6 , 0.53, 0.67, 0.99, 0.63, 0.64, 0.9 , 0.67, 0.42, 0.51,\n",
              "        0.14, 0.6 , 0.62, 0.07, 0.1 , 0.65, 0.44, 0.04, 0.22, 0.51, 0.43,\n",
              "        0.37, 0.84, 0.14, 0.5 , 0.46, 0.47, 0.34, 0.06, 0.69, 0.86, 0.06,\n",
              "        0.09, 0.06, 0.61, 0.36, 0.73, 0.52, 0.74, 0.49, 0.79, 0.67, 0.38,\n",
              "        0.  , 0.69, 0.58, 0.79, 0.67, 0.59, 0.85, 0.32, 0.52, 0.39, 0.42,\n",
              "        0.65, 0.35, 0.42, 0.75, 0.89, 0.17, 0.91, 0.26, 0.79, 0.82, 0.66,\n",
              "        0.06, 0.22, 0.48, 0.41, 0.46, 0.6 , 0.47, 0.68, 0.36, 0.14, 0.2 ,\n",
              "        0.34],\n",
              "       [0.35, 0.37, 0.61, 0.27, 0.55, 0.27, 0.14, 0.62, 0.45, 0.26, 0.56,\n",
              "        0.46, 0.55, 0.74, 0.67, 0.33, 0.36, 0.67, 0.33, 0.28, 0.22, 0.78,\n",
              "        0.66, 0.31, 0.61, 0.26, 0.61, 0.41, 0.56, 0.21, 0.28, 0.78, 0.45,\n",
              "        0.57, 0.57, 0.73, 0.62, 0.73, 0.67, 0.51, 0.67, 0.6 , 0.59, 0.31,\n",
              "        0.33, 0.52, 0.56, 0.6 , 0.42, 0.4 , 0.77, 0.66, 0.34, 0.35, 0.7 ,\n",
              "        0.77, 0.65, 0.15, 0.37, 0.35, 0.22, 0.06, 0.2 , 0.51, 0.18, 0.83,\n",
              "        0.69, 0.  , 0.7 , 0.54, 0.22, 0.27, 0.44, 0.74, 0.33, 0.42, 0.5 ,\n",
              "        0.56, 0.67, 0.42, 0.1 , 0.55, 0.76, 0.62, 0.64, 0.14, 0.24, 0.38,\n",
              "        0.63, 0.47, 0.76, 0.36, 0.61, 0.5 , 0.55, 0.19, 0.84, 0.59, 0.76,\n",
              "        0.87],\n",
              "       [0.62, 0.61, 0.09, 0.96, 0.93, 0.44, 0.57, 0.3 , 0.52, 0.45, 0.78,\n",
              "        0.25, 0.23, 0.69, 0.27, 0.39, 1.03, 0.16, 0.96, 0.97, 0.92, 0.27,\n",
              "        0.19, 0.85, 0.1 , 0.87, 0.55, 0.94, 0.19, 0.84, 0.89, 0.23, 0.26,\n",
              "        0.6 , 0.15, 0.04, 0.56, 0.51, 0.1 , 0.22, 0.55, 0.37, 0.12, 0.68,\n",
              "        0.49, 0.43, 0.59, 0.11, 0.81, 0.31, 0.31, 0.61, 0.42, 1.03, 0.64,\n",
              "        0.66, 0.53, 0.75, 0.43, 0.44, 0.5 , 0.76, 0.59, 0.37, 0.55, 0.96,\n",
              "        0.58, 0.7 , 0.  , 0.35, 0.85, 0.82, 0.5 , 0.88, 0.8 , 0.75, 0.24,\n",
              "        0.2 , 0.87, 0.78, 0.67, 0.46, 0.47, 0.44, 0.32, 0.84, 0.93, 0.94,\n",
              "        0.57, 0.54, 0.15, 0.38, 0.93, 0.22, 0.91, 0.83, 0.35, 0.46, 0.78,\n",
              "        0.41],\n",
              "       [0.31, 0.65, 0.28, 0.76, 0.97, 0.28, 0.46, 0.1 , 0.62, 0.38, 0.87,\n",
              "        0.22, 0.13, 0.89, 0.54, 0.38, 0.89, 0.22, 0.86, 0.82, 0.76, 0.59,\n",
              "        0.19, 0.8 , 0.32, 0.78, 0.21, 0.9 , 0.18, 0.6 , 0.8 , 0.56, 0.28,\n",
              "        0.75, 0.22, 0.35, 0.74, 0.75, 0.26, 0.35, 0.76, 0.58, 0.32, 0.68,\n",
              "        0.52, 0.07, 0.73, 0.34, 0.83, 0.33, 0.62, 0.8 , 0.2 , 0.89, 0.83,\n",
              "        0.88, 0.73, 0.65, 0.48, 0.19, 0.42, 0.58, 0.54, 0.03, 0.36, 1.11,\n",
              "        0.79, 0.54, 0.35, 0.  , 0.75, 0.76, 0.17, 1.02, 0.77, 0.79, 0.37,\n",
              "        0.16, 0.98, 0.8 , 0.46, 0.11, 0.74, 0.12, 0.57, 0.66, 0.77, 0.88,\n",
              "        0.76, 0.65, 0.5 , 0.41, 1.  , 0.2 , 0.95, 0.72, 0.68, 0.65, 0.97,\n",
              "        0.73],\n",
              "       [0.58, 0.34, 0.77, 0.26, 0.38, 0.47, 0.29, 0.83, 0.46, 0.41, 0.45,\n",
              "        0.63, 0.74, 0.69, 0.75, 0.46, 0.19, 0.85, 0.11, 0.14, 0.14, 0.87,\n",
              "        0.85, 0.12, 0.75, 0.04, 0.84, 0.2 , 0.74, 0.35, 0.05, 0.87, 0.6 ,\n",
              "        0.53, 0.73, 0.88, 0.61, 0.74, 0.84, 0.64, 0.67, 0.65, 0.73, 0.25,\n",
              "        0.39, 0.74, 0.53, 0.74, 0.27, 0.54, 0.84, 0.63, 0.55, 0.2 , 0.66,\n",
              "        0.73, 0.64, 0.1 , 0.45, 0.56, 0.36, 0.21, 0.26, 0.72, 0.39, 0.71,\n",
              "        0.67, 0.22, 0.85, 0.75, 0.  , 0.1 , 0.67, 0.62, 0.17, 0.31, 0.62,\n",
              "        0.74, 0.54, 0.29, 0.32, 0.77, 0.79, 0.83, 0.71, 0.19, 0.15, 0.16,\n",
              "        0.61, 0.47, 0.88, 0.47, 0.45, 0.67, 0.39, 0.04, 0.91, 0.61, 0.68,\n",
              "        0.93],\n",
              "       [0.62, 0.27, 0.75, 0.36, 0.29, 0.48, 0.3 , 0.83, 0.38, 0.4 , 0.35,\n",
              "        0.62, 0.73, 0.59, 0.7 , 0.43, 0.26, 0.83, 0.15, 0.23, 0.24, 0.81,\n",
              "        0.84, 0.04, 0.72, 0.08, 0.87, 0.14, 0.73, 0.43, 0.08, 0.82, 0.58,\n",
              "        0.45, 0.72, 0.86, 0.52, 0.66, 0.82, 0.61, 0.59, 0.59, 0.7 , 0.17,\n",
              "        0.34, 0.76, 0.44, 0.71, 0.18, 0.52, 0.78, 0.54, 0.56, 0.27, 0.57,\n",
              "        0.64, 0.56, 0.12, 0.4 , 0.58, 0.35, 0.27, 0.23, 0.74, 0.41, 0.61,\n",
              "        0.59, 0.27, 0.82, 0.76, 0.1 , 0.  , 0.7 , 0.52, 0.08, 0.22, 0.59,\n",
              "        0.73, 0.44, 0.19, 0.38, 0.8 , 0.72, 0.85, 0.65, 0.28, 0.25, 0.12,\n",
              "        0.53, 0.39, 0.83, 0.44, 0.36, 0.66, 0.29, 0.12, 0.84, 0.54, 0.59,\n",
              "        0.86],\n",
              "       [0.15, 0.65, 0.42, 0.63, 0.94, 0.25, 0.41, 0.26, 0.65, 0.37, 0.87,\n",
              "        0.31, 0.27, 0.94, 0.65, 0.4 , 0.79, 0.38, 0.78, 0.72, 0.65, 0.72,\n",
              "        0.35, 0.74, 0.45, 0.7 , 0.17, 0.84, 0.32, 0.46, 0.72, 0.7 , 0.36,\n",
              "        0.79, 0.36, 0.51, 0.8 , 0.84, 0.42, 0.45, 0.82, 0.66, 0.45, 0.66,\n",
              "        0.53, 0.11, 0.77, 0.47, 0.8 , 0.38, 0.74, 0.85, 0.17, 0.78, 0.89,\n",
              "        0.95, 0.8 , 0.58, 0.51, 0.13, 0.39, 0.48, 0.51, 0.14, 0.28, 1.13,\n",
              "        0.85, 0.44, 0.5 , 0.17, 0.67, 0.7 , 0.  , 1.04, 0.73, 0.77, 0.46,\n",
              "        0.31, 0.99, 0.78, 0.35, 0.12, 0.83, 0.18, 0.67, 0.55, 0.66, 0.81,\n",
              "        0.81, 0.68, 0.64, 0.44, 0.98, 0.31, 0.93, 0.63, 0.8 , 0.71, 1.01,\n",
              "        0.85],\n",
              "       [1.03, 0.39, 0.85, 0.88, 0.29, 0.79, 0.67, 1.05, 0.39, 0.67, 0.18,\n",
              "        0.8 , 0.93, 0.23, 0.63, 0.64, 0.75, 0.97, 0.63, 0.74, 0.76, 0.71,\n",
              "        1.  , 0.51, 0.8 , 0.6 , 1.19, 0.48, 0.89, 0.93, 0.59, 0.73, 0.74,\n",
              "        0.28, 0.86, 0.92, 0.32, 0.42, 0.93, 0.7 , 0.35, 0.51, 0.78, 0.42,\n",
              "        0.51, 1.05, 0.29, 0.78, 0.35, 0.69, 0.65, 0.27, 0.87, 0.77, 0.26,\n",
              "        0.28, 0.36, 0.61, 0.54, 0.9 , 0.65, 0.76, 0.56, 1.01, 0.79, 0.1 ,\n",
              "        0.32, 0.74, 0.88, 1.02, 0.62, 0.52, 1.04, 0.  , 0.45, 0.32, 0.68,\n",
              "        0.91, 0.09, 0.33, 0.82, 1.1 , 0.49, 1.14, 0.56, 0.79, 0.77, 0.53,\n",
              "        0.31, 0.37, 0.79, 0.6 , 0.22, 0.84, 0.27, 0.64, 0.68, 0.42, 0.14,\n",
              "        0.66],\n",
              "       [0.67, 0.21, 0.73, 0.44, 0.23, 0.49, 0.32, 0.84, 0.33, 0.4 , 0.28,\n",
              "        0.61, 0.73, 0.52, 0.65, 0.42, 0.33, 0.83, 0.21, 0.3 , 0.32, 0.77,\n",
              "        0.84, 0.08, 0.7 , 0.16, 0.9 , 0.14, 0.72, 0.5 , 0.16, 0.78, 0.57,\n",
              "        0.38, 0.71, 0.84, 0.45, 0.6 , 0.81, 0.58, 0.52, 0.54, 0.68, 0.12,\n",
              "        0.31, 0.78, 0.38, 0.69, 0.1 , 0.5 , 0.73, 0.47, 0.58, 0.35, 0.5 ,\n",
              "        0.57, 0.5 , 0.18, 0.37, 0.6 , 0.36, 0.34, 0.23, 0.75, 0.44, 0.53,\n",
              "        0.52, 0.33, 0.8 , 0.77, 0.17, 0.08, 0.73, 0.45, 0.  , 0.14, 0.56,\n",
              "        0.73, 0.37, 0.12, 0.42, 0.82, 0.65, 0.87, 0.6 , 0.35, 0.33, 0.15,\n",
              "        0.46, 0.33, 0.79, 0.42, 0.29, 0.66, 0.23, 0.2 , 0.79, 0.48, 0.51,\n",
              "        0.8 ],\n",
              "       [0.74, 0.15, 0.7 , 0.57, 0.18, 0.52, 0.37, 0.84, 0.24, 0.41, 0.14,\n",
              "        0.6 , 0.73, 0.38, 0.57, 0.41, 0.46, 0.81, 0.35, 0.44, 0.46, 0.68,\n",
              "        0.83, 0.21, 0.66, 0.3 , 0.94, 0.24, 0.71, 0.62, 0.3 , 0.69, 0.55,\n",
              "        0.25, 0.69, 0.79, 0.33, 0.48, 0.78, 0.54, 0.4 , 0.45, 0.64, 0.12,\n",
              "        0.28, 0.81, 0.25, 0.64, 0.07, 0.49, 0.64, 0.34, 0.61, 0.48, 0.37,\n",
              "        0.43, 0.38, 0.29, 0.33, 0.64, 0.38, 0.45, 0.27, 0.77, 0.5 , 0.41,\n",
              "        0.39, 0.42, 0.75, 0.79, 0.31, 0.22, 0.77, 0.32, 0.14, 0.  , 0.52,\n",
              "        0.72, 0.24, 0.03, 0.51, 0.85, 0.54, 0.9 , 0.51, 0.47, 0.47, 0.26,\n",
              "        0.33, 0.24, 0.72, 0.39, 0.21, 0.64, 0.16, 0.33, 0.69, 0.37, 0.37,\n",
              "        0.7 ],\n",
              "       [0.53, 0.37, 0.18, 0.77, 0.7 , 0.29, 0.37, 0.38, 0.3 , 0.24, 0.56,\n",
              "        0.15, 0.26, 0.52, 0.2 , 0.17, 0.81, 0.3 , 0.73, 0.75, 0.7 , 0.29,\n",
              "        0.33, 0.62, 0.14, 0.64, 0.58, 0.7 , 0.22, 0.67, 0.66, 0.28, 0.1 ,\n",
              "        0.4 , 0.19, 0.28, 0.38, 0.38, 0.26, 0.02, 0.39, 0.21, 0.12, 0.45,\n",
              "        0.25, 0.43, 0.38, 0.12, 0.58, 0.11, 0.29, 0.44, 0.31, 0.81, 0.47,\n",
              "        0.51, 0.36, 0.52, 0.19, 0.35, 0.28, 0.56, 0.36, 0.37, 0.38, 0.76,\n",
              "        0.42, 0.5 , 0.24, 0.37, 0.62, 0.59, 0.46, 0.68, 0.56, 0.52, 0.  ,\n",
              "        0.24, 0.66, 0.54, 0.5 , 0.47, 0.37, 0.49, 0.21, 0.64, 0.72, 0.7 ,\n",
              "        0.39, 0.31, 0.26, 0.15, 0.71, 0.17, 0.68, 0.61, 0.36, 0.28, 0.61,\n",
              "        0.41],\n",
              "       [0.43, 0.57, 0.12, 0.81, 0.9 , 0.28, 0.45, 0.14, 0.52, 0.34, 0.78,\n",
              "        0.12, 0.03, 0.76, 0.39, 0.31, 0.91, 0.11, 0.85, 0.84, 0.78, 0.43,\n",
              "        0.11, 0.77, 0.16, 0.77, 0.37, 0.86, 0.02, 0.67, 0.78, 0.4 , 0.17,\n",
              "        0.63, 0.06, 0.2 , 0.61, 0.61, 0.12, 0.21, 0.62, 0.44, 0.16, 0.62,\n",
              "        0.44, 0.23, 0.62, 0.18, 0.77, 0.23, 0.46, 0.67, 0.24, 0.91, 0.7 ,\n",
              "        0.74, 0.6 , 0.64, 0.39, 0.26, 0.38, 0.61, 0.5 , 0.18, 0.39, 1.  ,\n",
              "        0.65, 0.56, 0.2 , 0.16, 0.74, 0.73, 0.31, 0.91, 0.73, 0.72, 0.24,\n",
              "        0.  , 0.88, 0.73, 0.51, 0.27, 0.59, 0.27, 0.42, 0.69, 0.8 , 0.85,\n",
              "        0.63, 0.54, 0.34, 0.32, 0.92, 0.07, 0.88, 0.72, 0.52, 0.52, 0.84,\n",
              "        0.57],\n",
              "       [0.97, 0.34, 0.84, 0.8 , 0.21, 0.74, 0.61, 1.02, 0.37, 0.62, 0.12,\n",
              "        0.78, 0.9 , 0.28, 0.64, 0.6 , 0.66, 0.96, 0.54, 0.66, 0.68, 0.73,\n",
              "        0.98, 0.42, 0.8 , 0.52, 1.15, 0.4 , 0.87, 0.86, 0.51, 0.75, 0.72,\n",
              "        0.27, 0.84, 0.92, 0.33, 0.46, 0.92, 0.68, 0.38, 0.52, 0.77, 0.36,\n",
              "        0.47, 1.02, 0.29, 0.77, 0.26, 0.66, 0.68, 0.3 , 0.82, 0.68, 0.3 ,\n",
              "        0.34, 0.38, 0.53, 0.5 , 0.86, 0.6 , 0.69, 0.5 , 0.97, 0.73, 0.17,\n",
              "        0.35, 0.67, 0.87, 0.98, 0.54, 0.44, 0.99, 0.09, 0.37, 0.24, 0.66,\n",
              "        0.88, 0.  , 0.25, 0.76, 1.06, 0.52, 1.1 , 0.57, 0.71, 0.69, 0.44,\n",
              "        0.32, 0.35, 0.8 , 0.57, 0.14, 0.81, 0.18, 0.56, 0.71, 0.42, 0.21,\n",
              "        0.7 ],\n",
              "       [0.74, 0.17, 0.72, 0.55, 0.17, 0.53, 0.38, 0.86, 0.27, 0.42, 0.16,\n",
              "        0.62, 0.74, 0.41, 0.6 , 0.43, 0.44, 0.83, 0.32, 0.42, 0.44, 0.71,\n",
              "        0.84, 0.19, 0.68, 0.27, 0.95, 0.21, 0.72, 0.6 , 0.27, 0.72, 0.57,\n",
              "        0.28, 0.71, 0.82, 0.36, 0.51, 0.8 , 0.56, 0.42, 0.48, 0.66, 0.12,\n",
              "        0.3 , 0.82, 0.28, 0.66, 0.04, 0.5 , 0.67, 0.37, 0.62, 0.46, 0.4 ,\n",
              "        0.46, 0.41, 0.28, 0.35, 0.65, 0.39, 0.44, 0.27, 0.78, 0.5 , 0.42,\n",
              "        0.42, 0.42, 0.78, 0.8 , 0.29, 0.19, 0.78, 0.33, 0.12, 0.03, 0.54,\n",
              "        0.73, 0.25, 0.  , 0.51, 0.86, 0.57, 0.91, 0.54, 0.46, 0.44, 0.24,\n",
              "        0.36, 0.26, 0.75, 0.41, 0.2 , 0.66, 0.15, 0.31, 0.72, 0.4 , 0.4 ,\n",
              "        0.73],\n",
              "       [0.25, 0.44, 0.58, 0.3 , 0.65, 0.23, 0.17, 0.56, 0.5 , 0.26, 0.64,\n",
              "        0.43, 0.5 , 0.8 , 0.68, 0.33, 0.44, 0.62, 0.43, 0.36, 0.3 , 0.79,\n",
              "        0.61, 0.41, 0.58, 0.36, 0.52, 0.51, 0.51, 0.18, 0.38, 0.78, 0.43,\n",
              "        0.63, 0.53, 0.7 , 0.68, 0.77, 0.63, 0.5 , 0.73, 0.63, 0.57, 0.4 ,\n",
              "        0.38, 0.44, 0.62, 0.58, 0.52, 0.39, 0.78, 0.72, 0.28, 0.43, 0.76,\n",
              "        0.83, 0.7 , 0.25, 0.4 , 0.28, 0.23, 0.13, 0.27, 0.44, 0.13, 0.92,\n",
              "        0.75, 0.1 , 0.67, 0.46, 0.32, 0.38, 0.35, 0.82, 0.42, 0.51, 0.5 ,\n",
              "        0.51, 0.76, 0.51, 0.  , 0.47, 0.8 , 0.53, 0.67, 0.2 , 0.31, 0.48,\n",
              "        0.69, 0.53, 0.75, 0.37, 0.71, 0.46, 0.65, 0.29, 0.85, 0.63, 0.84,\n",
              "        0.89],\n",
              "       [0.26, 0.72, 0.39, 0.75, 1.03, 0.33, 0.5 , 0.18, 0.71, 0.44, 0.94,\n",
              "        0.32, 0.24, 0.98, 0.65, 0.46, 0.9 , 0.32, 0.88, 0.83, 0.76, 0.7 ,\n",
              "        0.28, 0.84, 0.43, 0.8 , 0.1 , 0.94, 0.29, 0.58, 0.82, 0.67, 0.38,\n",
              "        0.84, 0.33, 0.45, 0.84, 0.85, 0.37, 0.46, 0.85, 0.68, 0.43, 0.74,\n",
              "        0.59, 0.04, 0.82, 0.45, 0.88, 0.42, 0.73, 0.89, 0.24, 0.89, 0.93,\n",
              "        0.98, 0.83, 0.68, 0.56, 0.21, 0.47, 0.59, 0.59, 0.1 , 0.38, 1.19,\n",
              "        0.89, 0.55, 0.46, 0.11, 0.77, 0.8 , 0.12, 1.1 , 0.82, 0.85, 0.47,\n",
              "        0.27, 1.06, 0.86, 0.47, 0.  , 0.84, 0.07, 0.68, 0.66, 0.77, 0.91,\n",
              "        0.85, 0.73, 0.6 , 0.49, 1.06, 0.3 , 1.01, 0.74, 0.79, 0.74, 1.05,\n",
              "        0.84],\n",
              "       [0.89, 0.45, 0.48, 1.01, 0.67, 0.63, 0.63, 0.73, 0.34, 0.55, 0.48,\n",
              "        0.53, 0.62, 0.26, 0.2 , 0.48, 0.97, 0.61, 0.87, 0.93, 0.91, 0.23,\n",
              "        0.65, 0.73, 0.44, 0.79, 0.95, 0.77, 0.57, 0.97, 0.8 , 0.27, 0.48,\n",
              "        0.29, 0.53, 0.51, 0.21, 0.07, 0.55, 0.39, 0.15, 0.18, 0.42, 0.55,\n",
              "        0.43, 0.8 , 0.29, 0.41, 0.61, 0.46, 0.18, 0.23, 0.68, 0.99, 0.23,\n",
              "        0.22, 0.16, 0.71, 0.4 , 0.72, 0.57, 0.82, 0.57, 0.74, 0.7 , 0.55,\n",
              "        0.17, 0.76, 0.47, 0.74, 0.79, 0.72, 0.83, 0.49, 0.65, 0.54, 0.37,\n",
              "        0.59, 0.52, 0.57, 0.8 , 0.84, 0.  , 0.86, 0.17, 0.88, 0.93, 0.8 ,\n",
              "        0.21, 0.32, 0.34, 0.43, 0.63, 0.54, 0.64, 0.79, 0.19, 0.18, 0.36,\n",
              "        0.17],\n",
              "       [0.33, 0.76, 0.39, 0.82, 1.08, 0.38, 0.56, 0.15, 0.74, 0.49, 0.98,\n",
              "        0.34, 0.24, 1.01, 0.66, 0.5 , 0.97, 0.29, 0.94, 0.89, 0.83, 0.7 ,\n",
              "        0.26, 0.89, 0.43, 0.86, 0.11, 0.99, 0.29, 0.65, 0.88, 0.67, 0.4 ,\n",
              "        0.87, 0.33, 0.43, 0.86, 0.87, 0.35, 0.47, 0.88, 0.7 , 0.44, 0.79,\n",
              "        0.63, 0.09, 0.85, 0.45, 0.94, 0.45, 0.73, 0.92, 0.3 , 0.96, 0.96,\n",
              "        1.  , 0.85, 0.74, 0.6 , 0.27, 0.52, 0.66, 0.64, 0.13, 0.44, 1.23,\n",
              "        0.91, 0.62, 0.44, 0.12, 0.83, 0.85, 0.18, 1.14, 0.87, 0.9 , 0.49,\n",
              "        0.27, 1.1 , 0.91, 0.53, 0.07, 0.86, 0.  , 0.69, 0.73, 0.84, 0.97,\n",
              "        0.88, 0.77, 0.6 , 0.53, 1.11, 0.32, 1.06, 0.8 , 0.79, 0.77, 1.09,\n",
              "        0.84],\n",
              "       [0.74, 0.39, 0.32, 0.9 , 0.67, 0.48, 0.51, 0.56, 0.27, 0.41, 0.49,\n",
              "        0.36, 0.45, 0.36, 0.06, 0.33, 0.9 , 0.45, 0.8 , 0.85, 0.82, 0.17,\n",
              "        0.49, 0.67, 0.28, 0.72, 0.78, 0.74, 0.4 , 0.84, 0.73, 0.18, 0.31,\n",
              "        0.3 , 0.36, 0.37, 0.25, 0.19, 0.4 , 0.22, 0.22, 0.06, 0.26, 0.48,\n",
              "        0.33, 0.63, 0.29, 0.25, 0.58, 0.3 , 0.13, 0.29, 0.52, 0.91, 0.31,\n",
              "        0.34, 0.21, 0.62, 0.28, 0.55, 0.43, 0.7 , 0.46, 0.58, 0.56, 0.64,\n",
              "        0.26, 0.64, 0.32, 0.57, 0.71, 0.65, 0.67, 0.56, 0.6 , 0.51, 0.21,\n",
              "        0.42, 0.57, 0.54, 0.67, 0.68, 0.17, 0.69, 0.  , 0.77, 0.83, 0.75,\n",
              "        0.26, 0.28, 0.23, 0.29, 0.66, 0.37, 0.64, 0.71, 0.2 , 0.15, 0.46,\n",
              "        0.22],\n",
              "       [0.43, 0.46, 0.75, 0.13, 0.56, 0.41, 0.27, 0.75, 0.56, 0.4 , 0.61,\n",
              "        0.6 , 0.68, 0.83, 0.8 , 0.46, 0.25, 0.8 , 0.26, 0.17, 0.1 , 0.91,\n",
              "        0.8 , 0.3 , 0.75, 0.22, 0.71, 0.38, 0.69, 0.16, 0.24, 0.91, 0.58,\n",
              "        0.66, 0.7 , 0.87, 0.72, 0.84, 0.81, 0.65, 0.78, 0.72, 0.73, 0.38,\n",
              "        0.45, 0.64, 0.65, 0.74, 0.45, 0.54, 0.9 , 0.76, 0.47, 0.23, 0.79,\n",
              "        0.86, 0.75, 0.19, 0.5 , 0.47, 0.35, 0.08, 0.32, 0.63, 0.31, 0.88,\n",
              "        0.79, 0.14, 0.84, 0.66, 0.19, 0.28, 0.55, 0.79, 0.35, 0.47, 0.64,\n",
              "        0.69, 0.71, 0.46, 0.2 , 0.66, 0.88, 0.73, 0.77, 0.  , 0.11, 0.34,\n",
              "        0.73, 0.57, 0.9 , 0.49, 0.63, 0.64, 0.57, 0.16, 0.97, 0.7 , 0.84,\n",
              "        1.  ],\n",
              "       [0.54, 0.49, 0.85, 0.11, 0.52, 0.51, 0.36, 0.86, 0.59, 0.48, 0.6 ,\n",
              "        0.7 , 0.79, 0.84, 0.87, 0.54, 0.13, 0.9 , 0.18, 0.06, 0.01, 0.98,\n",
              "        0.9 , 0.26, 0.84, 0.17, 0.82, 0.32, 0.8 , 0.25, 0.18, 0.98, 0.68,\n",
              "        0.68, 0.8 , 0.96, 0.75, 0.88, 0.9 , 0.73, 0.81, 0.78, 0.81, 0.4 ,\n",
              "        0.51, 0.75, 0.68, 0.83, 0.43, 0.63, 0.96, 0.78, 0.57, 0.12, 0.81,\n",
              "        0.88, 0.79, 0.21, 0.56, 0.58, 0.44, 0.19, 0.37, 0.74, 0.41, 0.86,\n",
              "        0.82, 0.24, 0.93, 0.77, 0.15, 0.25, 0.66, 0.77, 0.33, 0.47, 0.72,\n",
              "        0.8 , 0.69, 0.44, 0.31, 0.77, 0.93, 0.84, 0.83, 0.11, 0.  , 0.28,\n",
              "        0.76, 0.61, 0.98, 0.57, 0.59, 0.74, 0.53, 0.14, 1.03, 0.75, 0.84,\n",
              "        1.05],\n",
              "       [0.73, 0.36, 0.87, 0.39, 0.25, 0.6 , 0.42, 0.95, 0.48, 0.52, 0.38,\n",
              "        0.74, 0.86, 0.64, 0.8 , 0.55, 0.22, 0.96, 0.11, 0.23, 0.27, 0.91,\n",
              "        0.97, 0.09, 0.84, 0.12, 0.99, 0.05, 0.85, 0.5 , 0.11, 0.92, 0.7 ,\n",
              "        0.51, 0.84, 0.98, 0.59, 0.74, 0.94, 0.72, 0.66, 0.69, 0.82, 0.27,\n",
              "        0.45, 0.88, 0.52, 0.83, 0.2 , 0.64, 0.88, 0.6 , 0.68, 0.24, 0.63,\n",
              "        0.69, 0.64, 0.24, 0.51, 0.7 , 0.47, 0.37, 0.36, 0.86, 0.53, 0.6 ,\n",
              "        0.66, 0.38, 0.94, 0.88, 0.16, 0.12, 0.81, 0.53, 0.15, 0.26, 0.7 ,\n",
              "        0.85, 0.44, 0.24, 0.48, 0.91, 0.8 , 0.97, 0.75, 0.34, 0.28, 0.  ,\n",
              "        0.6 , 0.48, 0.94, 0.56, 0.33, 0.78, 0.27, 0.2 , 0.94, 0.62, 0.62,\n",
              "        0.95],\n",
              "       [0.84, 0.27, 0.55, 0.85, 0.46, 0.58, 0.52, 0.77, 0.18, 0.47, 0.26,\n",
              "        0.54, 0.65, 0.13, 0.32, 0.41, 0.78, 0.68, 0.67, 0.75, 0.75, 0.4 ,\n",
              "        0.71, 0.54, 0.51, 0.61, 0.95, 0.57, 0.61, 0.84, 0.61, 0.43, 0.48,\n",
              "        0.08, 0.58, 0.62, 0.01, 0.15, 0.64, 0.42, 0.06, 0.21, 0.49, 0.36,\n",
              "        0.31, 0.81, 0.08, 0.48, 0.4 , 0.43, 0.36, 0.04, 0.64, 0.8 , 0.08,\n",
              "        0.14, 0.05, 0.55, 0.31, 0.68, 0.47, 0.68, 0.43, 0.75, 0.61, 0.38,\n",
              "        0.06, 0.63, 0.57, 0.76, 0.61, 0.53, 0.81, 0.31, 0.46, 0.33, 0.39,\n",
              "        0.63, 0.32, 0.36, 0.69, 0.85, 0.21, 0.88, 0.26, 0.73, 0.76, 0.6 ,\n",
              "        0.  , 0.16, 0.49, 0.37, 0.42, 0.57, 0.43, 0.62, 0.39, 0.12, 0.21,\n",
              "        0.38],\n",
              "       [0.69, 0.13, 0.49, 0.7 , 0.41, 0.43, 0.36, 0.68, 0.03, 0.32, 0.24,\n",
              "        0.43, 0.56, 0.28, 0.33, 0.28, 0.65, 0.61, 0.54, 0.61, 0.6 , 0.44,\n",
              "        0.64, 0.41, 0.45, 0.47, 0.83, 0.46, 0.53, 0.68, 0.48, 0.46, 0.37,\n",
              "        0.11, 0.5 , 0.58, 0.15, 0.27, 0.58, 0.34, 0.21, 0.21, 0.43, 0.22,\n",
              "        0.16, 0.69, 0.1 , 0.43, 0.31, 0.32, 0.4 , 0.19, 0.5 , 0.66, 0.23,\n",
              "        0.3 , 0.18, 0.4 , 0.17, 0.54, 0.31, 0.52, 0.27, 0.64, 0.46, 0.46,\n",
              "        0.22, 0.47, 0.54, 0.65, 0.47, 0.39, 0.68, 0.37, 0.33, 0.24, 0.31,\n",
              "        0.54, 0.35, 0.26, 0.53, 0.73, 0.32, 0.77, 0.28, 0.57, 0.61, 0.48,\n",
              "        0.16, 0.  , 0.49, 0.24, 0.4 , 0.47, 0.38, 0.47, 0.46, 0.14, 0.33,\n",
              "        0.47],\n",
              "       [0.74, 0.59, 0.21, 1.03, 0.9 , 0.53, 0.62, 0.45, 0.48, 0.5 , 0.72,\n",
              "        0.34, 0.37, 0.59, 0.17, 0.43, 1.06, 0.31, 0.98, 1.  , 0.96, 0.12,\n",
              "        0.35, 0.86, 0.19, 0.89, 0.7 , 0.93, 0.32, 0.93, 0.9 , 0.08, 0.33,\n",
              "        0.53, 0.28, 0.18, 0.48, 0.39, 0.25, 0.25, 0.45, 0.29, 0.19, 0.68,\n",
              "        0.49, 0.57, 0.52, 0.17, 0.79, 0.36, 0.16, 0.52, 0.53, 1.07, 0.54,\n",
              "        0.55, 0.44, 0.78, 0.43, 0.56, 0.54, 0.82, 0.61, 0.51, 0.63, 0.86,\n",
              "        0.48, 0.76, 0.15, 0.5 , 0.88, 0.83, 0.64, 0.79, 0.79, 0.72, 0.26,\n",
              "        0.34, 0.8 , 0.75, 0.75, 0.6 , 0.34, 0.6 , 0.23, 0.9 , 0.98, 0.94,\n",
              "        0.49, 0.49, 0.  , 0.41, 0.88, 0.33, 0.87, 0.86, 0.2 , 0.38, 0.68,\n",
              "        0.25],\n",
              "       [0.47, 0.25, 0.31, 0.62, 0.58, 0.21, 0.22, 0.45, 0.21, 0.12, 0.46,\n",
              "        0.21, 0.34, 0.5 , 0.31, 0.05, 0.65, 0.42, 0.58, 0.59, 0.55, 0.42,\n",
              "        0.43, 0.47, 0.29, 0.49, 0.59, 0.56, 0.31, 0.55, 0.5 , 0.42, 0.16,\n",
              "        0.34, 0.29, 0.42, 0.35, 0.41, 0.39, 0.17, 0.39, 0.25, 0.26, 0.31,\n",
              "        0.11, 0.45, 0.33, 0.27, 0.45, 0.09, 0.41, 0.41, 0.27, 0.66, 0.45,\n",
              "        0.5 , 0.36, 0.37, 0.07, 0.31, 0.14, 0.42, 0.21, 0.4 , 0.27, 0.7 ,\n",
              "        0.41, 0.36, 0.38, 0.41, 0.47, 0.44, 0.44, 0.6 , 0.42, 0.39, 0.15,\n",
              "        0.32, 0.57, 0.41, 0.37, 0.49, 0.43, 0.53, 0.29, 0.49, 0.57, 0.56,\n",
              "        0.37, 0.24, 0.41, 0.  , 0.6 , 0.25, 0.56, 0.46, 0.48, 0.28, 0.56,\n",
              "        0.51],\n",
              "       [0.94, 0.35, 0.89, 0.71, 0.08, 0.73, 0.58, 1.05, 0.41, 0.62, 0.16,\n",
              "        0.8 , 0.93, 0.41, 0.72, 0.62, 0.54, 1.  , 0.43, 0.55, 0.59, 0.82,\n",
              "        1.02, 0.33, 0.85, 0.42, 1.15, 0.28, 0.91, 0.79, 0.41, 0.84, 0.75,\n",
              "        0.36, 0.88, 0.98, 0.43, 0.57, 0.97, 0.73, 0.48, 0.6 , 0.83, 0.32,\n",
              "        0.48, 1.02, 0.37, 0.83, 0.19, 0.69, 0.77, 0.41, 0.82, 0.57, 0.42,\n",
              "        0.46, 0.48, 0.47, 0.53, 0.85, 0.59, 0.62, 0.48, 0.98, 0.71, 0.28,\n",
              "        0.46, 0.61, 0.93, 1.  , 0.45, 0.36, 0.98, 0.22, 0.29, 0.21, 0.71,\n",
              "        0.92, 0.14, 0.2 , 0.71, 1.06, 0.63, 1.11, 0.66, 0.63, 0.59, 0.33,\n",
              "        0.42, 0.4 , 0.88, 0.6 , 0.  , 0.85, 0.06, 0.48, 0.81, 0.51, 0.34,\n",
              "        0.81],\n",
              "       [0.41, 0.5 , 0.13, 0.76, 0.83, 0.23, 0.39, 0.21, 0.45, 0.27, 0.7 ,\n",
              "        0.04, 0.09, 0.7 , 0.35, 0.24, 0.84, 0.17, 0.79, 0.78, 0.72, 0.41,\n",
              "        0.18, 0.7 , 0.14, 0.7 , 0.4 , 0.79, 0.06, 0.63, 0.72, 0.39, 0.1 ,\n",
              "        0.57, 0.07, 0.23, 0.55, 0.56, 0.17, 0.16, 0.56, 0.38, 0.14, 0.55,\n",
              "        0.37, 0.26, 0.55, 0.16, 0.69, 0.16, 0.43, 0.61, 0.2 , 0.84, 0.64,\n",
              "        0.69, 0.54, 0.57, 0.31, 0.23, 0.31, 0.56, 0.43, 0.2 , 0.33, 0.93,\n",
              "        0.6 , 0.5 , 0.22, 0.2 , 0.67, 0.66, 0.31, 0.84, 0.66, 0.64, 0.17,\n",
              "        0.07, 0.81, 0.66, 0.46, 0.3 , 0.54, 0.32, 0.37, 0.64, 0.74, 0.78,\n",
              "        0.57, 0.47, 0.33, 0.25, 0.85, 0.  , 0.81, 0.65, 0.49, 0.45, 0.78,\n",
              "        0.54],\n",
              "       [0.88, 0.31, 0.86, 0.64, 0.03, 0.69, 0.53, 1.01, 0.39, 0.58, 0.16,\n",
              "        0.76, 0.89, 0.43, 0.71, 0.58, 0.49, 0.97, 0.37, 0.49, 0.52, 0.81,\n",
              "        0.99, 0.27, 0.82, 0.36, 1.1 , 0.22, 0.87, 0.72, 0.35, 0.83, 0.71,\n",
              "        0.35, 0.85, 0.95, 0.43, 0.57, 0.94, 0.7 , 0.49, 0.58, 0.8 , 0.27,\n",
              "        0.44, 0.97, 0.36, 0.8 , 0.13, 0.65, 0.77, 0.41, 0.77, 0.51, 0.43,\n",
              "        0.48, 0.48, 0.41, 0.5 , 0.8 , 0.54, 0.56, 0.42, 0.94, 0.65, 0.34,\n",
              "        0.47, 0.55, 0.91, 0.95, 0.39, 0.29, 0.93, 0.27, 0.23, 0.16, 0.68,\n",
              "        0.88, 0.18, 0.15, 0.65, 1.01, 0.64, 1.06, 0.64, 0.57, 0.53, 0.27,\n",
              "        0.43, 0.38, 0.87, 0.56, 0.06, 0.81, 0.  , 0.42, 0.81, 0.5 , 0.38,\n",
              "        0.81],\n",
              "       [0.54, 0.35, 0.75, 0.24, 0.41, 0.44, 0.27, 0.8 , 0.46, 0.39, 0.47,\n",
              "        0.61, 0.71, 0.7 , 0.75, 0.44, 0.2 , 0.82, 0.14, 0.14, 0.13, 0.86,\n",
              "        0.83, 0.15, 0.74, 0.07, 0.8 , 0.23, 0.71, 0.31, 0.09, 0.87, 0.58,\n",
              "        0.54, 0.71, 0.87, 0.61, 0.75, 0.82, 0.62, 0.68, 0.65, 0.71, 0.26,\n",
              "        0.38, 0.71, 0.54, 0.73, 0.3 , 0.52, 0.84, 0.64, 0.52, 0.2 , 0.68,\n",
              "        0.74, 0.65, 0.09, 0.44, 0.53, 0.34, 0.17, 0.25, 0.69, 0.36, 0.73,\n",
              "        0.68, 0.19, 0.83, 0.72, 0.04, 0.12, 0.63, 0.64, 0.2 , 0.33, 0.61,\n",
              "        0.72, 0.56, 0.31, 0.29, 0.74, 0.79, 0.8 , 0.71, 0.16, 0.14, 0.2 ,\n",
              "        0.62, 0.47, 0.86, 0.46, 0.48, 0.65, 0.42, 0.  , 0.9 , 0.61, 0.7 ,\n",
              "        0.93],\n",
              "       [0.89, 0.58, 0.4 , 1.1 , 0.84, 0.65, 0.7 , 0.65, 0.46, 0.59, 0.65,\n",
              "        0.5 , 0.55, 0.45, 0.17, 0.52, 1.09, 0.51, 1.  , 1.04, 1.02, 0.09,\n",
              "        0.55, 0.86, 0.36, 0.92, 0.89, 0.92, 0.5 , 1.03, 0.92, 0.12, 0.46,\n",
              "        0.46, 0.46, 0.38, 0.38, 0.26, 0.45, 0.37, 0.33, 0.26, 0.36, 0.68,\n",
              "        0.52, 0.75, 0.45, 0.34, 0.76, 0.47, 0.07, 0.41, 0.67, 1.1 , 0.42,\n",
              "        0.41, 0.34, 0.82, 0.47, 0.71, 0.62, 0.9 , 0.66, 0.69, 0.74, 0.73,\n",
              "        0.36, 0.84, 0.35, 0.68, 0.91, 0.84, 0.8 , 0.68, 0.79, 0.69, 0.36,\n",
              "        0.52, 0.71, 0.72, 0.85, 0.79, 0.19, 0.79, 0.2 , 0.97, 1.03, 0.94,\n",
              "        0.39, 0.46, 0.2 , 0.48, 0.81, 0.49, 0.81, 0.9 , 0.  , 0.32, 0.55,\n",
              "        0.05],\n",
              "       [0.75, 0.27, 0.44, 0.83, 0.53, 0.49, 0.46, 0.66, 0.15, 0.39, 0.34,\n",
              "        0.43, 0.54, 0.24, 0.22, 0.33, 0.79, 0.57, 0.69, 0.75, 0.73, 0.31,\n",
              "        0.6 , 0.55, 0.39, 0.61, 0.85, 0.6 , 0.5 , 0.79, 0.62, 0.33, 0.37,\n",
              "        0.15, 0.46, 0.5 , 0.1 , 0.14, 0.52, 0.3 , 0.11, 0.1 , 0.37, 0.37,\n",
              "        0.25, 0.7 , 0.14, 0.37, 0.44, 0.33, 0.27, 0.16, 0.55, 0.8 , 0.19,\n",
              "        0.23, 0.08, 0.53, 0.23, 0.59, 0.4 , 0.64, 0.39, 0.65, 0.54, 0.5 ,\n",
              "        0.14, 0.59, 0.46, 0.65, 0.61, 0.54, 0.71, 0.42, 0.48, 0.37, 0.28,\n",
              "        0.52, 0.42, 0.4 , 0.63, 0.74, 0.18, 0.77, 0.15, 0.7 , 0.75, 0.62,\n",
              "        0.12, 0.14, 0.38, 0.28, 0.51, 0.45, 0.5 , 0.61, 0.32, 0.  , 0.33,\n",
              "        0.33],\n",
              "       [1.02, 0.4 , 0.77, 0.94, 0.41, 0.76, 0.67, 0.98, 0.36, 0.65, 0.24,\n",
              "        0.75, 0.87, 0.1 , 0.52, 0.61, 0.83, 0.9 , 0.71, 0.82, 0.83, 0.59,\n",
              "        0.93, 0.58, 0.72, 0.67, 1.16, 0.58, 0.83, 0.97, 0.67, 0.62, 0.69,\n",
              "        0.22, 0.79, 0.83, 0.23, 0.3 , 0.85, 0.63, 0.24, 0.42, 0.7 , 0.46,\n",
              "        0.49, 1.01, 0.24, 0.7 , 0.42, 0.64, 0.54, 0.17, 0.84, 0.85, 0.15,\n",
              "        0.15, 0.25, 0.65, 0.5 , 0.87, 0.64, 0.8 , 0.57, 0.96, 0.78, 0.18,\n",
              "        0.2 , 0.76, 0.78, 0.97, 0.68, 0.59, 1.01, 0.14, 0.51, 0.37, 0.61,\n",
              "        0.84, 0.21, 0.4 , 0.84, 1.05, 0.36, 1.09, 0.46, 0.84, 0.84, 0.62,\n",
              "        0.21, 0.33, 0.68, 0.56, 0.34, 0.78, 0.38, 0.7 , 0.55, 0.33, 0.  ,\n",
              "        0.53],\n",
              "       [0.94, 0.59, 0.45, 1.13, 0.84, 0.69, 0.73, 0.7 , 0.48, 0.63, 0.64,\n",
              "        0.54, 0.6 , 0.43, 0.21, 0.55, 1.11, 0.56, 1.01, 1.07, 1.04, 0.14,\n",
              "        0.6 , 0.88, 0.41, 0.93, 0.94, 0.93, 0.55, 1.06, 0.94, 0.17, 0.5 ,\n",
              "        0.46, 0.51, 0.44, 0.38, 0.24, 0.5 , 0.41, 0.32, 0.28, 0.41, 0.69,\n",
              "        0.55, 0.8 , 0.45, 0.39, 0.77, 0.51, 0.12, 0.4 , 0.72, 1.12, 0.4 ,\n",
              "        0.38, 0.33, 0.84, 0.5 , 0.75, 0.66, 0.93, 0.69, 0.74, 0.77, 0.71,\n",
              "        0.34, 0.87, 0.41, 0.73, 0.93, 0.86, 0.85, 0.66, 0.8 , 0.7 , 0.41,\n",
              "        0.57, 0.7 , 0.73, 0.89, 0.84, 0.17, 0.84, 0.22, 1.  , 1.05, 0.95,\n",
              "        0.38, 0.47, 0.25, 0.51, 0.81, 0.54, 0.81, 0.93, 0.05, 0.33, 0.53,\n",
              "        0.  ]])"
            ]
          },
          "metadata": {},
          "execution_count": 179
        }
      ],
      "source": [
        "x = np.random.random((100,2))\n",
        "x1,y1 = np.atleast_2d(x[:,0], x[:,1])\n",
        "np.sqrt( (x1-x1.T)**2 + (y1-y1.T)**2)"
      ]
    },
    {
      "cell_type": "markdown",
      "metadata": {
        "id": "XynQi3Q0x5N2"
      },
      "source": [
        "#### 53. How to convert a float (32 bits) array into an integer (32 bits) in place? \n",
        "(**hint**: astype(copy=False))"
      ]
    },
    {
      "cell_type": "code",
      "execution_count": null,
      "metadata": {
        "id": "4nFECOmVx5N2",
        "colab": {
          "base_uri": "https://localhost:8080/"
        },
        "outputId": "421ec04b-a02d-430b-8834-a7f4e0ec4e28"
      },
      "outputs": [
        {
          "output_type": "execute_result",
          "data": {
            "text/plain": [
              "array([0, 1, 2, 3, 4], dtype=int32)"
            ]
          },
          "metadata": {},
          "execution_count": 180
        }
      ],
      "source": [
        "x= np.arange(5, dtype='float32')\n",
        "x=x.astype('int32', copy=False)\n",
        "x"
      ]
    },
    {
      "cell_type": "markdown",
      "metadata": {
        "id": "nIFVFYFVx5N2"
      },
      "source": [
        "#### 54. How to read the following file? (★★☆) \n",
        "(**hint**: np.genfromtxt)"
      ]
    },
    {
      "cell_type": "markdown",
      "metadata": {
        "id": "uu6-ZFbZx5N2"
      },
      "source": [
        "```\n",
        "1, 2, 3, 4, 5\n",
        "6,  ,  , 7, 8\n",
        " ,  , 9,10,11\n",
        "```"
      ]
    },
    {
      "cell_type": "code",
      "execution_count": null,
      "metadata": {
        "id": "bsIti03rx5N2",
        "colab": {
          "base_uri": "https://localhost:8080/"
        },
        "outputId": "7187c49b-0533-46f3-bc6f-ae4b48e9cd07"
      },
      "outputs": [
        {
          "output_type": "execute_result",
          "data": {
            "text/plain": [
              "array([[ 1,  2,  3,  4,  5],\n",
              "       [ 6, -1, -1,  7,  8],\n",
              "       [-1, -1,  9, 10, 11]])"
            ]
          },
          "metadata": {},
          "execution_count": 181
        }
      ],
      "source": [
        "s1=\"1,2,3, 4, 5\"\n",
        "s2=\"6, , , 7, 8\"\n",
        "s3=\" , ,9,10,11\"\n",
        "x=np.genfromtxt([s1,s2,s3], delimiter=\",\", dtype='int')\n",
        "x"
      ]
    },
    {
      "cell_type": "markdown",
      "metadata": {
        "id": "RJsDJVEDx5N2"
      },
      "source": [
        "#### 55. What is the equivalent of enumerate for numpy arrays? (★★☆) \n",
        "(**hint**: np.ndenumerate, np.ndindex)"
      ]
    },
    {
      "cell_type": "code",
      "execution_count": null,
      "metadata": {
        "id": "lDqW36Hgx5N3",
        "colab": {
          "base_uri": "https://localhost:8080/"
        },
        "outputId": "3b050c6f-20ff-43d7-8e7d-b8a6c1981e9c"
      },
      "outputs": [
        {
          "output_type": "stream",
          "name": "stdout",
          "text": [
            "(0, 0) 0.3869546833711779\n",
            "(0, 1) 0.9527496240173446\n",
            "(0, 2) 0.6955810880261487\n",
            "(1, 0) 0.92105466704577\n",
            "(1, 1) 0.10703306127277823\n",
            "(1, 2) 0.8444248666989509\n",
            "(2, 0) 0.5229673901839782\n",
            "(2, 1) 0.5696168141246356\n",
            "(2, 2) 0.9981840128678884\n",
            "____________________\n",
            "(0, 0) 0.3869546833711779\n",
            "(0, 1) 0.9527496240173446\n",
            "(0, 2) 0.6955810880261487\n",
            "(1, 0) 0.92105466704577\n",
            "(1, 1) 0.10703306127277823\n",
            "(1, 2) 0.8444248666989509\n",
            "(2, 0) 0.5229673901839782\n",
            "(2, 1) 0.5696168141246356\n",
            "(2, 2) 0.9981840128678884\n"
          ]
        }
      ],
      "source": [
        "x=np.random.random((3,3))\n",
        "for i,j in np.ndenumerate(x):\n",
        "  print(i,j)\n",
        "print('____________________')\n",
        "for i in np.ndindex(x.shape):\n",
        "  print(i,x[i])"
      ]
    },
    {
      "cell_type": "markdown",
      "metadata": {
        "id": "DHxY9C7bx5N3"
      },
      "source": [
        "#### 56. Generate a generic 2D Gaussian-like array (★★☆) \n",
        "(**hint**: np.meshgrid, np.exp)"
      ]
    },
    {
      "cell_type": "code",
      "execution_count": null,
      "metadata": {
        "id": "ErXVpZVMx5N3",
        "colab": {
          "base_uri": "https://localhost:8080/"
        },
        "outputId": "fc118e51-4f52-4fab-da58-5fe3c757027d"
      },
      "outputs": [
        {
          "output_type": "execute_result",
          "data": {
            "text/plain": [
              "array([[  148.41,   148.41,   148.41,   148.41,   148.41,   148.41,\n",
              "          148.41,   148.41,   148.41,   148.41,   148.41,   148.41,\n",
              "          148.41,   148.41,   148.41,   148.41,   148.41,   148.41,\n",
              "          148.41,   148.41,   148.41,   148.41,   148.41,   148.41,\n",
              "          148.41,   148.41,   148.41,   148.41,   148.41,   148.41,\n",
              "          148.41,   148.41,   148.41,   148.41,   148.41,   148.41,\n",
              "          148.41,   148.41,   148.41,   148.41,   148.41,   148.41,\n",
              "          148.41,   148.41,   148.41,   148.41,   148.41,   148.41,\n",
              "          148.41,   148.41,   148.41,   148.41,   148.41,   148.41,\n",
              "          148.41,   148.41,   148.41,   148.41,   148.41,   148.41,\n",
              "          148.41,   148.41,   148.41,   148.41,   148.41,   148.41,\n",
              "          148.41,   148.41,   148.41,   148.41,   148.41,   148.41,\n",
              "          148.41,   148.41,   148.41,   148.41,   148.41,   148.41,\n",
              "          148.41,   148.41,   148.41,   148.41,   148.41,   148.41,\n",
              "          148.41,   148.41,   148.41,   148.41,   148.41,   148.41,\n",
              "          148.41,   148.41,   148.41,   148.41,   148.41,   148.41,\n",
              "          148.41,   148.41,   148.41,   148.41,   148.41,   148.41,\n",
              "          148.41,   148.41,   148.41,   148.41,   148.41,   148.41,\n",
              "          148.41,   148.41],\n",
              "       [  258.67,   258.67,   258.67,   258.67,   258.67,   258.67,\n",
              "          258.67,   258.67,   258.67,   258.67,   258.67,   258.67,\n",
              "          258.67,   258.67,   258.67,   258.67,   258.67,   258.67,\n",
              "          258.67,   258.67,   258.67,   258.67,   258.67,   258.67,\n",
              "          258.67,   258.67,   258.67,   258.67,   258.67,   258.67,\n",
              "          258.67,   258.67,   258.67,   258.67,   258.67,   258.67,\n",
              "          258.67,   258.67,   258.67,   258.67,   258.67,   258.67,\n",
              "          258.67,   258.67,   258.67,   258.67,   258.67,   258.67,\n",
              "          258.67,   258.67,   258.67,   258.67,   258.67,   258.67,\n",
              "          258.67,   258.67,   258.67,   258.67,   258.67,   258.67,\n",
              "          258.67,   258.67,   258.67,   258.67,   258.67,   258.67,\n",
              "          258.67,   258.67,   258.67,   258.67,   258.67,   258.67,\n",
              "          258.67,   258.67,   258.67,   258.67,   258.67,   258.67,\n",
              "          258.67,   258.67,   258.67,   258.67,   258.67,   258.67,\n",
              "          258.67,   258.67,   258.67,   258.67,   258.67,   258.67,\n",
              "          258.67,   258.67,   258.67,   258.67,   258.67,   258.67,\n",
              "          258.67,   258.67,   258.67,   258.67,   258.67,   258.67,\n",
              "          258.67,   258.67,   258.67,   258.67,   258.67,   258.67,\n",
              "          258.67,   258.67],\n",
              "       [  450.84,   450.84,   450.84,   450.84,   450.84,   450.84,\n",
              "          450.84,   450.84,   450.84,   450.84,   450.84,   450.84,\n",
              "          450.84,   450.84,   450.84,   450.84,   450.84,   450.84,\n",
              "          450.84,   450.84,   450.84,   450.84,   450.84,   450.84,\n",
              "          450.84,   450.84,   450.84,   450.84,   450.84,   450.84,\n",
              "          450.84,   450.84,   450.84,   450.84,   450.84,   450.84,\n",
              "          450.84,   450.84,   450.84,   450.84,   450.84,   450.84,\n",
              "          450.84,   450.84,   450.84,   450.84,   450.84,   450.84,\n",
              "          450.84,   450.84,   450.84,   450.84,   450.84,   450.84,\n",
              "          450.84,   450.84,   450.84,   450.84,   450.84,   450.84,\n",
              "          450.84,   450.84,   450.84,   450.84,   450.84,   450.84,\n",
              "          450.84,   450.84,   450.84,   450.84,   450.84,   450.84,\n",
              "          450.84,   450.84,   450.84,   450.84,   450.84,   450.84,\n",
              "          450.84,   450.84,   450.84,   450.84,   450.84,   450.84,\n",
              "          450.84,   450.84,   450.84,   450.84,   450.84,   450.84,\n",
              "          450.84,   450.84,   450.84,   450.84,   450.84,   450.84,\n",
              "          450.84,   450.84,   450.84,   450.84,   450.84,   450.84,\n",
              "          450.84,   450.84,   450.84,   450.84,   450.84,   450.84,\n",
              "          450.84,   450.84],\n",
              "       [  785.77,   785.77,   785.77,   785.77,   785.77,   785.77,\n",
              "          785.77,   785.77,   785.77,   785.77,   785.77,   785.77,\n",
              "          785.77,   785.77,   785.77,   785.77,   785.77,   785.77,\n",
              "          785.77,   785.77,   785.77,   785.77,   785.77,   785.77,\n",
              "          785.77,   785.77,   785.77,   785.77,   785.77,   785.77,\n",
              "          785.77,   785.77,   785.77,   785.77,   785.77,   785.77,\n",
              "          785.77,   785.77,   785.77,   785.77,   785.77,   785.77,\n",
              "          785.77,   785.77,   785.77,   785.77,   785.77,   785.77,\n",
              "          785.77,   785.77,   785.77,   785.77,   785.77,   785.77,\n",
              "          785.77,   785.77,   785.77,   785.77,   785.77,   785.77,\n",
              "          785.77,   785.77,   785.77,   785.77,   785.77,   785.77,\n",
              "          785.77,   785.77,   785.77,   785.77,   785.77,   785.77,\n",
              "          785.77,   785.77,   785.77,   785.77,   785.77,   785.77,\n",
              "          785.77,   785.77,   785.77,   785.77,   785.77,   785.77,\n",
              "          785.77,   785.77,   785.77,   785.77,   785.77,   785.77,\n",
              "          785.77,   785.77,   785.77,   785.77,   785.77,   785.77,\n",
              "          785.77,   785.77,   785.77,   785.77,   785.77,   785.77,\n",
              "          785.77,   785.77,   785.77,   785.77,   785.77,   785.77,\n",
              "          785.77,   785.77],\n",
              "       [ 1369.53,  1369.53,  1369.53,  1369.53,  1369.53,  1369.53,\n",
              "         1369.53,  1369.53,  1369.53,  1369.53,  1369.53,  1369.53,\n",
              "         1369.53,  1369.53,  1369.53,  1369.53,  1369.53,  1369.53,\n",
              "         1369.53,  1369.53,  1369.53,  1369.53,  1369.53,  1369.53,\n",
              "         1369.53,  1369.53,  1369.53,  1369.53,  1369.53,  1369.53,\n",
              "         1369.53,  1369.53,  1369.53,  1369.53,  1369.53,  1369.53,\n",
              "         1369.53,  1369.53,  1369.53,  1369.53,  1369.53,  1369.53,\n",
              "         1369.53,  1369.53,  1369.53,  1369.53,  1369.53,  1369.53,\n",
              "         1369.53,  1369.53,  1369.53,  1369.53,  1369.53,  1369.53,\n",
              "         1369.53,  1369.53,  1369.53,  1369.53,  1369.53,  1369.53,\n",
              "         1369.53,  1369.53,  1369.53,  1369.53,  1369.53,  1369.53,\n",
              "         1369.53,  1369.53,  1369.53,  1369.53,  1369.53,  1369.53,\n",
              "         1369.53,  1369.53,  1369.53,  1369.53,  1369.53,  1369.53,\n",
              "         1369.53,  1369.53,  1369.53,  1369.53,  1369.53,  1369.53,\n",
              "         1369.53,  1369.53,  1369.53,  1369.53,  1369.53,  1369.53,\n",
              "         1369.53,  1369.53,  1369.53,  1369.53,  1369.53,  1369.53,\n",
              "         1369.53,  1369.53,  1369.53,  1369.53,  1369.53,  1369.53,\n",
              "         1369.53,  1369.53,  1369.53,  1369.53,  1369.53,  1369.53,\n",
              "         1369.53,  1369.53],\n",
              "       [ 2386.96,  2386.96,  2386.96,  2386.96,  2386.96,  2386.96,\n",
              "         2386.96,  2386.96,  2386.96,  2386.96,  2386.96,  2386.96,\n",
              "         2386.96,  2386.96,  2386.96,  2386.96,  2386.96,  2386.96,\n",
              "         2386.96,  2386.96,  2386.96,  2386.96,  2386.96,  2386.96,\n",
              "         2386.96,  2386.96,  2386.96,  2386.96,  2386.96,  2386.96,\n",
              "         2386.96,  2386.96,  2386.96,  2386.96,  2386.96,  2386.96,\n",
              "         2386.96,  2386.96,  2386.96,  2386.96,  2386.96,  2386.96,\n",
              "         2386.96,  2386.96,  2386.96,  2386.96,  2386.96,  2386.96,\n",
              "         2386.96,  2386.96,  2386.96,  2386.96,  2386.96,  2386.96,\n",
              "         2386.96,  2386.96,  2386.96,  2386.96,  2386.96,  2386.96,\n",
              "         2386.96,  2386.96,  2386.96,  2386.96,  2386.96,  2386.96,\n",
              "         2386.96,  2386.96,  2386.96,  2386.96,  2386.96,  2386.96,\n",
              "         2386.96,  2386.96,  2386.96,  2386.96,  2386.96,  2386.96,\n",
              "         2386.96,  2386.96,  2386.96,  2386.96,  2386.96,  2386.96,\n",
              "         2386.96,  2386.96,  2386.96,  2386.96,  2386.96,  2386.96,\n",
              "         2386.96,  2386.96,  2386.96,  2386.96,  2386.96,  2386.96,\n",
              "         2386.96,  2386.96,  2386.96,  2386.96,  2386.96,  2386.96,\n",
              "         2386.96,  2386.96,  2386.96,  2386.96,  2386.96,  2386.96,\n",
              "         2386.96,  2386.96],\n",
              "       [ 4160.26,  4160.26,  4160.26,  4160.26,  4160.26,  4160.26,\n",
              "         4160.26,  4160.26,  4160.26,  4160.26,  4160.26,  4160.26,\n",
              "         4160.26,  4160.26,  4160.26,  4160.26,  4160.26,  4160.26,\n",
              "         4160.26,  4160.26,  4160.26,  4160.26,  4160.26,  4160.26,\n",
              "         4160.26,  4160.26,  4160.26,  4160.26,  4160.26,  4160.26,\n",
              "         4160.26,  4160.26,  4160.26,  4160.26,  4160.26,  4160.26,\n",
              "         4160.26,  4160.26,  4160.26,  4160.26,  4160.26,  4160.26,\n",
              "         4160.26,  4160.26,  4160.26,  4160.26,  4160.26,  4160.26,\n",
              "         4160.26,  4160.26,  4160.26,  4160.26,  4160.26,  4160.26,\n",
              "         4160.26,  4160.26,  4160.26,  4160.26,  4160.26,  4160.26,\n",
              "         4160.26,  4160.26,  4160.26,  4160.26,  4160.26,  4160.26,\n",
              "         4160.26,  4160.26,  4160.26,  4160.26,  4160.26,  4160.26,\n",
              "         4160.26,  4160.26,  4160.26,  4160.26,  4160.26,  4160.26,\n",
              "         4160.26,  4160.26,  4160.26,  4160.26,  4160.26,  4160.26,\n",
              "         4160.26,  4160.26,  4160.26,  4160.26,  4160.26,  4160.26,\n",
              "         4160.26,  4160.26,  4160.26,  4160.26,  4160.26,  4160.26,\n",
              "         4160.26,  4160.26,  4160.26,  4160.26,  4160.26,  4160.26,\n",
              "         4160.26,  4160.26,  4160.26,  4160.26,  4160.26,  4160.26,\n",
              "         4160.26,  4160.26],\n",
              "       [ 7250.96,  7250.96,  7250.96,  7250.96,  7250.96,  7250.96,\n",
              "         7250.96,  7250.96,  7250.96,  7250.96,  7250.96,  7250.96,\n",
              "         7250.96,  7250.96,  7250.96,  7250.96,  7250.96,  7250.96,\n",
              "         7250.96,  7250.96,  7250.96,  7250.96,  7250.96,  7250.96,\n",
              "         7250.96,  7250.96,  7250.96,  7250.96,  7250.96,  7250.96,\n",
              "         7250.96,  7250.96,  7250.96,  7250.96,  7250.96,  7250.96,\n",
              "         7250.96,  7250.96,  7250.96,  7250.96,  7250.96,  7250.96,\n",
              "         7250.96,  7250.96,  7250.96,  7250.96,  7250.96,  7250.96,\n",
              "         7250.96,  7250.96,  7250.96,  7250.96,  7250.96,  7250.96,\n",
              "         7250.96,  7250.96,  7250.96,  7250.96,  7250.96,  7250.96,\n",
              "         7250.96,  7250.96,  7250.96,  7250.96,  7250.96,  7250.96,\n",
              "         7250.96,  7250.96,  7250.96,  7250.96,  7250.96,  7250.96,\n",
              "         7250.96,  7250.96,  7250.96,  7250.96,  7250.96,  7250.96,\n",
              "         7250.96,  7250.96,  7250.96,  7250.96,  7250.96,  7250.96,\n",
              "         7250.96,  7250.96,  7250.96,  7250.96,  7250.96,  7250.96,\n",
              "         7250.96,  7250.96,  7250.96,  7250.96,  7250.96,  7250.96,\n",
              "         7250.96,  7250.96,  7250.96,  7250.96,  7250.96,  7250.96,\n",
              "         7250.96,  7250.96,  7250.96,  7250.96,  7250.96,  7250.96,\n",
              "         7250.96,  7250.96],\n",
              "       [12637.76, 12637.76, 12637.76, 12637.76, 12637.76, 12637.76,\n",
              "        12637.76, 12637.76, 12637.76, 12637.76, 12637.76, 12637.76,\n",
              "        12637.76, 12637.76, 12637.76, 12637.76, 12637.76, 12637.76,\n",
              "        12637.76, 12637.76, 12637.76, 12637.76, 12637.76, 12637.76,\n",
              "        12637.76, 12637.76, 12637.76, 12637.76, 12637.76, 12637.76,\n",
              "        12637.76, 12637.76, 12637.76, 12637.76, 12637.76, 12637.76,\n",
              "        12637.76, 12637.76, 12637.76, 12637.76, 12637.76, 12637.76,\n",
              "        12637.76, 12637.76, 12637.76, 12637.76, 12637.76, 12637.76,\n",
              "        12637.76, 12637.76, 12637.76, 12637.76, 12637.76, 12637.76,\n",
              "        12637.76, 12637.76, 12637.76, 12637.76, 12637.76, 12637.76,\n",
              "        12637.76, 12637.76, 12637.76, 12637.76, 12637.76, 12637.76,\n",
              "        12637.76, 12637.76, 12637.76, 12637.76, 12637.76, 12637.76,\n",
              "        12637.76, 12637.76, 12637.76, 12637.76, 12637.76, 12637.76,\n",
              "        12637.76, 12637.76, 12637.76, 12637.76, 12637.76, 12637.76,\n",
              "        12637.76, 12637.76, 12637.76, 12637.76, 12637.76, 12637.76,\n",
              "        12637.76, 12637.76, 12637.76, 12637.76, 12637.76, 12637.76,\n",
              "        12637.76, 12637.76, 12637.76, 12637.76, 12637.76, 12637.76,\n",
              "        12637.76, 12637.76, 12637.76, 12637.76, 12637.76, 12637.76,\n",
              "        12637.76, 12637.76],\n",
              "       [22026.47, 22026.47, 22026.47, 22026.47, 22026.47, 22026.47,\n",
              "        22026.47, 22026.47, 22026.47, 22026.47, 22026.47, 22026.47,\n",
              "        22026.47, 22026.47, 22026.47, 22026.47, 22026.47, 22026.47,\n",
              "        22026.47, 22026.47, 22026.47, 22026.47, 22026.47, 22026.47,\n",
              "        22026.47, 22026.47, 22026.47, 22026.47, 22026.47, 22026.47,\n",
              "        22026.47, 22026.47, 22026.47, 22026.47, 22026.47, 22026.47,\n",
              "        22026.47, 22026.47, 22026.47, 22026.47, 22026.47, 22026.47,\n",
              "        22026.47, 22026.47, 22026.47, 22026.47, 22026.47, 22026.47,\n",
              "        22026.47, 22026.47, 22026.47, 22026.47, 22026.47, 22026.47,\n",
              "        22026.47, 22026.47, 22026.47, 22026.47, 22026.47, 22026.47,\n",
              "        22026.47, 22026.47, 22026.47, 22026.47, 22026.47, 22026.47,\n",
              "        22026.47, 22026.47, 22026.47, 22026.47, 22026.47, 22026.47,\n",
              "        22026.47, 22026.47, 22026.47, 22026.47, 22026.47, 22026.47,\n",
              "        22026.47, 22026.47, 22026.47, 22026.47, 22026.47, 22026.47,\n",
              "        22026.47, 22026.47, 22026.47, 22026.47, 22026.47, 22026.47,\n",
              "        22026.47, 22026.47, 22026.47, 22026.47, 22026.47, 22026.47,\n",
              "        22026.47, 22026.47, 22026.47, 22026.47, 22026.47, 22026.47,\n",
              "        22026.47, 22026.47, 22026.47, 22026.47, 22026.47, 22026.47,\n",
              "        22026.47, 22026.47]])"
            ]
          },
          "metadata": {},
          "execution_count": 183
        }
      ],
      "source": [
        "x=np.linspace(0,5,110)\n",
        "y=np.linspace(5,10,10)\n",
        "X,Y=np.meshgrid(x,y)\n",
        "Z=X+Y\n",
        "np.exp(Y)"
      ]
    },
    {
      "cell_type": "markdown",
      "metadata": {
        "id": "kqicG5Czx5N3"
      },
      "source": [
        "#### 57. How to randomly place p elements in a 2D array? (★★☆) \n",
        "(**hint**: np.put, np.random.choice)"
      ]
    },
    {
      "cell_type": "code",
      "execution_count": null,
      "metadata": {
        "id": "hBqV5HUcx5N4",
        "colab": {
          "base_uri": "https://localhost:8080/"
        },
        "outputId": "7cc19a1d-971f-477e-cfce-2916d90e1311"
      },
      "outputs": [
        {
          "output_type": "execute_result",
          "data": {
            "text/plain": [
              "array([[1., 1., 1., 1., 1.],\n",
              "       [1., 1., 1., 1., 1.],\n",
              "       [1., 6., 1., 1., 1.],\n",
              "       [1., 6., 1., 6., 1.],\n",
              "       [1., 1., 1., 1., 1.]])"
            ]
          },
          "metadata": {},
          "execution_count": 184
        }
      ],
      "source": [
        "n=5\n",
        "p=3\n",
        "x=np.ones((n,n))\n",
        "np.put(x, np.random.choice(range(n*n), p, replace=False),6)\n",
        "x"
      ]
    },
    {
      "cell_type": "markdown",
      "metadata": {
        "id": "EvGmfO8Rx5N4"
      },
      "source": [
        "#### 58. Subtract the mean of each row of a matrix (★★☆) \n",
        "(**hint**: mean(axis=,keepdims=))"
      ]
    },
    {
      "cell_type": "code",
      "execution_count": null,
      "metadata": {
        "id": "omJypWn-x5N4",
        "colab": {
          "base_uri": "https://localhost:8080/"
        },
        "outputId": "ced8e531-e013-48be-bacb-e95ec030d2f2"
      },
      "outputs": [
        {
          "output_type": "execute_result",
          "data": {
            "text/plain": [
              "array([[ 0.16,  0.25, -0.41],\n",
              "       [ 0.  ,  0.07, -0.07],\n",
              "       [ 0.21, -0.05, -0.15]])"
            ]
          },
          "metadata": {},
          "execution_count": 185
        }
      ],
      "source": [
        "x=np.random.rand(3,3)\n",
        "mean=x.mean(axis=1,keepdims=True)\n",
        "y=x-mean\n",
        "y"
      ]
    },
    {
      "cell_type": "markdown",
      "metadata": {
        "id": "1mtZ8atcx5N4"
      },
      "source": [
        "#### 59. How to sort an array by the nth column? (★★☆) \n",
        "(**hint**: argsort)"
      ]
    },
    {
      "cell_type": "code",
      "execution_count": null,
      "metadata": {
        "id": "uHfkFByFx5N4",
        "colab": {
          "base_uri": "https://localhost:8080/"
        },
        "outputId": "a1a7c6e6-47ce-4523-97cf-b8c5caea3604"
      },
      "outputs": [
        {
          "output_type": "execute_result",
          "data": {
            "text/plain": [
              "array([[4, 3, 4],\n",
              "       [9, 6, 7],\n",
              "       [3, 9, 6]])"
            ]
          },
          "metadata": {},
          "execution_count": 186
        }
      ],
      "source": [
        "x=np.random.randint(0,10,(3,3))\n",
        "x[x[:,1].argsort()]"
      ]
    },
    {
      "cell_type": "markdown",
      "metadata": {
        "id": "xc76Vtwvx5N4"
      },
      "source": [
        "#### 60. How to tell if a given 2D array has null columns? (★★☆) \n",
        "(**hint**: any, ~)"
      ]
    },
    {
      "cell_type": "code",
      "execution_count": null,
      "metadata": {
        "id": "qzTCrFXmx5N5",
        "colab": {
          "base_uri": "https://localhost:8080/"
        },
        "outputId": "92b9ab6c-6a4a-48e7-b026-7b88a209052e"
      },
      "outputs": [
        {
          "output_type": "execute_result",
          "data": {
            "text/plain": [
              "False"
            ]
          },
          "metadata": {},
          "execution_count": 187
        }
      ],
      "source": [
        "x=np.random.randn(3,3)\n",
        "(~x.any(axis=0)).any()"
      ]
    },
    {
      "cell_type": "markdown",
      "metadata": {
        "id": "HdcJpLhFx5N5"
      },
      "source": [
        "#### 61. Find the nearest value from a given value in an array (★★☆) \n",
        "(**hint**: np.abs, argmin, flat)"
      ]
    },
    {
      "cell_type": "code",
      "execution_count": null,
      "metadata": {
        "id": "-pppu0CRx5N5",
        "colab": {
          "base_uri": "https://localhost:8080/"
        },
        "outputId": "1f1dd02e-31ba-4eeb-e0b9-8de25e239f6d"
      },
      "outputs": [
        {
          "output_type": "execute_result",
          "data": {
            "text/plain": [
              "0.2222498772295748"
            ]
          },
          "metadata": {},
          "execution_count": 188
        }
      ],
      "source": [
        "x= np.random.uniform(0,1,10)\n",
        "v= 0.2\n",
        "n= x.flat[np.abs(x-v).argmin()]\n",
        "n"
      ]
    },
    {
      "cell_type": "markdown",
      "metadata": {
        "id": "jINNNgISx5N5"
      },
      "source": [
        "#### 62. Considering two arrays with shape (1,3) and (3,1), how to compute their sum using an iterator? (★★☆) \n",
        "(**hint**: np.nditer)"
      ]
    },
    {
      "cell_type": "code",
      "execution_count": null,
      "metadata": {
        "id": "jYOpl3CSx5N5",
        "colab": {
          "base_uri": "https://localhost:8080/"
        },
        "outputId": "cd1d48f4-6e52-4c10-b56c-20cb347b5732"
      },
      "outputs": [
        {
          "output_type": "execute_result",
          "data": {
            "text/plain": [
              "array([[0.84, 1.65, 0.85],\n",
              "       [0.45, 1.26, 0.46],\n",
              "       [0.59, 1.4 , 0.6 ]])"
            ]
          },
          "metadata": {},
          "execution_count": 189
        }
      ],
      "source": [
        "x=np.random.rand(3,1)\n",
        "y=np.random.rand(1,3)\n",
        "iterator=np.nditer([x,y,None])\n",
        "for x,y,z in iterator:\n",
        "    z[...]=x+y\n",
        "iterator.operands[2]"
      ]
    },
    {
      "cell_type": "markdown",
      "metadata": {
        "id": "pfFpLTkMx5N5"
      },
      "source": [
        "#### 63. Create an array class that has a name attribute (★★☆) \n",
        "(**hint**: class method)"
      ]
    },
    {
      "cell_type": "code",
      "execution_count": null,
      "metadata": {
        "id": "7KgQ8Qlax5N5"
      },
      "outputs": [],
      "source": []
    },
    {
      "cell_type": "markdown",
      "metadata": {
        "id": "O-_UbKnwx5N5"
      },
      "source": [
        "#### 64. Consider a given vector, how to add 1 to each element indexed by a second vector (be careful with repeated indices)? (★★★) \n",
        "(**hint**: np.bincount | np.add.at)"
      ]
    },
    {
      "cell_type": "code",
      "execution_count": null,
      "metadata": {
        "id": "enNA1Lv0x5N6",
        "colab": {
          "base_uri": "https://localhost:8080/"
        },
        "outputId": "b7b8b3c1-b3bd-429c-e40a-8d2471d4a1fe"
      },
      "outputs": [
        {
          "output_type": "stream",
          "name": "stdout",
          "text": [
            "[2 3 4 5]\n"
          ]
        }
      ],
      "source": [
        "a =np.array([1,2,3,4])\n",
        "b= np.array([0,1,2,3])\n",
        "np.add.at(a,b,1)\n",
        "print(a)"
      ]
    },
    {
      "cell_type": "markdown",
      "metadata": {
        "id": "t0W6v9Fex5N6"
      },
      "source": [
        "#### 65. How to accumulate elements of a vector (X) to an array (F) based on an index list (I)? (★★★) \n",
        "(**hint**: np.bincount)"
      ]
    },
    {
      "cell_type": "code",
      "execution_count": null,
      "metadata": {
        "id": "cF8T8Bjtx5N6",
        "colab": {
          "base_uri": "https://localhost:8080/"
        },
        "outputId": "09221e8d-0e9f-4526-80b3-8119dd1e24a2"
      },
      "outputs": [
        {
          "output_type": "execute_result",
          "data": {
            "text/plain": [
              "array([0., 7., 0., 6., 5., 0., 0., 0., 0., 3.])"
            ]
          },
          "metadata": {},
          "execution_count": 191
        }
      ],
      "source": [
        "x=np.array([1,2,3,4,5,6])\n",
        "I=[1,3,9,3,4,1]\n",
        "F=np.bincount(I,x)\n",
        "F"
      ]
    },
    {
      "cell_type": "markdown",
      "metadata": {
        "id": "aMcEhrCbx5N6"
      },
      "source": [
        "#### 66. Considering a (w,h,3) image of (dtype=ubyte), compute the number of unique colors (★★★) \n",
        "(**hint**: np.unique)"
      ]
    },
    {
      "cell_type": "code",
      "execution_count": null,
      "metadata": {
        "id": "436lEx0Hx5N6"
      },
      "outputs": [],
      "source": []
    },
    {
      "cell_type": "markdown",
      "metadata": {
        "id": "AerdfKkFx5N7"
      },
      "source": [
        "#### 67. Considering a four dimensions array, how to get sum over the last two axis at once? (★★★) \n",
        "(**hint**: sum(axis=(-2,-1)))"
      ]
    },
    {
      "cell_type": "code",
      "execution_count": null,
      "metadata": {
        "id": "DYBEfFBhx5N7",
        "colab": {
          "base_uri": "https://localhost:8080/"
        },
        "outputId": "89cc403e-7de9-40c2-e93f-be0dabe36d5d"
      },
      "outputs": [
        {
          "output_type": "execute_result",
          "data": {
            "text/plain": [
              "array([[7.23, 5.94, 8.02, 7.18],\n",
              "       [6.37, 6.24, 6.04, 4.57],\n",
              "       [6.68, 6.75, 4.7 , 6.49]])"
            ]
          },
          "metadata": {},
          "execution_count": 192
        }
      ],
      "source": [
        "x=np.random.rand(3,4,3,4)\n",
        "x.sum(axis=(-2,-1))"
      ]
    },
    {
      "cell_type": "markdown",
      "metadata": {
        "id": "yVPrvoWPx5N7"
      },
      "source": [
        "#### 68. Considering a one-dimensional vector D, how to compute means of subsets of D using a vector S of same size describing subset  indices? (★★★) \n",
        "(**hint**: np.bincount)"
      ]
    },
    {
      "cell_type": "code",
      "execution_count": null,
      "metadata": {
        "id": "mgjVhDszx5N7",
        "colab": {
          "base_uri": "https://localhost:8080/"
        },
        "outputId": "85710b17-96b8-4866-ef7e-a895bad38e1e"
      },
      "outputs": [
        {
          "output_type": "execute_result",
          "data": {
            "text/plain": [
              "array([0.45, 0.6 , 0.46, 0.49, 0.5 ])"
            ]
          },
          "metadata": {},
          "execution_count": 193
        }
      ],
      "source": [
        "D=np.random.uniform(0,1,50)\n",
        "S=np.random.randint(0,5,50)\n",
        "bin1= np.bincount(S, weights=D)\n",
        "bin2 = np.bincount(S)\n",
        "mean = bin1/bin2\n",
        "mean"
      ]
    },
    {
      "cell_type": "markdown",
      "metadata": {
        "id": "JnG_nY4Px5N7"
      },
      "source": [
        "#### 69. How to get the diagonal of a dot product? (★★★) \n",
        "(**hint**: np.diag)"
      ]
    },
    {
      "cell_type": "code",
      "execution_count": null,
      "metadata": {
        "id": "uaSfrmayx5OI",
        "colab": {
          "base_uri": "https://localhost:8080/"
        },
        "outputId": "38884fd5-925c-4710-c0d4-fd09e0cfb7b5"
      },
      "outputs": [
        {
          "output_type": "execute_result",
          "data": {
            "text/plain": [
              "array([0.33, 0.66, 1.04])"
            ]
          },
          "metadata": {},
          "execution_count": 194
        }
      ],
      "source": [
        "a=np.random.random((3,3))\n",
        "b=np.random.random((3,3))\n",
        "prod=np.dot(a,b)\n",
        "np.diag(prod)"
      ]
    },
    {
      "cell_type": "markdown",
      "metadata": {
        "id": "-vLg6Aomx5OI"
      },
      "source": [
        "#### 70. Consider the vector \\[1, 2, 3, 4, 5\\], how to build a new vector with 3 consecutive zeros interleaved between each value? (★★★) \n",
        "(**hint**: array\\[::4\\])"
      ]
    },
    {
      "cell_type": "code",
      "execution_count": null,
      "metadata": {
        "id": "GvQXr3Czx5OJ",
        "colab": {
          "base_uri": "https://localhost:8080/"
        },
        "outputId": "97550521-f7fe-4fb3-ddad-f5f51f29b4d3"
      },
      "outputs": [
        {
          "output_type": "execute_result",
          "data": {
            "text/plain": [
              "array([1., 0., 0., 0., 2., 0., 0., 0., 3., 0., 0., 0., 4., 0., 0., 0., 5.])"
            ]
          },
          "metadata": {},
          "execution_count": 195
        }
      ],
      "source": [
        "v=np.array([1,2,3,4,5])\n",
        "n=3\n",
        "new = np.zeros(len(v) + (len(v)-1)*(n))\n",
        "new[::4]=v\n",
        "new"
      ]
    },
    {
      "cell_type": "markdown",
      "metadata": {
        "id": "OFhHEM5ox5OJ"
      },
      "source": [
        "#### 71. Consider an array of dimension (5,5,3), how to mulitply it by an array with dimensions (5,5)? (★★★) \n",
        "(**hint**: array\\[:, :, None\\])"
      ]
    },
    {
      "cell_type": "code",
      "execution_count": null,
      "metadata": {
        "id": "1edK9GlLx5OJ",
        "colab": {
          "base_uri": "https://localhost:8080/"
        },
        "outputId": "d12d58c4-c227-4b56-ea11-1368e6b73bef"
      },
      "outputs": [
        {
          "output_type": "execute_result",
          "data": {
            "text/plain": [
              "array([[[0.09, 0.06, 0.04],\n",
              "        [0.27, 0.41, 0.17],\n",
              "        [0.25, 0.38, 0.36],\n",
              "        [0.16, 0.09, 0.19],\n",
              "        [0.41, 0.41, 0.49]],\n",
              "\n",
              "       [[0.02, 0.  , 0.06],\n",
              "        [0.01, 0.02, 0.02],\n",
              "        [0.11, 0.11, 0.06],\n",
              "        [0.01, 0.  , 0.15],\n",
              "        [0.54, 0.4 , 0.38]],\n",
              "\n",
              "       [[0.05, 0.43, 0.2 ],\n",
              "        [0.32, 0.05, 0.73],\n",
              "        [0.  , 0.  , 0.03],\n",
              "        [0.9 , 0.68, 0.77],\n",
              "        [0.06, 0.  , 0.83]],\n",
              "\n",
              "       [[0.34, 0.4 , 0.13],\n",
              "        [0.01, 0.  , 0.  ],\n",
              "        [0.44, 0.34, 0.43],\n",
              "        [0.25, 0.49, 0.34],\n",
              "        [0.1 , 0.06, 0.33]],\n",
              "\n",
              "       [[0.29, 0.32, 0.66],\n",
              "        [0.16, 0.52, 0.3 ],\n",
              "        [0.53, 0.48, 0.57],\n",
              "        [0.37, 0.5 , 0.52],\n",
              "        [0.02, 0.01, 0.04]]])"
            ]
          },
          "metadata": {},
          "execution_count": 196
        }
      ],
      "source": [
        "a=np.random.random((5,5,3))\n",
        "b=np.random.random((5,5))\n",
        "a*b[:,:,None]"
      ]
    },
    {
      "cell_type": "markdown",
      "metadata": {
        "id": "uKT-Z5Xlx5OJ"
      },
      "source": [
        "#### 72. How to swap two rows of an array? (★★★) \n",
        "(**hint**: array\\[\\[\\]\\] = array\\[\\[\\]\\])"
      ]
    },
    {
      "cell_type": "code",
      "execution_count": null,
      "metadata": {
        "id": "POS5Hjbjx5OJ",
        "colab": {
          "base_uri": "https://localhost:8080/"
        },
        "outputId": "59c76c0a-f47a-4ec3-deb4-a1b16f33508a"
      },
      "outputs": [
        {
          "output_type": "execute_result",
          "data": {
            "text/plain": [
              "array([[0.81, 0.47, 0.38],\n",
              "       [0.5 , 0.61, 0.86],\n",
              "       [0.63, 0.77, 0.11]])"
            ]
          },
          "metadata": {},
          "execution_count": 197
        }
      ],
      "source": [
        "a=np.random.rand(3,3)\n",
        "a[[0,1]]=a[[1,0]]\n",
        "a"
      ]
    },
    {
      "cell_type": "markdown",
      "metadata": {
        "id": "M0lxMlXwx5OJ"
      },
      "source": [
        "#### 73. Consider a set of 10 triplets describing 10 triangles (with shared vertices), find the set of unique line segments composing all the  triangles (★★★) \n",
        "(**hint**: repeat, np.roll, np.sort, view, np.unique)"
      ]
    },
    {
      "cell_type": "code",
      "execution_count": null,
      "metadata": {
        "id": "TydRnt9ix5OJ"
      },
      "outputs": [],
      "source": []
    },
    {
      "cell_type": "markdown",
      "metadata": {
        "id": "4ZmZiKASx5OK"
      },
      "source": [
        "#### 74. Given an array C that is a bincount, how to produce an array A such that np.bincount(A) == C? (★★★) \n",
        "(**hint**: np.repeat)"
      ]
    },
    {
      "cell_type": "code",
      "execution_count": null,
      "metadata": {
        "id": "HKyrxkP7x5OK",
        "colab": {
          "base_uri": "https://localhost:8080/"
        },
        "outputId": "d11a2799-d511-4d0e-c2c4-7e4c397f5516"
      },
      "outputs": [
        {
          "output_type": "execute_result",
          "data": {
            "text/plain": [
              "array([1, 2, 2, 3, 5, 6])"
            ]
          },
          "metadata": {},
          "execution_count": 198
        }
      ],
      "source": [
        "C=np.bincount([1,2,5,6,3,2])\n",
        "A=np.repeat(np.arange(len(C)),C)\n",
        "A"
      ]
    },
    {
      "cell_type": "markdown",
      "metadata": {
        "id": "rL4AZ7Ydx5OK"
      },
      "source": [
        "#### 75. How to compute averages using a sliding window over an array? (★★★) \n",
        "(**hint**: np.cumsum)"
      ]
    },
    {
      "cell_type": "code",
      "execution_count": null,
      "metadata": {
        "id": "UqmtgFqMx5OK",
        "colab": {
          "base_uri": "https://localhost:8080/"
        },
        "outputId": "18df7ca5-5198-438d-a855-4e0eb1c616aa"
      },
      "outputs": [
        {
          "output_type": "execute_result",
          "data": {
            "text/plain": [
              "array([ 0.  ,  0.33,  1.  ,  2.  ,  3.33,  5.  ,  7.  ,  9.33, 12.  ,\n",
              "       15.  , 18.33, 22.  , 26.  , 30.33, 35.  , 40.  , 45.33, 51.  ,\n",
              "       57.  , 63.33])"
            ]
          },
          "metadata": {},
          "execution_count": 199
        }
      ],
      "source": [
        "x=np.arange(20)\n",
        "sum=np.cumsum(x)\n",
        "avg=sum/3\n",
        "avg"
      ]
    },
    {
      "cell_type": "markdown",
      "metadata": {
        "id": "4r8lYTPHx5OK"
      },
      "source": [
        "#### 76. Consider a one-dimensional array Z, build a two-dimensional array whose first row is (Z\\[0\\],Z\\[1\\],Z\\[2\\]) and each subsequent row is  shifted by 1 (last row should be (Z\\[-3\\],Z\\[-2\\],Z\\[-1\\]) (★★★) \n",
        "(**hint**: from numpy.lib import stride_tricks)"
      ]
    },
    {
      "cell_type": "code",
      "execution_count": null,
      "metadata": {
        "id": "y3T4HWCjx5OL",
        "colab": {
          "base_uri": "https://localhost:8080/"
        },
        "outputId": "2d2f8e12-30b3-4d1a-a76e-934eaee922b2"
      },
      "outputs": [
        {
          "output_type": "execute_result",
          "data": {
            "text/plain": [
              "array([[0, 1, 2],\n",
              "       [1, 2, 3],\n",
              "       [2, 3, 4],\n",
              "       [3, 4, 5],\n",
              "       [4, 5, 6],\n",
              "       [5, 6, 7],\n",
              "       [6, 7, 8],\n",
              "       [7, 8, 9]])"
            ]
          },
          "metadata": {},
          "execution_count": 200
        }
      ],
      "source": [
        "from numpy.lib import stride_tricks\n",
        "a=np.arange(10)\n",
        "size=a.itemsize\n",
        "step=3\n",
        "stride_tricks.as_strided(a, shape=(a.size-step+1,step),strides=(size,size))"
      ]
    },
    {
      "cell_type": "code",
      "source": [
        "a=np.arange(10)\n",
        "a.itemsize"
      ],
      "metadata": {
        "colab": {
          "base_uri": "https://localhost:8080/"
        },
        "id": "st272G2wVFQr",
        "outputId": "b9c09969-a565-4221-8101-961098b8771b"
      },
      "execution_count": null,
      "outputs": [
        {
          "output_type": "execute_result",
          "data": {
            "text/plain": [
              "8"
            ]
          },
          "metadata": {},
          "execution_count": 201
        }
      ]
    },
    {
      "cell_type": "markdown",
      "metadata": {
        "id": "wmrAr8Plx5OL"
      },
      "source": [
        "#### 77. How to negate a boolean, or to change the sign of a float inplace? (★★★) \n",
        "(**hint**: np.logical_not, np.negative)"
      ]
    },
    {
      "cell_type": "code",
      "execution_count": null,
      "metadata": {
        "id": "9_yGJcw6x5OL",
        "colab": {
          "base_uri": "https://localhost:8080/"
        },
        "outputId": "f21078f6-a687-403b-cb54-d2a486f9836d"
      },
      "outputs": [
        {
          "output_type": "stream",
          "name": "stdout",
          "text": [
            "[0. 0. 0. 0. 0. 0. 0. 0. 0. 0.]\n",
            "[-1.25 -1.42 -2.84 -2.76 -1.69 -2.5  -2.01 -1.95 -2.78 -1.98]\n"
          ]
        }
      ],
      "source": [
        "x=np.random.uniform(1,2,10)\n",
        "y=np.logical_not(x,out=x)\n",
        "print(y)\n",
        "x1=np.random.uniform(1,3,10)\n",
        "y1=np.negative(x1,out=x1)\n",
        "print(y1)"
      ]
    },
    {
      "cell_type": "markdown",
      "metadata": {
        "id": "EkWEw90Bx5OL"
      },
      "source": [
        "#### 78. Consider 2 sets of points P0,P1 describing lines (2d) and a point p, how to compute distance from p to each line i  (P0\\[i\\],P1\\[i\\])? (★★★)"
      ]
    },
    {
      "cell_type": "code",
      "execution_count": null,
      "metadata": {
        "id": "Yt09OvPlx5OL"
      },
      "outputs": [],
      "source": []
    },
    {
      "cell_type": "markdown",
      "metadata": {
        "id": "IiBCAIYfx5OL"
      },
      "source": [
        "#### 79. Consider 2 sets of points P0,P1 describing lines (2d) and a set of points P, how to compute distance from each point j (P\\[j\\]) to each line i (P0\\[i\\],P1\\[i\\])? (★★★)"
      ]
    },
    {
      "cell_type": "code",
      "execution_count": null,
      "metadata": {
        "id": "mLXG2xZyx5OL"
      },
      "outputs": [],
      "source": []
    },
    {
      "cell_type": "markdown",
      "metadata": {
        "id": "Rs0wbAOqx5OL"
      },
      "source": [
        "#### 80. Consider an arbitrary array, write a function that extract a subpart with a fixed shape and centered on a given element (pad with a `fill` value when necessary) (★★★) \n",
        "(**hint**: minimum, maximum)"
      ]
    },
    {
      "cell_type": "code",
      "execution_count": null,
      "metadata": {
        "id": "K51rm1G3x5OM"
      },
      "outputs": [],
      "source": []
    },
    {
      "cell_type": "markdown",
      "metadata": {
        "id": "JCV_NNEXx5OM"
      },
      "source": [
        "#### 81. Consider an array Z = \\[1,2,3,4,5,6,7,8,9,10,11,12,13,14\\], how to generate an array R = \\[\\[1,2,3,4\\], \\[2,3,4,5\\], \\[3,4,5,6\\], ..., \\[11,12,13,14\\]\\]? (★★★) \n",
        "(**hint**: stride\\_tricks.as\\_strided)"
      ]
    },
    {
      "cell_type": "code",
      "execution_count": null,
      "metadata": {
        "id": "XEdz-vhIx5OM",
        "colab": {
          "base_uri": "https://localhost:8080/"
        },
        "outputId": "a5649570-0567-43a1-d862-af1218123141"
      },
      "outputs": [
        {
          "output_type": "execute_result",
          "data": {
            "text/plain": [
              "array([[ 1,  2,  3,  4],\n",
              "       [ 2,  3,  4,  5],\n",
              "       [ 3,  4,  5,  6],\n",
              "       [ 4,  5,  6,  7],\n",
              "       [ 5,  6,  7,  8],\n",
              "       [ 6,  7,  8,  9],\n",
              "       [ 7,  8,  9, 10],\n",
              "       [ 8,  9, 10, 11],\n",
              "       [ 9, 10, 11, 12],\n",
              "       [10, 11, 12, 13],\n",
              "       [11, 12, 13, 14]], dtype=uint32)"
            ]
          },
          "metadata": {},
          "execution_count": 203
        }
      ],
      "source": [
        "from numpy.lib.stride_tricks import as_strided\n",
        "Z=np.arange(1,15,dtype=np.uint32)\n",
        "R=as_strided(Z,(11,4),(4,4))\n",
        "R"
      ]
    },
    {
      "cell_type": "markdown",
      "metadata": {
        "id": "6wXaOG5Jx5OM"
      },
      "source": [
        "#### 82. Compute a matrix rank (★★★) \n",
        "(**hint**: np.linalg.svd) (suggestion: np.linalg.svd)"
      ]
    },
    {
      "cell_type": "code",
      "execution_count": null,
      "metadata": {
        "id": "bGti7Sfjx5OM",
        "colab": {
          "base_uri": "https://localhost:8080/"
        },
        "outputId": "32236551-061a-4500-e199-681b7397deb8"
      },
      "outputs": [
        {
          "output_type": "execute_result",
          "data": {
            "text/plain": [
              "5"
            ]
          },
          "metadata": {},
          "execution_count": 204
        }
      ],
      "source": [
        "x=np.random.uniform(0,5,(5,5))\n",
        "np.linalg.matrix_rank(x)"
      ]
    },
    {
      "cell_type": "markdown",
      "metadata": {
        "id": "trttBsokx5OM"
      },
      "source": [
        "#### 83. How to find the most frequent value in an array? \n",
        "(**hint**: np.bincount, argmax)"
      ]
    },
    {
      "cell_type": "code",
      "execution_count": null,
      "metadata": {
        "id": "UU3RIu4Sx5OM",
        "colab": {
          "base_uri": "https://localhost:8080/"
        },
        "outputId": "ec7431fb-fb93-40a2-becc-97d0600d3f74"
      },
      "outputs": [
        {
          "output_type": "execute_result",
          "data": {
            "text/plain": [
              "1"
            ]
          },
          "metadata": {},
          "execution_count": 205
        }
      ],
      "source": [
        "x=np.random.randint(0,10,50)\n",
        "bin1=np.bincount(Z)\n",
        "bin1.argmax()"
      ]
    },
    {
      "cell_type": "markdown",
      "metadata": {
        "id": "vVdqNiSxx5OM"
      },
      "source": [
        "#### 84. Extract all the contiguous 3x3 blocks from a random 10x10 matrix (★★★) \n",
        "(**hint**: stride\\_tricks.as\\_strided)"
      ]
    },
    {
      "cell_type": "code",
      "execution_count": null,
      "metadata": {
        "id": "PW_FBgVBx5ON",
        "colab": {
          "base_uri": "https://localhost:8080/"
        },
        "outputId": "653a291e-afef-4df4-a947-6eed505073b2"
      },
      "outputs": [
        {
          "output_type": "stream",
          "name": "stdout",
          "text": [
            "[[6.61 9.61 6.93]\n",
            " [5.68 8.24 1.74]\n",
            " [0.8  3.57 6.14]]\n"
          ]
        }
      ],
      "source": [
        "Z = np.random.uniform(0,10,(10,10))\n",
        "C = as_strided(Z, shape=(3,3),strides=Z.strides)\n",
        "print(C)"
      ]
    },
    {
      "cell_type": "markdown",
      "metadata": {
        "id": "1ggwAHvEx5ON"
      },
      "source": [
        "#### 85. Create a 2D array subclass such that Z\\[i,j\\] == Z\\[j,i\\] (★★★) \n",
        "(**hint**: class method)"
      ]
    },
    {
      "cell_type": "code",
      "execution_count": null,
      "metadata": {
        "id": "VUnm0Ip7x5ON"
      },
      "outputs": [],
      "source": []
    },
    {
      "cell_type": "markdown",
      "metadata": {
        "id": "iOMHCsCBx5ON"
      },
      "source": [
        "#### 86. Consider a set of p matrices wich shape (n,n) and a set of p vectors with shape (n,1). How to compute the sum of of the p matrix products at once? (result has shape (n,1)) (★★★) \n",
        "(**hint**: np.tensordot)"
      ]
    },
    {
      "cell_type": "code",
      "source": [
        "p=4\n",
        "n=3\n",
        "mat1= np.zeros((p,n,n))\n",
        "vec1= np.zeros((p,n,1))\n",
        "np.tensordot(mat1,vec1, axes=[[0, 2], [0, 1]])\n"
      ],
      "metadata": {
        "colab": {
          "base_uri": "https://localhost:8080/"
        },
        "id": "VBGwvVpSntI0",
        "outputId": "1b68fae4-b6de-4333-e33b-188ced56f084"
      },
      "execution_count": null,
      "outputs": [
        {
          "output_type": "execute_result",
          "data": {
            "text/plain": [
              "array([[0.],\n",
              "       [0.],\n",
              "       [0.]])"
            ]
          },
          "metadata": {},
          "execution_count": 207
        }
      ]
    },
    {
      "cell_type": "markdown",
      "metadata": {
        "id": "p7fWwNqIx5ON"
      },
      "source": [
        "#### 87. Consider a 16x16 array, how to get the block-sum (block size is 4x4)? (★★★) \n",
        "(**hint**: np.add.reduceat)"
      ]
    },
    {
      "cell_type": "code",
      "source": [
        "x=np.ones((16,16))\n",
        "b=4\n",
        "s=np.add.reduceat(np.add.reduceat(x,np.arange(0, x.shape[0], b), axis=0),np.arange(0, x.shape[1], b), axis=1)\n",
        "print(s)"
      ],
      "metadata": {
        "colab": {
          "base_uri": "https://localhost:8080/"
        },
        "id": "yMBBwVGlXPe1",
        "outputId": "60d8ed93-9e72-43a5-a3fd-047253c79660"
      },
      "execution_count": null,
      "outputs": [
        {
          "output_type": "stream",
          "name": "stdout",
          "text": [
            "[[16. 16. 16. 16.]\n",
            " [16. 16. 16. 16.]\n",
            " [16. 16. 16. 16.]\n",
            " [16. 16. 16. 16.]]\n"
          ]
        }
      ]
    },
    {
      "cell_type": "markdown",
      "metadata": {
        "id": "Q3L_bddOx5ON"
      },
      "source": [
        "#### 88. How to implement the Game of Life using numpy arrays? (★★★)"
      ]
    },
    {
      "cell_type": "code",
      "execution_count": null,
      "metadata": {
        "id": "EYa5ZsUbx5ON"
      },
      "outputs": [],
      "source": []
    },
    {
      "cell_type": "markdown",
      "metadata": {
        "id": "EU16coIrx5ON"
      },
      "source": [
        "#### 89. How to get the n largest values of an array (★★★) \n",
        "(**hint**: np.argsort | np.argpartition)"
      ]
    },
    {
      "cell_type": "code",
      "execution_count": null,
      "metadata": {
        "id": "pFMuP78jx5ON",
        "colab": {
          "base_uri": "https://localhost:8080/"
        },
        "outputId": "4d1ab0e1-99b7-4b4b-966e-4b60ba4577ae"
      },
      "outputs": [
        {
          "output_type": "execute_result",
          "data": {
            "text/plain": [
              "array([ 91.,  92.,  93.,  94.,  95.,  96.,  97.,  98.,  99., 100.])"
            ]
          },
          "metadata": {},
          "execution_count": 209
        }
      ],
      "source": [
        "x=np.linspace(1,100,100)\n",
        "n=10\n",
        "x[np.argsort(x)[-n:]]"
      ]
    },
    {
      "cell_type": "markdown",
      "metadata": {
        "id": "vl9NTpNhx5OO"
      },
      "source": [
        "#### 90. Given an arbitrary number of vectors, build the cartesian product (every combinations of every item) (★★★) \n",
        "(**hint**: np.indices)"
      ]
    },
    {
      "cell_type": "code",
      "execution_count": null,
      "metadata": {
        "scrolled": true,
        "id": "uj_7Sh8fx5OO"
      },
      "outputs": [],
      "source": []
    },
    {
      "cell_type": "markdown",
      "metadata": {
        "id": "7pjJELzWx5OO"
      },
      "source": [
        "#### 91. How to create a record array from a regular array? (★★★) \n",
        "(**hint**: np.core.records.fromarrays)"
      ]
    },
    {
      "cell_type": "code",
      "execution_count": null,
      "metadata": {
        "id": "IoWn4VjBx5OO",
        "colab": {
          "base_uri": "https://localhost:8080/"
        },
        "outputId": "feaad890-9972-4871-9750-c7f3db383ed3"
      },
      "outputs": [
        {
          "output_type": "execute_result",
          "data": {
            "text/plain": [
              "rec.array([(b'Ano', 22, b'pas'), (b'Ran', 25, b'fai')],\n",
              "          dtype=[('a', 'S3'), ('b', '<i4'), ('c', 'S3')])"
            ]
          },
          "metadata": {},
          "execution_count": 210
        }
      ],
      "source": [
        "x=np.array([('Anoop',22,'pass'),('Randy',25,'fail')])\n",
        "np.core.records.fromarrays(x.T,names='a,b,c',dtype=np.dtype([('a','S3'),('b',np.int32),('c','S3')]))"
      ]
    },
    {
      "cell_type": "markdown",
      "metadata": {
        "id": "NY6ddRDxx5OO"
      },
      "source": [
        "#### 92. Consider a large vector Z, compute Z to the power of 3 using 3 different methods (★★★) \n",
        "(**hint**: np.power, \\*, np.einsum)"
      ]
    },
    {
      "cell_type": "code",
      "execution_count": null,
      "metadata": {
        "id": "rHjx7l14x5OO"
      },
      "outputs": [],
      "source": [
        "x=np.random.rand(100,100)\n",
        "print(np.power(x,3))\n",
        "print(x*x*x)\n",
        "print(np.einsum('i,i,i',x,x,x))"
      ]
    },
    {
      "cell_type": "markdown",
      "metadata": {
        "id": "gzHr9IMDx5OO"
      },
      "source": [
        "#### 93. Consider two arrays A and B of shape (8,3) and (2,2). How to find rows of A that contain elements of each row of B regardless of the order of the elements in B? (★★★) \n",
        "(**hint**: np.where)"
      ]
    },
    {
      "cell_type": "code",
      "execution_count": null,
      "metadata": {
        "id": "YPIacpW_x5OO",
        "colab": {
          "base_uri": "https://localhost:8080/"
        },
        "outputId": "7d02c321-d892-43b4-942d-ab9641359f36"
      },
      "outputs": [
        {
          "output_type": "execute_result",
          "data": {
            "text/plain": [
              "array([0, 1, 2, 3, 4, 5, 6, 7])"
            ]
          },
          "metadata": {},
          "execution_count": 212
        }
      ],
      "source": [
        "A = np.random.randint(0,5,(8,3))\n",
        "B = np.random.randint(0,5,(2,2))\n",
        "\n",
        "C = (A[..., np.newaxis, np.newaxis] == B)\n",
        "np.where(C.any((3,1)).all(1))[0]"
      ]
    },
    {
      "cell_type": "markdown",
      "metadata": {
        "id": "SZexzm5lx5OP"
      },
      "source": [
        "#### 94. Considering a 10x3 matrix, extract rows with unequal values (e.g. \\[2,2,3\\]) (★★★)"
      ]
    },
    {
      "cell_type": "code",
      "execution_count": null,
      "metadata": {
        "id": "8T2WS5rYx5OP"
      },
      "outputs": [],
      "source": []
    },
    {
      "cell_type": "markdown",
      "metadata": {
        "id": "9zZ_szBVx5OP"
      },
      "source": [
        "#### 95. Convert a vector of ints into a matrix binary representation (★★★) \n",
        "(**hint**: np.unpackbits)"
      ]
    },
    {
      "cell_type": "code",
      "execution_count": null,
      "metadata": {
        "id": "8NSguE2px5OP",
        "colab": {
          "base_uri": "https://localhost:8080/"
        },
        "outputId": "b52b80a0-72cd-463e-cb87-81520510dab3"
      },
      "outputs": [
        {
          "output_type": "execute_result",
          "data": {
            "text/plain": [
              "array([0, 0, 0, 0, 0, 1, 0, 1, 0, 0, 0, 0, 0, 0, 0, 1, 0, 0, 0, 0, 0, 0,\n",
              "       1, 0, 0, 0, 0, 0, 0, 1, 1, 0, 0, 0, 0, 0, 0, 1, 0, 0, 0, 0, 1, 1,\n",
              "       0, 1, 1, 1], dtype=uint8)"
            ]
          },
          "metadata": {},
          "execution_count": 213
        }
      ],
      "source": [
        "x= np.array([5,1,2,6,4,55],dtype=uint8)\n",
        "y=np.unpackbits(x)\n",
        "y"
      ]
    },
    {
      "cell_type": "markdown",
      "metadata": {
        "id": "oqp3lizbx5OP"
      },
      "source": [
        "#### 96. Given a two dimensional array, how to extract unique rows? (★★★) \n",
        "(**hint**: np.ascontiguousarray)"
      ]
    },
    {
      "cell_type": "code",
      "execution_count": null,
      "metadata": {
        "id": "eAJXoSicx5OP",
        "colab": {
          "base_uri": "https://localhost:8080/",
          "height": 200
        },
        "outputId": "1af08b0d-8fd9-4d96-8731-183946d1fed3"
      },
      "outputs": [
        {
          "output_type": "error",
          "ename": "IndexError",
          "evalue": "ignored",
          "traceback": [
            "\u001b[0;31m---------------------------------------------------------------------------\u001b[0m",
            "\u001b[0;31mIndexError\u001b[0m                                Traceback (most recent call last)",
            "\u001b[0;32m<ipython-input-214-64b76135cc07>\u001b[0m in \u001b[0;36m<module>\u001b[0;34m\u001b[0m\n\u001b[1;32m      2\u001b[0m \u001b[0mc\u001b[0m\u001b[0;34m=\u001b[0m\u001b[0mnp\u001b[0m\u001b[0;34m.\u001b[0m\u001b[0mascontiguousarray\u001b[0m\u001b[0;34m(\u001b[0m\u001b[0mm\u001b[0m\u001b[0;34m)\u001b[0m\u001b[0;34m\u001b[0m\u001b[0;34m\u001b[0m\u001b[0m\n\u001b[1;32m      3\u001b[0m \u001b[0m_\u001b[0m\u001b[0;34m,\u001b[0m\u001b[0my\u001b[0m\u001b[0;34m=\u001b[0m \u001b[0mnp\u001b[0m\u001b[0;34m.\u001b[0m\u001b[0munique\u001b[0m\u001b[0;34m(\u001b[0m\u001b[0mc\u001b[0m\u001b[0;34m,\u001b[0m\u001b[0mreturn_index\u001b[0m\u001b[0;34m=\u001b[0m\u001b[0;32mTrue\u001b[0m\u001b[0;34m)\u001b[0m\u001b[0;34m\u001b[0m\u001b[0;34m\u001b[0m\u001b[0m\n\u001b[0;32m----> 4\u001b[0;31m \u001b[0mm\u001b[0m\u001b[0;34m[\u001b[0m\u001b[0my\u001b[0m\u001b[0;34m]\u001b[0m\u001b[0;34m\u001b[0m\u001b[0;34m\u001b[0m\u001b[0m\n\u001b[0m",
            "\u001b[0;31mIndexError\u001b[0m: index 7 is out of bounds for axis 0 with size 5"
          ]
        }
      ],
      "source": [
        "m=np.random.randint(0,4,(5,5))\n",
        "c=np.ascontiguousarray(m)\n",
        "_,y= np.unique(c,return_index=True)\n",
        "m[y]"
      ]
    },
    {
      "cell_type": "markdown",
      "metadata": {
        "id": "ZsW6DbUkx5OP"
      },
      "source": [
        "#### 97. Considering 2 vectors A & B, write the einsum equivalent of inner, outer, sum, and mul function (★★★) \n",
        "(**hint**: np.einsum)"
      ]
    },
    {
      "cell_type": "code",
      "execution_count": null,
      "metadata": {
        "id": "NUMU-bMNx5OP",
        "colab": {
          "base_uri": "https://localhost:8080/"
        },
        "outputId": "127bf37f-961a-4273-eec6-bfa41cab5a8a"
      },
      "outputs": [
        {
          "output_type": "stream",
          "name": "stdout",
          "text": [
            "[4.97 3.98 2.77 3.83 2.88 0.53 0.61 4.69 3.06 2.75]\n",
            "216.43082880051844\n",
            "74.6833719915769\n",
            "[33.42 29.58 14.78 32.81 20.69  5.2   5.05 32.65 25.42 16.83]\n"
          ]
        }
      ],
      "source": [
        "x=np.random.uniform(0,5,10)\n",
        "y=np.random.uniform(5,10,10)\n",
        "print(np.einsum('i->i',x))\n",
        "print(np.einsum('i,i',x,y))\n",
        "print(np.einsum('i->',y))\n",
        "print(np.einsum('i,i->i',x,y))"
      ]
    },
    {
      "cell_type": "markdown",
      "metadata": {
        "id": "CHnlTIu3x5OP"
      },
      "source": [
        "#### 98. Considering a path described by two vectors (X,Y), how to sample it using equidistant samples (★★★)? \n",
        "(**hint**: np.cumsum, np.interp)"
      ]
    },
    {
      "cell_type": "code",
      "execution_count": null,
      "metadata": {
        "collapsed": true,
        "id": "9gZUCRfKx5OP"
      },
      "outputs": [],
      "source": []
    },
    {
      "cell_type": "markdown",
      "metadata": {
        "id": "qZr7Ikjsx5OP"
      },
      "source": [
        "#### 99. Given an integer n and a 2D array X, select from X the rows which can be interpreted as draws from a multinomial distribution with n degrees, i.e., the rows which only contain integers and which sum to n. (★★★) \n",
        "(**hint**: np.logical\\_and.reduce, np.mod)"
      ]
    },
    {
      "cell_type": "code",
      "execution_count": null,
      "metadata": {
        "id": "86QQ-phwx5OQ",
        "colab": {
          "base_uri": "https://localhost:8080/"
        },
        "outputId": "fcb42c8c-3133-42a1-d7b9-12f0ea60a227"
      },
      "outputs": [
        {
          "output_type": "execute_result",
          "data": {
            "text/plain": [
              "array([ 8, 65,  5, 52,  7])"
            ]
          },
          "metadata": {},
          "execution_count": 216
        }
      ],
      "source": [
        "x= np.array([[5,2,4,5,4],[8,65,5,52,7],[8,7,6,4,5]])\n",
        "n = 3\n",
        "m=np.logical_and.reduce(np.mod(x, 1) == 0, axis=-1)\n",
        "x[m][1,:]"
      ]
    },
    {
      "cell_type": "markdown",
      "metadata": {
        "id": "8KoYtCKGx5OQ"
      },
      "source": [
        "#### 100. Compute bootstrapped 95% confidence intervals for the mean of a 1D array X (i.e., resample the elements of an array with replacement N times, compute the mean of each sample, and then compute percentiles over the means). (★★★) \n",
        "(**hint**: np.percentile)"
      ]
    },
    {
      "cell_type": "code",
      "execution_count": null,
      "metadata": {
        "id": "zamJu9LXx5OQ"
      },
      "outputs": [],
      "source": []
    }
  ],
  "metadata": {
    "kernelspec": {
      "display_name": "Python 3",
      "language": "python",
      "name": "python3"
    },
    "language_info": {
      "codemirror_mode": {
        "name": "ipython",
        "version": 3
      },
      "file_extension": ".py",
      "mimetype": "text/x-python",
      "name": "python",
      "nbconvert_exporter": "python",
      "pygments_lexer": "ipython3",
      "version": "3.8.3"
    },
    "colab": {
      "provenance": [],
      "collapsed_sections": []
    }
  },
  "nbformat": 4,
  "nbformat_minor": 0
}